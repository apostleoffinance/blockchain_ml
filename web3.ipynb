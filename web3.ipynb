{
 "cells": [
  {
   "cell_type": "code",
   "execution_count": 4,
   "metadata": {},
   "outputs": [],
   "source": [
    "import requests\n",
    "import pandas as pd\n",
    "from dotenv import load_dotenv\n",
    "import time\n",
    "import os\n",
    "import plotly.express as px"
   ]
  },
  {
   "cell_type": "code",
   "execution_count": 5,
   "metadata": {},
   "outputs": [
    {
     "name": "stdout",
     "output_type": "stream",
     "text": [
      "7ef5b99e-c242-4e1d-b001-8ce9b3bbc0ba\n"
     ]
    }
   ],
   "source": [
    "load_dotenv()\n",
    "flipside_api_key = os.getenv(\"FLIPSIDE_API_KEY\") # or can use api key directly\n",
    "print(flipside_api_key)"
   ]
  },
  {
   "cell_type": "code",
   "execution_count": 6,
   "metadata": {},
   "outputs": [],
   "source": [
    "def flipside_api_results(query, api_key, attempts=10, delay=30):\n",
    "    \"\"\"\n",
    "    Creates and retrieves results for a query using Flipside's JSON-RPC API with pagination.\n",
    "\n",
    "    Parameters:\n",
    "    - query: str, the SQL query to execute.\n",
    "    - api_key: str, your Flipside API key.\n",
    "    - attempts: int, number of attempts to poll for query completion.\n",
    "    - delay: int, delay (in seconds) between polling attempts.\n",
    "\n",
    "    Returns:\n",
    "    - pd.DataFrame: DataFrame containing the query results.\n",
    "    \"\"\"\n",
    "    import requests\n",
    "    import time\n",
    "    import pandas as pd\n",
    "\n",
    "    # Step 1: Create the query\n",
    "    url = \"https://api-v2.flipsidecrypto.xyz/json-rpc\"\n",
    "    headers = {\n",
    "        \"Content-Type\": \"application/json\",\n",
    "        \"x-api-key\": api_key\n",
    "    }\n",
    "    payload = {\n",
    "        \"jsonrpc\": \"2.0\",\n",
    "        \"method\": \"createQueryRun\",\n",
    "        \"params\": [\n",
    "            {\n",
    "                \"resultTTLHours\": 1,\n",
    "                \"maxAgeMinutes\": 0,\n",
    "                \"sql\": query,\n",
    "                \"tags\": {\"source\": \"python-script\", \"env\": \"production\"},\n",
    "                \"dataSource\": \"snowflake-default\",\n",
    "                \"dataProvider\": \"flipside\"\n",
    "            }\n",
    "        ],\n",
    "        \"id\": 1\n",
    "    }\n",
    "\n",
    "    response = requests.post(url, headers=headers, json=payload)\n",
    "    response_data = response.json()\n",
    "    print(response_data)\n",
    "\n",
    "    if 'error' in response_data:\n",
    "        raise Exception(f\"Error creating query: {response_data['error']['message']}\")\n",
    "\n",
    "    query_run_id = response_data.get('result', {}).get('queryRun', {}).get('id')\n",
    "    if not query_run_id:\n",
    "        raise KeyError(f\"Query creation failed. Response: {response_data}\")\n",
    "\n",
    "    # Step 2: Poll for query completion\n",
    "    for attempt in range(attempts):\n",
    "        status_payload = {\n",
    "            \"jsonrpc\": \"2.0\",\n",
    "            \"method\": \"getQueryRunResults\",\n",
    "            \"params\": [\n",
    "                {\n",
    "                    \"queryRunId\": query_run_id,\n",
    "                    \"format\": \"json\",\n",
    "                    \"page\": {\"number\": 1, \"size\": 10000}\n",
    "                }\n",
    "            ],\n",
    "            \"id\": 1\n",
    "        }\n",
    "        response = requests.post(url, headers=headers, json=status_payload)\n",
    "        resp_json = response.json()\n",
    "\n",
    "        if 'result' in resp_json and 'rows' in resp_json['result']:\n",
    "            # Step 3: Handle pagination\n",
    "            all_rows = []\n",
    "            page_number = 1\n",
    "\n",
    "            while True:\n",
    "                status_payload[\"params\"][0][\"page\"][\"number\"] = page_number\n",
    "                response = requests.post(url, headers=headers, json=status_payload)\n",
    "                resp_json = response.json()\n",
    "\n",
    "                if 'result' in resp_json and 'rows' in resp_json['result']:\n",
    "                    rows = resp_json['result']['rows']\n",
    "                    if not rows:\n",
    "                        break  # No more rows to fetch\n",
    "                    all_rows.extend(rows)\n",
    "                    page_number += 1\n",
    "                else:\n",
    "                    break\n",
    "\n",
    "            # Convert the rows to a DataFrame\n",
    "            return pd.DataFrame(all_rows)\n",
    "\n",
    "        if 'error' in resp_json and 'not yet completed' in resp_json['error'].get('message', '').lower():\n",
    "            time.sleep(delay)  # Wait before retrying\n",
    "        else:\n",
    "            raise Exception(f\"Unexpected error while fetching query results: {resp_json}\")\n",
    "\n",
    "    raise TimeoutError(f\"Query did not complete after {attempts} attempts.\")\n"
   ]
  },
  {
   "cell_type": "code",
   "execution_count": 7,
   "metadata": {},
   "outputs": [
    {
     "data": {
      "text/plain": [
       "\"Run the query against Flipside's query engine and await the results\""
      ]
     },
     "execution_count": 7,
     "metadata": {},
     "output_type": "execute_result"
    }
   ],
   "source": [
    "query = \"\"\"WITH RECURSIVE date_series AS (\n",
    "  SELECT\n",
    "    '2024-02-01' :: DATE AS day\n",
    "  UNION\n",
    "  ALL\n",
    "  SELECT\n",
    "    day + INTERVAL '1 day'\n",
    "  FROM\n",
    "    date_series\n",
    "  WHERE\n",
    "    day < CURRENT_DATE\n",
    "),\n",
    "traders AS (\n",
    "  SELECT\n",
    "    ORIGIN_FROM_ADDRESS,\n",
    "    SUM(AMOUNT_OUT_USD) AS Volume\n",
    "  FROM\n",
    "    ethereum.defi.ez_dex_swaps\n",
    "  GROUP BY\n",
    "    ORIGIN_FROM_ADDRESS\n",
    "  HAVING\n",
    "    SUM(AMOUNT_OUT_USD) > 10000000\n",
    "    AND MIN(BLOCK_TIMESTAMP) >= '2024-02-01'\n",
    "    AND MIN(BLOCK_TIMESTAMP) < '2024-03-01'\n",
    "  ORDER BY\n",
    "    SUM(AMOUNT_OUT_USD) DESC\n",
    "  LIMIT\n",
    "    500\n",
    "),\n",
    "symbols AS (\n",
    "  SELECT\n",
    "    DISTINCT SYMBOL,\n",
    "    COALESCE(\n",
    "      CONTRACT_ADDRESS,\n",
    "      '0xC02aaA39b223FE8D0A0e5C4F27eAD9083C756Cc2'\n",
    "    ) AS token_contract\n",
    "  FROM\n",
    "    ethereum.core.ez_balance_deltas\n",
    "  WHERE\n",
    "    USER_ADDRESS IN (\n",
    "      SELECT DISTINCT ORIGIN_FROM_ADDRESS FROM traders\n",
    "    )\n",
    "    AND HAS_PRICE = TRUE\n",
    "),\n",
    "daily_balances AS (\n",
    "  SELECT\n",
    "    DATE_TRUNC('day', BLOCK_TIMESTAMP) AS day,\n",
    "    SYMBOL,\n",
    "    CURRENT_BAL AS daily_balance,\n",
    "    COALESCE(\n",
    "      CONTRACT_ADDRESS,\n",
    "      '0xC02aaA39b223FE8D0A0e5C4F27eAD9083C756Cc2'\n",
    "    ) AS token_contract,\n",
    "    BLOCK_TIMESTAMP,\n",
    "    USER_ADDRESS\n",
    "  FROM\n",
    "    ethereum.core.ez_balance_deltas\n",
    "  WHERE\n",
    "    USER_ADDRESS IN (\n",
    "      SELECT DISTINCT ORIGIN_FROM_ADDRESS FROM traders\n",
    "    )\n",
    "    AND HAS_PRICE = TRUE\n",
    "),\n",
    "ranked_balances AS (\n",
    "  SELECT\n",
    "    day,\n",
    "    SYMBOL,\n",
    "    daily_balance,\n",
    "    token_contract,\n",
    "    USER_ADDRESS,\n",
    "    ROW_NUMBER() OVER (\n",
    "      PARTITION BY token_contract, day\n",
    "      ORDER BY BLOCK_TIMESTAMP DESC\n",
    "    ) AS rn\n",
    "  FROM\n",
    "    daily_balances\n",
    "),\n",
    "filtered_balances AS (\n",
    "  SELECT\n",
    "    day,\n",
    "    SYMBOL,\n",
    "    daily_balance,\n",
    "    token_contract,\n",
    "    USER_ADDRESS\n",
    "  FROM\n",
    "    ranked_balances\n",
    "  WHERE\n",
    "    rn = 1\n",
    "),\n",
    "filled_balances AS (\n",
    "  SELECT\n",
    "    ds.day,\n",
    "    s.SYMBOL,\n",
    "    COALESCE(fb.daily_balance, 0) AS filled_balance,\n",
    "    fb.USER_ADDRESS,\n",
    "    CASE\n",
    "      WHEN s.SYMBOL = 'ETH' THEN LOWER('0xC02aaA39b223FE8D0A0e5C4F27eAD9083C756Cc2')\n",
    "      ELSE fb.token_contract\n",
    "    END AS token_contract\n",
    "  FROM\n",
    "    date_series ds\n",
    "    CROSS JOIN symbols s\n",
    "    LEFT JOIN filtered_balances fb ON fb.day <= ds.day\n",
    "    AND fb.SYMBOL = s.SYMBOL QUALIFY ROW_NUMBER() OVER (\n",
    "      PARTITION BY ds.day, s.SYMBOL\n",
    "      ORDER BY fb.day DESC\n",
    "    ) = 1\n",
    "),\n",
    "latest_prices AS (\n",
    "  SELECT\n",
    "    DATE_TRUNC('day', hour) AS day,\n",
    "    TOKEN_ADDRESS,\n",
    "    PERCENTILE_CONT(0.5) WITHIN GROUP (ORDER BY PRICE) AS price\n",
    "  FROM\n",
    "    ethereum.price.ez_prices_hourly\n",
    "  GROUP BY\n",
    "    DATE_TRUNC('day', hour), TOKEN_ADDRESS\n",
    "),\n",
    "balances_with_prices AS (\n",
    "  SELECT\n",
    "    fb.day,\n",
    "    fb.SYMBOL,\n",
    "    fb.filled_balance,\n",
    "    USER_ADDRESS,\n",
    "    lp.PRICE AS daily_price,\n",
    "    fb.filled_balance * lp.PRICE AS value_in_usd\n",
    "  FROM\n",
    "    filled_balances fb\n",
    "    LEFT JOIN latest_prices lp ON lp.TOKEN_ADDRESS = fb.token_contract\n",
    "    AND lp.day = fb.day\n",
    "),\n",
    "aggregated_by_day AS (\n",
    "  SELECT\n",
    "    day,\n",
    "    daily_price,\n",
    "    SYMBOL,\n",
    "    USER_ADDRESS,\n",
    "    SUM(filled_balance) AS total_filled_balance,\n",
    "    SUM(value_in_usd) AS total_value_in_usd\n",
    "  FROM\n",
    "    balances_with_prices\n",
    "  GROUP BY\n",
    "    day, SYMBOL, USER_ADDRESS, daily_price\n",
    "),\n",
    "aggregated_added AS (\n",
    "  SELECT\n",
    "    a.day,\n",
    "    a.SYMBOL,\n",
    "    a.daily_price,\n",
    "    a.total_filled_balance,\n",
    "    a.USER_ADDRESS,\n",
    "    a.total_value_in_usd,\n",
    "    SUM(a.total_value_in_usd) OVER (PARTITION BY a.day, a.USER_ADDRESS) AS total_usd_in_treasury\n",
    "  FROM\n",
    "    aggregated_by_day a\n",
    "  WHERE\n",
    "    a.day <= CURRENT_DATE - 1\n",
    "    AND a.daily_price > 0\n",
    "  ORDER BY\n",
    "    a.day DESC, a.SYMBOL\n",
    "),\n",
    "aggregated_added2 AS (\n",
    "  SELECT\n",
    "    *,\n",
    "    total_value_in_usd / NULLIF(total_usd_in_treasury, 0) AS composition\n",
    "  FROM\n",
    "    aggregated_added\n",
    "  ORDER BY\n",
    "    day DESC, SYMBOL, USER_ADDRESS\n",
    "),\n",
    "daily_returns AS (\n",
    "  SELECT\n",
    "    day,\n",
    "    SYMBOL,\n",
    "    daily_price,\n",
    "    composition,\n",
    "    total_filled_balance,\n",
    "    total_usd_in_treasury,\n",
    "    USER_ADDRESS,\n",
    "    LAG(daily_price) OVER (PARTITION BY SYMBOL ORDER BY day) AS prev_day_price,\n",
    "    (daily_price - LAG(daily_price) OVER (PARTITION BY SYMBOL ORDER BY day)) / LAG(daily_price) OVER (PARTITION BY SYMBOL ORDER BY day) AS daily_return\n",
    "  FROM\n",
    "    aggregated_added2\n",
    "),\n",
    "weighted_daily_returns AS (\n",
    "  SELECT\n",
    "    day,\n",
    "    USER_ADDRESS,\n",
    "    daily_return,\n",
    "    SUM(daily_return * composition) AS weighted_daily_return\n",
    "  FROM\n",
    "    daily_returns\n",
    "  GROUP BY\n",
    "    day, USER_ADDRESS, daily_return\n",
    "),\n",
    "cumulative_returns AS (\n",
    "  SELECT\n",
    "    day,\n",
    "    daily_return,\n",
    "    weighted_daily_return,\n",
    "    USER_ADDRESS,\n",
    "    (1 + weighted_daily_return) AS daily_factor,\n",
    "    EXP(SUM(LN(1 + weighted_daily_return)) OVER (PARTITION BY USER_ADDRESS ORDER BY day ASC)) - 1 AS cumulative_return\n",
    "  FROM\n",
    "    weighted_daily_returns\n",
    "),\n",
    "base_return AS (\n",
    "  SELECT\n",
    "    day,\n",
    "    USER_ADDRESS,\n",
    "    daily_return,\n",
    "    cumulative_return AS base_cumulative_return\n",
    "  FROM\n",
    "    cumulative_returns\n",
    "  WHERE\n",
    "    cumulative_return IS NOT NULL\n",
    "),\n",
    "normalized_returns AS (\n",
    "  SELECT\n",
    "    day,\n",
    "    USER_ADDRESS,\n",
    "    daily_return,\n",
    "    base_cumulative_return,\n",
    "    100 + (100 * (base_cumulative_return - FIRST_VALUE(base_cumulative_return) OVER (PARTITION BY USER_ADDRESS ORDER BY day ASC))) AS portfolio_return\n",
    "  FROM\n",
    "    base_return\n",
    "),\n",
    "return_stats AS (\n",
    "  SELECT\n",
    "    day,\n",
    "    USER_ADDRESS,\n",
    "    base_cumulative_return,\n",
    "    portfolio_return,\n",
    "    AVG(portfolio_return) OVER (PARTITION BY USER_ADDRESS ORDER BY day ASC) AS avg_daily_return,\n",
    "    STDDEV(portfolio_return) OVER (PARTITION BY USER_ADDRESS ORDER BY day ASC) AS stddev_return\n",
    "  FROM\n",
    "    normalized_returns\n",
    "),\n",
    "sharpe_ratio AS (\n",
    "  SELECT\n",
    "    day,\n",
    "    USER_ADDRESS,\n",
    "    base_cumulative_return,\n",
    "    portfolio_return,\n",
    "    NULLIF((portfolio_return - 0.0430 / 365) / NULLIF(STDDEV(portfolio_return) OVER (PARTITION BY USER_ADDRESS ORDER BY day ASC), 0), 0) AS daily_sharpe_ratio\n",
    "  FROM\n",
    "    return_stats\n",
    "),\n",
    "trade_counts AS (\n",
    "  SELECT\n",
    "    DATE_TRUNC('day', BLOCK_TIMESTAMP) AS day,\n",
    "    ORIGIN_FROM_ADDRESS AS USER_ADDRESS,\n",
    "    COUNT(DISTINCT tx_hash) AS number_of_trades\n",
    "  FROM\n",
    "    ethereum.defi.ez_dex_swaps\n",
    "  GROUP BY\n",
    "    day, ORIGIN_FROM_ADDRESS\n",
    "),\n",
    "\n",
    "tokens_traded AS (\n",
    "  SELECT\n",
    "    DATE_TRUNC('day', BLOCK_TIMESTAMP) AS day,\n",
    "    ORIGIN_FROM_ADDRESS AS USER_ADDRESS,\n",
    "    COUNT(DISTINCT SYMBOL_OUT) AS unique_tokens_traded\n",
    "  FROM\n",
    "    ethereum.defi.ez_dex_swaps\n",
    "  GROUP BY\n",
    "    day, ORIGIN_FROM_ADDRESS\n",
    "),\n",
    "\n",
    "final_normalized_returns AS (\n",
    "  SELECT\n",
    "    sr.day,\n",
    "    sr.USER_ADDRESS,\n",
    "    sr.base_cumulative_return,\n",
    "    sr.portfolio_return,\n",
    "    sr.daily_sharpe_ratio,\n",
    "    CASE\n",
    "      WHEN AVG(sr.portfolio_return) > 120 AND sr.daily_sharpe_ratio > 1.5 THEN 'Good Trader'\n",
    "      WHEN AVG(sr.portfolio_return) BETWEEN 100 AND 120 THEN 'Average Trader'\n",
    "      WHEN AVG(sr.portfolio_return) < 100 THEN 'Bad Trader'\n",
    "    END AS trader_class\n",
    "  FROM\n",
    "    sharpe_ratio sr\n",
    "  WHERE\n",
    "    sr.daily_sharpe_ratio IS NOT NULL\n",
    "  GROUP BY\n",
    "    sr.day, sr.USER_ADDRESS, sr.base_cumulative_return, sr.portfolio_return, sr.daily_sharpe_ratio\n",
    ")\n",
    "\n",
    "SELECT\n",
    "  fnr.day,\n",
    "  fnr.USER_ADDRESS,\n",
    "  fnr.base_cumulative_return,\n",
    "  fnr.portfolio_return,\n",
    "  fnr.daily_sharpe_ratio,\n",
    "  fnr.trader_class,\n",
    "  tc.number_of_trades,\n",
    "  tt.unique_tokens_traded\n",
    "FROM\n",
    "  final_normalized_returns fnr\n",
    "  LEFT JOIN trade_counts tc ON tc.day = fnr.day AND tc.USER_ADDRESS = fnr.USER_ADDRESS\n",
    "  LEFT JOIN tokens_traded tt ON tt.day = fnr.day AND tt.USER_ADDRESS = fnr.USER_ADDRESS;\n",
    "\"\"\"\n",
    "\"\"\"Run the query against Flipside's query engine and await the results\"\"\""
   ]
  },
  {
   "cell_type": "code",
   "execution_count": 8,
   "metadata": {},
   "outputs": [
    {
     "name": "stdout",
     "output_type": "stream",
     "text": [
      "{'jsonrpc': '2.0', 'id': 1, 'result': {'queryRequest': {'id': 'cm3xd1uuz55ah5ptlp876gr8g', 'sqlStatementId': 'cm3dpozwlaolv7pnfy7feqqyj', 'userId': 'clscddgtu071com0xejwdxw78', 'tags': {'env': 'production', 'source': 'python-script'}, 'maxAgeMinutes': 0, 'resultTTLHours': 1, 'userSkipCache': True, 'triggeredQueryRun': True, 'queryRunId': 'cm3xd1uu655af5ptlujud2t34', 'createdAt': '2024-11-25T18:27:43.000Z', 'updatedAt': '2024-11-25T18:27:43.000Z'}, 'queryRun': {'id': 'cm3xd1uu655af5ptlujud2t34', 'sqlStatementId': 'cm3dpozwlaolv7pnfy7feqqyj', 'state': 'QUERY_STATE_READY', 'path': '2024/11/25/18/cm3xd1uu655af5ptlujud2t34', 'fileCount': None, 'lastFileNumber': None, 'fileNames': None, 'errorName': None, 'errorMessage': None, 'errorData': None, 'externalQueryId': None, 'dataSourceQueryId': None, 'dataSourceSessionId': None, 'startedAt': None, 'queryRunningEndedAt': None, 'queryStreamingEndedAt': None, 'endedAt': None, 'rowCount': None, 'totalSize': None, 'tags': {'env': 'production', 'source': 'python-script'}, 'dataSourceId': 'clf90gwee0002jvbu63diaa8u', 'userId': 'clscddgtu071com0xejwdxw78', 'createdAt': '2024-11-25T18:27:43.000Z', 'updatedAt': '2024-11-25T18:27:43.000Z', 'archivedAt': None, 'rowsPerResultSet': 20000000, 'statementTimeoutSeconds': 900, 'abortDetachedQuery': True}, 'sqlStatement': {'id': 'cm3dpozwlaolv7pnfy7feqqyj', 'statementHash': '0d31e2aec70e5f896f53c6c13e9c156cb47347f26a2eaf74e540362954469c71', 'sql': \"WITH RECURSIVE date_series AS (\\n  SELECT\\n    '2024-02-01' :: DATE AS day\\n  UNION\\n  ALL\\n  SELECT\\n    day + INTERVAL '1 day'\\n  FROM\\n    date_series\\n  WHERE\\n    day < CURRENT_DATE\\n),\\ntraders AS (\\n  SELECT\\n    ORIGIN_FROM_ADDRESS,\\n    SUM(AMOUNT_OUT_USD) AS Volume\\n  FROM\\n    ethereum.defi.ez_dex_swaps\\n  GROUP BY\\n    ORIGIN_FROM_ADDRESS\\n  HAVING\\n    SUM(AMOUNT_OUT_USD) > 10000000\\n    AND MIN(BLOCK_TIMESTAMP) >= '2024-02-01'\\n    AND MIN(BLOCK_TIMESTAMP) < '2024-03-01'\\n  ORDER BY\\n    SUM(AMOUNT_OUT_USD) DESC\\n  LIMIT\\n    500\\n),\\nsymbols AS (\\n  SELECT\\n    DISTINCT SYMBOL,\\n    COALESCE(\\n      CONTRACT_ADDRESS,\\n      '0xC02aaA39b223FE8D0A0e5C4F27eAD9083C756Cc2'\\n    ) AS token_contract\\n  FROM\\n    ethereum.core.ez_balance_deltas\\n  WHERE\\n    USER_ADDRESS IN (\\n      SELECT DISTINCT ORIGIN_FROM_ADDRESS FROM traders\\n    )\\n    AND HAS_PRICE = TRUE\\n),\\ndaily_balances AS (\\n  SELECT\\n    DATE_TRUNC('day', BLOCK_TIMESTAMP) AS day,\\n    SYMBOL,\\n    CURRENT_BAL AS daily_balance,\\n    COALESCE(\\n      CONTRACT_ADDRESS,\\n      '0xC02aaA39b223FE8D0A0e5C4F27eAD9083C756Cc2'\\n    ) AS token_contract,\\n    BLOCK_TIMESTAMP,\\n    USER_ADDRESS\\n  FROM\\n    ethereum.core.ez_balance_deltas\\n  WHERE\\n    USER_ADDRESS IN (\\n      SELECT DISTINCT ORIGIN_FROM_ADDRESS FROM traders\\n    )\\n    AND HAS_PRICE = TRUE\\n),\\nranked_balances AS (\\n  SELECT\\n    day,\\n    SYMBOL,\\n    daily_balance,\\n    token_contract,\\n    USER_ADDRESS,\\n    ROW_NUMBER() OVER (\\n      PARTITION BY token_contract, day\\n      ORDER BY BLOCK_TIMESTAMP DESC\\n    ) AS rn\\n  FROM\\n    daily_balances\\n),\\nfiltered_balances AS (\\n  SELECT\\n    day,\\n    SYMBOL,\\n    daily_balance,\\n    token_contract,\\n    USER_ADDRESS\\n  FROM\\n    ranked_balances\\n  WHERE\\n    rn = 1\\n),\\nfilled_balances AS (\\n  SELECT\\n    ds.day,\\n    s.SYMBOL,\\n    COALESCE(fb.daily_balance, 0) AS filled_balance,\\n    fb.USER_ADDRESS,\\n    CASE\\n      WHEN s.SYMBOL = 'ETH' THEN LOWER('0xC02aaA39b223FE8D0A0e5C4F27eAD9083C756Cc2')\\n      ELSE fb.token_contract\\n    END AS token_contract\\n  FROM\\n    date_series ds\\n    CROSS JOIN symbols s\\n    LEFT JOIN filtered_balances fb ON fb.day <= ds.day\\n    AND fb.SYMBOL = s.SYMBOL QUALIFY ROW_NUMBER() OVER (\\n      PARTITION BY ds.day, s.SYMBOL\\n      ORDER BY fb.day DESC\\n    ) = 1\\n),\\nlatest_prices AS (\\n  SELECT\\n    DATE_TRUNC('day', hour) AS day,\\n    TOKEN_ADDRESS,\\n    PERCENTILE_CONT(0.5) WITHIN GROUP (ORDER BY PRICE) AS price\\n  FROM\\n    ethereum.price.ez_prices_hourly\\n  GROUP BY\\n    DATE_TRUNC('day', hour), TOKEN_ADDRESS\\n),\\nbalances_with_prices AS (\\n  SELECT\\n    fb.day,\\n    fb.SYMBOL,\\n    fb.filled_balance,\\n    USER_ADDRESS,\\n    lp.PRICE AS daily_price,\\n    fb.filled_balance * lp.PRICE AS value_in_usd\\n  FROM\\n    filled_balances fb\\n    LEFT JOIN latest_prices lp ON lp.TOKEN_ADDRESS = fb.token_contract\\n    AND lp.day = fb.day\\n),\\naggregated_by_day AS (\\n  SELECT\\n    day,\\n    daily_price,\\n    SYMBOL,\\n    USER_ADDRESS,\\n    SUM(filled_balance) AS total_filled_balance,\\n    SUM(value_in_usd) AS total_value_in_usd\\n  FROM\\n    balances_with_prices\\n  GROUP BY\\n    day, SYMBOL, USER_ADDRESS, daily_price\\n),\\naggregated_added AS (\\n  SELECT\\n    a.day,\\n    a.SYMBOL,\\n    a.daily_price,\\n    a.total_filled_balance,\\n    a.USER_ADDRESS,\\n    a.total_value_in_usd,\\n    SUM(a.total_value_in_usd) OVER (PARTITION BY a.day, a.USER_ADDRESS) AS total_usd_in_treasury\\n  FROM\\n    aggregated_by_day a\\n  WHERE\\n    a.day <= CURRENT_DATE - 1\\n    AND a.daily_price > 0\\n  ORDER BY\\n    a.day DESC, a.SYMBOL\\n),\\naggregated_added2 AS (\\n  SELECT\\n    *,\\n    total_value_in_usd / NULLIF(total_usd_in_treasury, 0) AS composition\\n  FROM\\n    aggregated_added\\n  ORDER BY\\n    day DESC, SYMBOL, USER_ADDRESS\\n),\\ndaily_returns AS (\\n  SELECT\\n    day,\\n    SYMBOL,\\n    daily_price,\\n    composition,\\n    total_filled_balance,\\n    total_usd_in_treasury,\\n    USER_ADDRESS,\\n    LAG(daily_price) OVER (PARTITION BY SYMBOL ORDER BY day) AS prev_day_price,\\n    (daily_price - LAG(daily_price) OVER (PARTITION BY SYMBOL ORDER BY day)) / LAG(daily_price) OVER (PARTITION BY SYMBOL ORDER BY day) AS daily_return\\n  FROM\\n    aggregated_added2\\n),\\nweighted_daily_returns AS (\\n  SELECT\\n    day,\\n    USER_ADDRESS,\\n    daily_return,\\n    SUM(daily_return * composition) AS weighted_daily_return\\n  FROM\\n    daily_returns\\n  GROUP BY\\n    day, USER_ADDRESS, daily_return\\n),\\ncumulative_returns AS (\\n  SELECT\\n    day,\\n    daily_return,\\n    weighted_daily_return,\\n    USER_ADDRESS,\\n    (1 + weighted_daily_return) AS daily_factor,\\n    EXP(SUM(LN(1 + weighted_daily_return)) OVER (PARTITION BY USER_ADDRESS ORDER BY day ASC)) - 1 AS cumulative_return\\n  FROM\\n    weighted_daily_returns\\n),\\nbase_return AS (\\n  SELECT\\n    day,\\n    USER_ADDRESS,\\n    daily_return,\\n    cumulative_return AS base_cumulative_return\\n  FROM\\n    cumulative_returns\\n  WHERE\\n    cumulative_return IS NOT NULL\\n),\\nnormalized_returns AS (\\n  SELECT\\n    day,\\n    USER_ADDRESS,\\n    daily_return,\\n    base_cumulative_return,\\n    100 + (100 * (base_cumulative_return - FIRST_VALUE(base_cumulative_return) OVER (PARTITION BY USER_ADDRESS ORDER BY day ASC))) AS portfolio_return\\n  FROM\\n    base_return\\n),\\nreturn_stats AS (\\n  SELECT\\n    day,\\n    USER_ADDRESS,\\n    base_cumulative_return,\\n    portfolio_return,\\n    AVG(portfolio_return) OVER (PARTITION BY USER_ADDRESS ORDER BY day ASC) AS avg_daily_return,\\n    STDDEV(portfolio_return) OVER (PARTITION BY USER_ADDRESS ORDER BY day ASC) AS stddev_return\\n  FROM\\n    normalized_returns\\n),\\nsharpe_ratio AS (\\n  SELECT\\n    day,\\n    USER_ADDRESS,\\n    base_cumulative_return,\\n    portfolio_return,\\n    NULLIF((portfolio_return - 0.0430 / 365) / NULLIF(STDDEV(portfolio_return) OVER (PARTITION BY USER_ADDRESS ORDER BY day ASC), 0), 0) AS daily_sharpe_ratio\\n  FROM\\n    return_stats\\n),\\ntrade_counts AS (\\n  SELECT\\n    DATE_TRUNC('day', BLOCK_TIMESTAMP) AS day,\\n    ORIGIN_FROM_ADDRESS AS USER_ADDRESS,\\n    COUNT(DISTINCT tx_hash) AS number_of_trades\\n  FROM\\n    ethereum.defi.ez_dex_swaps\\n  GROUP BY\\n    day, ORIGIN_FROM_ADDRESS\\n),\\n\\ntokens_traded AS (\\n  SELECT\\n    DATE_TRUNC('day', BLOCK_TIMESTAMP) AS day,\\n    ORIGIN_FROM_ADDRESS AS USER_ADDRESS,\\n    COUNT(DISTINCT SYMBOL_OUT) AS unique_tokens_traded\\n  FROM\\n    ethereum.defi.ez_dex_swaps\\n  GROUP BY\\n    day, ORIGIN_FROM_ADDRESS\\n),\\n\\nfinal_normalized_returns AS (\\n  SELECT\\n    sr.day,\\n    sr.USER_ADDRESS,\\n    sr.base_cumulative_return,\\n    sr.portfolio_return,\\n    sr.daily_sharpe_ratio,\\n    CASE\\n      WHEN AVG(sr.portfolio_return) > 120 AND sr.daily_sharpe_ratio > 1.5 THEN 'Good Trader'\\n      WHEN AVG(sr.portfolio_return) BETWEEN 100 AND 120 THEN 'Average Trader'\\n      WHEN AVG(sr.portfolio_return) < 100 THEN 'Bad Trader'\\n    END AS trader_class\\n  FROM\\n    sharpe_ratio sr\\n  WHERE\\n    sr.daily_sharpe_ratio IS NOT NULL\\n  GROUP BY\\n    sr.day, sr.USER_ADDRESS, sr.base_cumulative_return, sr.portfolio_return, sr.daily_sharpe_ratio\\n)\\n\\nSELECT\\n  fnr.day,\\n  fnr.USER_ADDRESS,\\n  fnr.base_cumulative_return,\\n  fnr.portfolio_return,\\n  fnr.daily_sharpe_ratio,\\n  fnr.trader_class,\\n  tc.number_of_trades,\\n  tt.unique_tokens_traded\\nFROM\\n  final_normalized_returns fnr\\n  LEFT JOIN trade_counts tc ON tc.day = fnr.day AND tc.USER_ADDRESS = fnr.USER_ADDRESS\\n  LEFT JOIN tokens_traded tt ON tt.day = fnr.day AND tt.USER_ADDRESS = fnr.USER_ADDRESS\\n\", 'columnMetadata': {'types': ['date', 'text', 'real', 'real', 'real', 'text', 'fixed', 'fixed', 'fixed'], 'columns': ['DAY', 'USER_ADDRESS', 'BASE_CUMULATIVE_RETURN', 'PORTFOLIO_RETURN', 'DAILY_SHARPE_RATIO', 'TRADER_CLASS', 'NUMBER_OF_TRADES', 'UNIQUE_TOKENS_TRADED', '__ROW_INDEX'], 'colTypeMap': {'DAY': 'date', '__ROW_INDEX': 'fixed', 'TRADER_CLASS': 'text', 'USER_ADDRESS': 'text', 'NUMBER_OF_TRADES': 'fixed', 'PORTFOLIO_RETURN': 'real', 'DAILY_SHARPE_RATIO': 'real', 'UNIQUE_TOKENS_TRADED': 'fixed', 'BASE_CUMULATIVE_RETURN': 'real'}}, 'userId': 'clf8qd1mg0004jv0853ov46k7', 'tags': {'env': 'production', 'queryId': '1a903c7f-02bb-49cb-97af-307d9827f590', 'dashboardId': None, 'executionType': 'REALTIME', 'ownerProfileId': 'fea6da9e-df45-4724-9855-750bb1497bdc', 'billToProfileId': None, 'executedAsUserId': '70beb483-913d-4ee4-a590-39aa6c1faab0'}, 'createdAt': '2024-11-12T00:26:14.000Z', 'updatedAt': '2024-11-12T00:26:14.000Z'}}}\n"
     ]
    }
   ],
   "source": [
    "df = flipside_api_results(query,flipside_api_key)"
   ]
  },
  {
   "cell_type": "code",
   "execution_count": 9,
   "metadata": {},
   "outputs": [
    {
     "data": {
      "text/html": [
       "<div>\n",
       "<style scoped>\n",
       "    .dataframe tbody tr th:only-of-type {\n",
       "        vertical-align: middle;\n",
       "    }\n",
       "\n",
       "    .dataframe tbody tr th {\n",
       "        vertical-align: top;\n",
       "    }\n",
       "\n",
       "    .dataframe thead th {\n",
       "        text-align: right;\n",
       "    }\n",
       "</style>\n",
       "<table border=\"1\" class=\"dataframe\">\n",
       "  <thead>\n",
       "    <tr style=\"text-align: right;\">\n",
       "      <th></th>\n",
       "      <th>day</th>\n",
       "      <th>user_address</th>\n",
       "      <th>base_cumulative_return</th>\n",
       "      <th>portfolio_return</th>\n",
       "      <th>daily_sharpe_ratio</th>\n",
       "      <th>trader_class</th>\n",
       "      <th>number_of_trades</th>\n",
       "      <th>unique_tokens_traded</th>\n",
       "    </tr>\n",
       "  </thead>\n",
       "  <tbody>\n",
       "    <tr>\n",
       "      <th>0</th>\n",
       "      <td>2024-05-10T00:00:00.000Z</td>\n",
       "      <td>0xe22ea5b777f20ffb64e1516661ace5c4e9a1f23d</td>\n",
       "      <td>-0.049529</td>\n",
       "      <td>93.716634</td>\n",
       "      <td>73.040066</td>\n",
       "      <td>Bad Trader</td>\n",
       "      <td>NaN</td>\n",
       "      <td>NaN</td>\n",
       "    </tr>\n",
       "    <tr>\n",
       "      <th>1</th>\n",
       "      <td>2024-09-15T00:00:00.000Z</td>\n",
       "      <td>0xa76b6a7aa1b4501e6edcb29898e1ce4b9784e81c</td>\n",
       "      <td>-0.837154</td>\n",
       "      <td>14.322205</td>\n",
       "      <td>0.421474</td>\n",
       "      <td>Bad Trader</td>\n",
       "      <td>NaN</td>\n",
       "      <td>NaN</td>\n",
       "    </tr>\n",
       "    <tr>\n",
       "      <th>2</th>\n",
       "      <td>2024-09-29T00:00:00.000Z</td>\n",
       "      <td>0xb7dab94552302bcdff309e541d51ad203cbd7042</td>\n",
       "      <td>-0.448353</td>\n",
       "      <td>53.095413</td>\n",
       "      <td>1.806804</td>\n",
       "      <td>Bad Trader</td>\n",
       "      <td>NaN</td>\n",
       "      <td>NaN</td>\n",
       "    </tr>\n",
       "    <tr>\n",
       "      <th>3</th>\n",
       "      <td>2024-10-12T00:00:00.000Z</td>\n",
       "      <td>0x3e55457808fb552a7f1989d68c9daf5d3a51c027</td>\n",
       "      <td>-0.432623</td>\n",
       "      <td>60.820272</td>\n",
       "      <td>3.565700</td>\n",
       "      <td>Bad Trader</td>\n",
       "      <td>NaN</td>\n",
       "      <td>NaN</td>\n",
       "    </tr>\n",
       "    <tr>\n",
       "      <th>4</th>\n",
       "      <td>2024-02-27T00:00:00.000Z</td>\n",
       "      <td>0x08b505dc1603af317f8ffbf5db6359f0975d96ce</td>\n",
       "      <td>0.118287</td>\n",
       "      <td>111.838517</td>\n",
       "      <td>28.300992</td>\n",
       "      <td>Average Trader</td>\n",
       "      <td>NaN</td>\n",
       "      <td>NaN</td>\n",
       "    </tr>\n",
       "    <tr>\n",
       "      <th>...</th>\n",
       "      <td>...</td>\n",
       "      <td>...</td>\n",
       "      <td>...</td>\n",
       "      <td>...</td>\n",
       "      <td>...</td>\n",
       "      <td>...</td>\n",
       "      <td>...</td>\n",
       "      <td>...</td>\n",
       "    </tr>\n",
       "    <tr>\n",
       "      <th>18533</th>\n",
       "      <td>2024-06-03T00:00:00.000Z</td>\n",
       "      <td>0xd0640fcb1ef5ac385b57701c5ef7030331c8d80b</td>\n",
       "      <td>13.667569</td>\n",
       "      <td>1459.881230</td>\n",
       "      <td>5.208652</td>\n",
       "      <td>Good Trader</td>\n",
       "      <td>8.0</td>\n",
       "      <td>3.0</td>\n",
       "    </tr>\n",
       "    <tr>\n",
       "      <th>18534</th>\n",
       "      <td>2024-07-29T00:00:00.000Z</td>\n",
       "      <td>0x8b21447e610ea904979a621e530847db1948cce9</td>\n",
       "      <td>0.290588</td>\n",
       "      <td>126.891429</td>\n",
       "      <td>14.463229</td>\n",
       "      <td>Good Trader</td>\n",
       "      <td>NaN</td>\n",
       "      <td>NaN</td>\n",
       "    </tr>\n",
       "    <tr>\n",
       "      <th>18535</th>\n",
       "      <td>2024-04-28T00:00:00.000Z</td>\n",
       "      <td>0x518ded2f413f275d720b199ad9d03a262e35d3b3</td>\n",
       "      <td>-0.593986</td>\n",
       "      <td>41.689432</td>\n",
       "      <td>1.639568</td>\n",
       "      <td>Bad Trader</td>\n",
       "      <td>NaN</td>\n",
       "      <td>NaN</td>\n",
       "    </tr>\n",
       "    <tr>\n",
       "      <th>18536</th>\n",
       "      <td>2024-05-06T00:00:00.000Z</td>\n",
       "      <td>0x725ef823a0c7ea654561e13796a9d81a9aa8398a</td>\n",
       "      <td>0.154176</td>\n",
       "      <td>101.045725</td>\n",
       "      <td>2.255748</td>\n",
       "      <td>Average Trader</td>\n",
       "      <td>NaN</td>\n",
       "      <td>NaN</td>\n",
       "    </tr>\n",
       "    <tr>\n",
       "      <th>18537</th>\n",
       "      <td>2024-05-23T00:00:00.000Z</td>\n",
       "      <td>0x2a45eaf79bbaff1a1d31fdd24ca67541d389ef78</td>\n",
       "      <td>0.080212</td>\n",
       "      <td>108.021243</td>\n",
       "      <td>1.536343</td>\n",
       "      <td>Average Trader</td>\n",
       "      <td>NaN</td>\n",
       "      <td>NaN</td>\n",
       "    </tr>\n",
       "  </tbody>\n",
       "</table>\n",
       "<p>18538 rows × 8 columns</p>\n",
       "</div>"
      ],
      "text/plain": [
       "                            day                                user_address  \\\n",
       "0      2024-05-10T00:00:00.000Z  0xe22ea5b777f20ffb64e1516661ace5c4e9a1f23d   \n",
       "1      2024-09-15T00:00:00.000Z  0xa76b6a7aa1b4501e6edcb29898e1ce4b9784e81c   \n",
       "2      2024-09-29T00:00:00.000Z  0xb7dab94552302bcdff309e541d51ad203cbd7042   \n",
       "3      2024-10-12T00:00:00.000Z  0x3e55457808fb552a7f1989d68c9daf5d3a51c027   \n",
       "4      2024-02-27T00:00:00.000Z  0x08b505dc1603af317f8ffbf5db6359f0975d96ce   \n",
       "...                         ...                                         ...   \n",
       "18533  2024-06-03T00:00:00.000Z  0xd0640fcb1ef5ac385b57701c5ef7030331c8d80b   \n",
       "18534  2024-07-29T00:00:00.000Z  0x8b21447e610ea904979a621e530847db1948cce9   \n",
       "18535  2024-04-28T00:00:00.000Z  0x518ded2f413f275d720b199ad9d03a262e35d3b3   \n",
       "18536  2024-05-06T00:00:00.000Z  0x725ef823a0c7ea654561e13796a9d81a9aa8398a   \n",
       "18537  2024-05-23T00:00:00.000Z  0x2a45eaf79bbaff1a1d31fdd24ca67541d389ef78   \n",
       "\n",
       "       base_cumulative_return  portfolio_return  daily_sharpe_ratio  \\\n",
       "0                   -0.049529         93.716634           73.040066   \n",
       "1                   -0.837154         14.322205            0.421474   \n",
       "2                   -0.448353         53.095413            1.806804   \n",
       "3                   -0.432623         60.820272            3.565700   \n",
       "4                    0.118287        111.838517           28.300992   \n",
       "...                       ...               ...                 ...   \n",
       "18533               13.667569       1459.881230            5.208652   \n",
       "18534                0.290588        126.891429           14.463229   \n",
       "18535               -0.593986         41.689432            1.639568   \n",
       "18536                0.154176        101.045725            2.255748   \n",
       "18537                0.080212        108.021243            1.536343   \n",
       "\n",
       "         trader_class  number_of_trades  unique_tokens_traded  \n",
       "0          Bad Trader               NaN                   NaN  \n",
       "1          Bad Trader               NaN                   NaN  \n",
       "2          Bad Trader               NaN                   NaN  \n",
       "3          Bad Trader               NaN                   NaN  \n",
       "4      Average Trader               NaN                   NaN  \n",
       "...               ...               ...                   ...  \n",
       "18533     Good Trader               8.0                   3.0  \n",
       "18534     Good Trader               NaN                   NaN  \n",
       "18535      Bad Trader               NaN                   NaN  \n",
       "18536  Average Trader               NaN                   NaN  \n",
       "18537  Average Trader               NaN                   NaN  \n",
       "\n",
       "[18538 rows x 8 columns]"
      ]
     },
     "execution_count": 9,
     "metadata": {},
     "output_type": "execute_result"
    }
   ],
   "source": [
    "# df.set_index('dt',inplace=True)\n",
    "# df.index = pd.to_datetime(df.index)\n",
    "df.drop(columns='__row_index',inplace=True)\n",
    "df"
   ]
  },
  {
   "cell_type": "code",
   "execution_count": 10,
   "metadata": {},
   "outputs": [
    {
     "name": "stdout",
     "output_type": "stream",
     "text": [
      "          day                                user_address  \\\n",
      "0  2024-05-10  0xe22ea5b777f20ffb64e1516661ace5c4e9a1f23d   \n",
      "1  2024-09-15  0xa76b6a7aa1b4501e6edcb29898e1ce4b9784e81c   \n",
      "2  2024-09-29  0xb7dab94552302bcdff309e541d51ad203cbd7042   \n",
      "3  2024-10-12  0x3e55457808fb552a7f1989d68c9daf5d3a51c027   \n",
      "4  2024-02-27  0x08b505dc1603af317f8ffbf5db6359f0975d96ce   \n",
      "\n",
      "   base_cumulative_return  portfolio_return  daily_sharpe_ratio  \\\n",
      "0               -0.049529         93.716634           73.040066   \n",
      "1               -0.837154         14.322205            0.421474   \n",
      "2               -0.448353         53.095413            1.806804   \n",
      "3               -0.432623         60.820272            3.565700   \n",
      "4                0.118287        111.838517           28.300992   \n",
      "\n",
      "     trader_class  number_of_trades  unique_tokens_traded  \n",
      "0      Bad Trader               NaN                   NaN  \n",
      "1      Bad Trader               NaN                   NaN  \n",
      "2      Bad Trader               NaN                   NaN  \n",
      "3      Bad Trader               NaN                   NaN  \n",
      "4  Average Trader               NaN                   NaN  \n"
     ]
    }
   ],
   "source": [
    "# Convert 'day' column to datetime format and remove time component \n",
    "df['day'] = pd.to_datetime(df['day'], errors='coerce').dt.date\n",
    "#Remove later\n",
    "print(df.head())"
   ]
  },
  {
   "cell_type": "code",
   "execution_count": 11,
   "metadata": {},
   "outputs": [
    {
     "name": "stdout",
     "output_type": "stream",
     "text": [
      "              day                                user_address  \\\n",
      "11     2024-08-06  0x38ab25a76260b3afd48b83d21fba36ea72bf878e   \n",
      "16     2024-07-22  0xe99bc90d3cb86cf095d75a020c10fbf9d4aa9a4d   \n",
      "20     2024-09-15  0xd0640fcb1ef5ac385b57701c5ef7030331c8d80b   \n",
      "30     2024-11-13  0xc8084f0227d4f857ec9d48c481abc040ec4a4f1f   \n",
      "34     2024-09-13  0x2a45eaf79bbaff1a1d31fdd24ca67541d389ef78   \n",
      "...           ...                                         ...   \n",
      "18518  2024-08-16  0xc8084f0227d4f857ec9d48c481abc040ec4a4f1f   \n",
      "18519  2024-06-23  0xd0640fcb1ef5ac385b57701c5ef7030331c8d80b   \n",
      "18523  2024-03-24  0xd0640fcb1ef5ac385b57701c5ef7030331c8d80b   \n",
      "18531  2024-03-27  0x68478b80d61e9aab4f7d63b29671b90c10799a27   \n",
      "18533  2024-06-03  0xd0640fcb1ef5ac385b57701c5ef7030331c8d80b   \n",
      "\n",
      "       base_cumulative_return  portfolio_return  daily_sharpe_ratio  \\\n",
      "11               8.202377e+04      8.202456e+06            1.240026   \n",
      "16               1.041085e+08      1.041085e+10            1.559130   \n",
      "20               9.455554e+01      9.548679e+03            3.671394   \n",
      "30               3.489656e+01      3.589656e+03            2.986374   \n",
      "34               8.623025e+00      9.623025e+02            1.762326   \n",
      "...                       ...               ...                 ...   \n",
      "18518            1.894891e+01      1.994891e+03            1.392567   \n",
      "18519            1.123626e+01      1.216750e+03            3.934958   \n",
      "18523            8.522711e+00      9.453954e+02            3.128240   \n",
      "18531            2.470474e+00      3.528139e+02            5.251206   \n",
      "18533            1.366757e+01      1.459881e+03            5.208652   \n",
      "\n",
      "      trader_class  number_of_trades  unique_tokens_traded  \n",
      "11            None               1.0                   1.0  \n",
      "16     Good Trader               1.0                   3.0  \n",
      "20     Good Trader               NaN                   NaN  \n",
      "30     Good Trader               NaN                   NaN  \n",
      "34     Good Trader               3.0                   4.0  \n",
      "...            ...               ...                   ...  \n",
      "18518         None               1.0                   2.0  \n",
      "18519  Good Trader               NaN                   NaN  \n",
      "18523  Good Trader              29.0                  11.0  \n",
      "18531  Good Trader               NaN                   NaN  \n",
      "18533  Good Trader               8.0                   3.0  \n",
      "\n",
      "[3507 rows x 8 columns]\n"
     ]
    }
   ],
   "source": [
    "# Define a function to detect outliers based on IQR\n",
    "def find_outliers_iqr(df, column):\n",
    "    Q1 = df[column].quantile(0.25)\n",
    "    Q3 = df[column].quantile(0.75)\n",
    "    IQR = Q3 - Q1\n",
    "    lower_bound = Q1 - 1.5 * IQR\n",
    "    upper_bound = Q3 + 1.5 * IQR\n",
    "    return df[(df[column] < lower_bound) | (df[column] > upper_bound)]\n",
    "\n",
    "#Find outliers for 'portfolio_return'\n",
    "outliers = find_outliers_iqr(df, 'portfolio_return')\n",
    "print(outliers)"
   ]
  },
  {
   "cell_type": "code",
   "execution_count": 12,
   "metadata": {},
   "outputs": [
    {
     "name": "stdout",
     "output_type": "stream",
     "text": [
      "              day                                user_address  \\\n",
      "0      2024-05-10  0xe22ea5b777f20ffb64e1516661ace5c4e9a1f23d   \n",
      "1      2024-09-15  0xa76b6a7aa1b4501e6edcb29898e1ce4b9784e81c   \n",
      "2      2024-09-29  0xb7dab94552302bcdff309e541d51ad203cbd7042   \n",
      "3      2024-10-12  0x3e55457808fb552a7f1989d68c9daf5d3a51c027   \n",
      "4      2024-02-27  0x08b505dc1603af317f8ffbf5db6359f0975d96ce   \n",
      "...           ...                                         ...   \n",
      "18532  2024-10-27  0x4ef861298b42ce7d505c799eced534c5f86779ad   \n",
      "18534  2024-07-29  0x8b21447e610ea904979a621e530847db1948cce9   \n",
      "18535  2024-04-28  0x518ded2f413f275d720b199ad9d03a262e35d3b3   \n",
      "18536  2024-05-06  0x725ef823a0c7ea654561e13796a9d81a9aa8398a   \n",
      "18537  2024-05-23  0x2a45eaf79bbaff1a1d31fdd24ca67541d389ef78   \n",
      "\n",
      "       base_cumulative_return  portfolio_return  daily_sharpe_ratio  \\\n",
      "0                   -0.049529         93.716634           73.040066   \n",
      "1                   -0.837154         14.322205            0.421474   \n",
      "2                   -0.448353         53.095413            1.806804   \n",
      "3                   -0.432623         60.820272            3.565700   \n",
      "4                    0.118287        111.838517           28.300992   \n",
      "...                       ...               ...                 ...   \n",
      "18532               -0.236434         70.185529            2.841816   \n",
      "18534                0.290588        126.891429           14.463229   \n",
      "18535               -0.593986         41.689432            1.639568   \n",
      "18536                0.154176        101.045725            2.255748   \n",
      "18537                0.080212        108.021243            1.536343   \n",
      "\n",
      "         trader_class  number_of_trades  unique_tokens_traded  \n",
      "0          Bad Trader               NaN                   NaN  \n",
      "1          Bad Trader               NaN                   NaN  \n",
      "2          Bad Trader               NaN                   NaN  \n",
      "3          Bad Trader               NaN                   NaN  \n",
      "4      Average Trader               NaN                   NaN  \n",
      "...               ...               ...                   ...  \n",
      "18532      Bad Trader               NaN                   NaN  \n",
      "18534     Good Trader               NaN                   NaN  \n",
      "18535      Bad Trader               NaN                   NaN  \n",
      "18536  Average Trader               NaN                   NaN  \n",
      "18537  Average Trader               NaN                   NaN  \n",
      "\n",
      "[15031 rows x 8 columns]\n"
     ]
    }
   ],
   "source": [
    "# Remove outliers from 'portfolio_return' column based on IQR method\n",
    "def remove_outliers_iqr(df, column):\n",
    "    Q1 = df[column].quantile(0.25)\n",
    "    Q3 = df[column].quantile(0.75)\n",
    "    IQR = Q3 - Q1\n",
    "    lower_bound = Q1 - 1.5 * IQR\n",
    "    upper_bound = Q3 + 1.5 * IQR\n",
    "    return df[(df[column] >= lower_bound) & (df[column] <= upper_bound)]\n",
    "\n",
    "# Apply the function to remove outliers from the 'portfolio_return' column\n",
    "df_clean = remove_outliers_iqr(df, 'portfolio_return')\n",
    "\n",
    "# Verify the result\n",
    "print(df_clean)"
   ]
  },
  {
   "cell_type": "code",
   "execution_count": 13,
   "metadata": {},
   "outputs": [
    {
     "name": "stdout",
     "output_type": "stream",
     "text": [
      "day                           0\n",
      "user_address                  0\n",
      "base_cumulative_return        0\n",
      "portfolio_return              0\n",
      "daily_sharpe_ratio            0\n",
      "trader_class                  8\n",
      "number_of_trades          11112\n",
      "unique_tokens_traded      11112\n",
      "dtype: int64\n"
     ]
    }
   ],
   "source": [
    "# Check for NaN values in the entire DataFrame\n",
    "print(df_clean.isna().sum())"
   ]
  },
  {
   "cell_type": "code",
   "execution_count": 14,
   "metadata": {},
   "outputs": [
    {
     "name": "stdout",
     "output_type": "stream",
     "text": [
      "day                           0\n",
      "user_address                  0\n",
      "base_cumulative_return        0\n",
      "portfolio_return              0\n",
      "daily_sharpe_ratio            0\n",
      "trader_class                  0\n",
      "number_of_trades          11105\n",
      "unique_tokens_traded      11105\n",
      "dtype: int64\n"
     ]
    }
   ],
   "source": [
    "#drop rows in trader_class column with NaN values\n",
    "df_cleann = df_clean.dropna(subset=['trader_class'])\n",
    "print(df_cleann.isna().sum())"
   ]
  },
  {
   "cell_type": "code",
   "execution_count": 15,
   "metadata": {},
   "outputs": [
    {
     "name": "stdout",
     "output_type": "stream",
     "text": [
      "day                       0\n",
      "user_address              0\n",
      "base_cumulative_return    0\n",
      "portfolio_return          0\n",
      "daily_sharpe_ratio        0\n",
      "trader_class              0\n",
      "number_of_trades          0\n",
      "unique_tokens_traded      0\n",
      "dtype: int64\n"
     ]
    }
   ],
   "source": [
    "#Fill NaN with 0\n",
    "df_cleaned = df_cleann.fillna(0)\n",
    "print(df_cleaned.isna().sum())"
   ]
  },
  {
   "cell_type": "code",
   "execution_count": 16,
   "metadata": {},
   "outputs": [
    {
     "data": {
      "text/plain": [
       "day                        object\n",
       "user_address               object\n",
       "base_cumulative_return    float64\n",
       "portfolio_return          float64\n",
       "daily_sharpe_ratio        float64\n",
       "trader_class               object\n",
       "number_of_trades          float64\n",
       "unique_tokens_traded      float64\n",
       "dtype: object"
      ]
     },
     "execution_count": 16,
     "metadata": {},
     "output_type": "execute_result"
    }
   ],
   "source": [
    "df_cleaned.dtypes"
   ]
  },
  {
   "cell_type": "code",
   "execution_count": 17,
   "metadata": {},
   "outputs": [],
   "source": [
    "#convert day to datetime\n",
    "df_cleaned['day'] = pd.to_datetime(df_cleaned['day'])"
   ]
  },
  {
   "cell_type": "code",
   "execution_count": 18,
   "metadata": {},
   "outputs": [
    {
     "data": {
      "text/plain": [
       "day                       datetime64[ns]\n",
       "user_address                      object\n",
       "base_cumulative_return           float64\n",
       "portfolio_return                 float64\n",
       "daily_sharpe_ratio               float64\n",
       "trader_class                      object\n",
       "number_of_trades                 float64\n",
       "unique_tokens_traded             float64\n",
       "dtype: object"
      ]
     },
     "execution_count": 18,
     "metadata": {},
     "output_type": "execute_result"
    }
   ],
   "source": [
    "df_cleaned.dtypes"
   ]
  },
  {
   "cell_type": "code",
   "execution_count": 19,
   "metadata": {},
   "outputs": [
    {
     "data": {
      "text/plain": [
       "0        Bad Trader\n",
       "1        Bad Trader\n",
       "2        Bad Trader\n",
       "3        Bad Trader\n",
       "4    Average Trader\n",
       "Name: trader_class, dtype: object"
      ]
     },
     "execution_count": 19,
     "metadata": {},
     "output_type": "execute_result"
    }
   ],
   "source": [
    "df_cleaned.trader_class.head()"
   ]
  },
  {
   "cell_type": "code",
   "execution_count": 20,
   "metadata": {},
   "outputs": [
    {
     "data": {
      "text/plain": [
       "Index(['Average Trader', 'Bad Trader', 'Good Trader'], dtype='object')"
      ]
     },
     "execution_count": 20,
     "metadata": {},
     "output_type": "execute_result"
    }
   ],
   "source": [
    "# Convert 'trader_class' to a categorical column\n",
    "df_cleaned[\"trader_class\"] = df_cleaned[\"trader_class\"].astype('category')\n",
    "df_cleaned[\"trader_class\"].cat.categories"
   ]
  },
  {
   "cell_type": "code",
   "execution_count": 21,
   "metadata": {},
   "outputs": [
    {
     "data": {
      "text/plain": [
       "day                       datetime64[ns]\n",
       "user_address                      object\n",
       "base_cumulative_return           float64\n",
       "portfolio_return                 float64\n",
       "daily_sharpe_ratio               float64\n",
       "trader_class                    category\n",
       "number_of_trades                 float64\n",
       "unique_tokens_traded             float64\n",
       "dtype: object"
      ]
     },
     "execution_count": 21,
     "metadata": {},
     "output_type": "execute_result"
    }
   ],
   "source": [
    "df_cleaned.dtypes"
   ]
  },
  {
   "cell_type": "code",
   "execution_count": 22,
   "metadata": {},
   "outputs": [
    {
     "data": {
      "text/plain": [
       "0        1\n",
       "1        1\n",
       "2        1\n",
       "3        1\n",
       "4        0\n",
       "        ..\n",
       "18532    1\n",
       "18534    2\n",
       "18535    1\n",
       "18536    0\n",
       "18537    0\n",
       "Name: trader_class_numeric, Length: 15023, dtype: int8"
      ]
     },
     "execution_count": 22,
     "metadata": {},
     "output_type": "execute_result"
    }
   ],
   "source": [
    "# Assign unique integers to categories\n",
    "df_cleaned['trader_class_numeric'] = df_cleaned['trader_class'].astype('category').cat.codes\n",
    "df_cleaned['trader_class_numeric']"
   ]
  },
  {
   "cell_type": "code",
   "execution_count": 23,
   "metadata": {},
   "outputs": [
    {
     "data": {
      "text/html": [
       "<div>\n",
       "<style scoped>\n",
       "    .dataframe tbody tr th:only-of-type {\n",
       "        vertical-align: middle;\n",
       "    }\n",
       "\n",
       "    .dataframe tbody tr th {\n",
       "        vertical-align: top;\n",
       "    }\n",
       "\n",
       "    .dataframe thead th {\n",
       "        text-align: right;\n",
       "    }\n",
       "</style>\n",
       "<table border=\"1\" class=\"dataframe\">\n",
       "  <thead>\n",
       "    <tr style=\"text-align: right;\">\n",
       "      <th></th>\n",
       "      <th>day</th>\n",
       "      <th>user_address</th>\n",
       "      <th>base_cumulative_return</th>\n",
       "      <th>portfolio_return</th>\n",
       "      <th>daily_sharpe_ratio</th>\n",
       "      <th>trader_class</th>\n",
       "      <th>number_of_trades</th>\n",
       "      <th>unique_tokens_traded</th>\n",
       "      <th>trader_class_numeric</th>\n",
       "    </tr>\n",
       "  </thead>\n",
       "  <tbody>\n",
       "    <tr>\n",
       "      <th>0</th>\n",
       "      <td>2024-05-10</td>\n",
       "      <td>0xe22ea5b777f20ffb64e1516661ace5c4e9a1f23d</td>\n",
       "      <td>-0.049529</td>\n",
       "      <td>93.716634</td>\n",
       "      <td>73.040066</td>\n",
       "      <td>Bad Trader</td>\n",
       "      <td>0.0</td>\n",
       "      <td>0.0</td>\n",
       "      <td>1</td>\n",
       "    </tr>\n",
       "    <tr>\n",
       "      <th>1</th>\n",
       "      <td>2024-09-15</td>\n",
       "      <td>0xa76b6a7aa1b4501e6edcb29898e1ce4b9784e81c</td>\n",
       "      <td>-0.837154</td>\n",
       "      <td>14.322205</td>\n",
       "      <td>0.421474</td>\n",
       "      <td>Bad Trader</td>\n",
       "      <td>0.0</td>\n",
       "      <td>0.0</td>\n",
       "      <td>1</td>\n",
       "    </tr>\n",
       "    <tr>\n",
       "      <th>2</th>\n",
       "      <td>2024-09-29</td>\n",
       "      <td>0xb7dab94552302bcdff309e541d51ad203cbd7042</td>\n",
       "      <td>-0.448353</td>\n",
       "      <td>53.095413</td>\n",
       "      <td>1.806804</td>\n",
       "      <td>Bad Trader</td>\n",
       "      <td>0.0</td>\n",
       "      <td>0.0</td>\n",
       "      <td>1</td>\n",
       "    </tr>\n",
       "    <tr>\n",
       "      <th>3</th>\n",
       "      <td>2024-10-12</td>\n",
       "      <td>0x3e55457808fb552a7f1989d68c9daf5d3a51c027</td>\n",
       "      <td>-0.432623</td>\n",
       "      <td>60.820272</td>\n",
       "      <td>3.565700</td>\n",
       "      <td>Bad Trader</td>\n",
       "      <td>0.0</td>\n",
       "      <td>0.0</td>\n",
       "      <td>1</td>\n",
       "    </tr>\n",
       "    <tr>\n",
       "      <th>4</th>\n",
       "      <td>2024-02-27</td>\n",
       "      <td>0x08b505dc1603af317f8ffbf5db6359f0975d96ce</td>\n",
       "      <td>0.118287</td>\n",
       "      <td>111.838517</td>\n",
       "      <td>28.300992</td>\n",
       "      <td>Average Trader</td>\n",
       "      <td>0.0</td>\n",
       "      <td>0.0</td>\n",
       "      <td>0</td>\n",
       "    </tr>\n",
       "  </tbody>\n",
       "</table>\n",
       "</div>"
      ],
      "text/plain": [
       "         day                                user_address  \\\n",
       "0 2024-05-10  0xe22ea5b777f20ffb64e1516661ace5c4e9a1f23d   \n",
       "1 2024-09-15  0xa76b6a7aa1b4501e6edcb29898e1ce4b9784e81c   \n",
       "2 2024-09-29  0xb7dab94552302bcdff309e541d51ad203cbd7042   \n",
       "3 2024-10-12  0x3e55457808fb552a7f1989d68c9daf5d3a51c027   \n",
       "4 2024-02-27  0x08b505dc1603af317f8ffbf5db6359f0975d96ce   \n",
       "\n",
       "   base_cumulative_return  portfolio_return  daily_sharpe_ratio  \\\n",
       "0               -0.049529         93.716634           73.040066   \n",
       "1               -0.837154         14.322205            0.421474   \n",
       "2               -0.448353         53.095413            1.806804   \n",
       "3               -0.432623         60.820272            3.565700   \n",
       "4                0.118287        111.838517           28.300992   \n",
       "\n",
       "     trader_class  number_of_trades  unique_tokens_traded  \\\n",
       "0      Bad Trader               0.0                   0.0   \n",
       "1      Bad Trader               0.0                   0.0   \n",
       "2      Bad Trader               0.0                   0.0   \n",
       "3      Bad Trader               0.0                   0.0   \n",
       "4  Average Trader               0.0                   0.0   \n",
       "\n",
       "   trader_class_numeric  \n",
       "0                     1  \n",
       "1                     1  \n",
       "2                     1  \n",
       "3                     1  \n",
       "4                     0  "
      ]
     },
     "execution_count": 23,
     "metadata": {},
     "output_type": "execute_result"
    }
   ],
   "source": [
    "df_cleaned.head()"
   ]
  },
  {
   "cell_type": "code",
   "execution_count": 24,
   "metadata": {},
   "outputs": [
    {
     "data": {
      "text/plain": [
       "Index(['day', 'user_address', 'base_cumulative_return', 'portfolio_return',\n",
       "       'daily_sharpe_ratio', 'trader_class', 'number_of_trades',\n",
       "       'unique_tokens_traded', 'trader_class_numeric'],\n",
       "      dtype='object')"
      ]
     },
     "execution_count": 24,
     "metadata": {},
     "output_type": "execute_result"
    }
   ],
   "source": [
    "df_cleaned.columns"
   ]
  },
  {
   "cell_type": "markdown",
   "metadata": {},
   "source": [
    "# Correlation Coefficient Analysis"
   ]
  },
  {
   "cell_type": "code",
   "execution_count": 25,
   "metadata": {},
   "outputs": [
    {
     "name": "stdout",
     "output_type": "stream",
     "text": [
      "trader_class_numeric      1.000000\n",
      "portfolio_return          0.274692\n",
      "base_cumulative_return    0.241960\n",
      "number_of_trades         -0.006307\n",
      "unique_tokens_traded     -0.007763\n",
      "daily_sharpe_ratio       -0.055788\n",
      "Name: trader_class_numeric, dtype: float64\n"
     ]
    }
   ],
   "source": [
    "# Correlation Coefficient Analysis\n",
    "\n",
    "df_cor = df_cleaned.corr(numeric_only=True)\n",
    "print(df_cor['trader_class_numeric'].sort_values(ascending=False))\n"
   ]
  },
  {
   "cell_type": "code",
   "execution_count": 27,
   "metadata": {},
   "outputs": [
    {
     "data": {
      "image/png": "[encoded data removed]",
      "text/plain": [
       "<Figure size 1000x600 with 2 Axes>"
      ]
     },
     "metadata": {},
     "output_type": "display_data"
    }
   ],
   "source": [
    "import seaborn as sns \n",
    "import matplotlib.pyplot as plt\n",
    "\n",
    "# Heatmap\n",
    "plt.figure(figsize=(10, 6))\n",
    "sns.heatmap(df_cor, annot=True, cmap='coolwarm', fmt=\".2f\")\n",
    "plt.title('Correlation Heatmap')\n",
    "plt.show()"
   ]
  },
  {
   "cell_type": "markdown",
   "metadata": {},
   "source": [
    "# Classifier Model"
   ]
  },
  {
   "cell_type": "code",
   "execution_count": 28,
   "metadata": {},
   "outputs": [
    {
     "data": {
      "text/plain": [
       "day                       datetime64[ns]\n",
       "user_address                      object\n",
       "base_cumulative_return           float64\n",
       "portfolio_return                 float64\n",
       "daily_sharpe_ratio               float64\n",
       "trader_class                    category\n",
       "number_of_trades                 float64\n",
       "unique_tokens_traded             float64\n",
       "trader_class_numeric                int8\n",
       "dtype: object"
      ]
     },
     "execution_count": 28,
     "metadata": {},
     "output_type": "execute_result"
    }
   ],
   "source": [
    "df_cleaned.dtypes"
   ]
  },
  {
   "cell_type": "code",
   "execution_count": 29,
   "metadata": {},
   "outputs": [],
   "source": [
    "numeric = df_cleaned.select_dtypes(include=['number'])\n",
    "#numeric"
   ]
  },
  {
   "cell_type": "code",
   "execution_count": 30,
   "metadata": {},
   "outputs": [],
   "source": [
    "features = ['base_cumulative_return', 'portfolio_return', \n",
    "            'daily_sharpe_ratio', 'number_of_trades', 'unique_tokens_traded']"
   ]
  },
  {
   "cell_type": "code",
   "execution_count": 31,
   "metadata": {},
   "outputs": [],
   "source": [
    "target = 'trader_class_numeric'"
   ]
  },
  {
   "cell_type": "code",
   "execution_count": 32,
   "metadata": {},
   "outputs": [
    {
     "data": {
      "text/plain": [
       "count    15023.000000\n",
       "mean        95.410149\n",
       "std         39.626239\n",
       "min         -2.588934\n",
       "25%         75.521814\n",
       "50%         99.950774\n",
       "75%        115.094243\n",
       "max        234.896378\n",
       "Name: portfolio_return, dtype: float64"
      ]
     },
     "execution_count": 32,
     "metadata": {},
     "output_type": "execute_result"
    }
   ],
   "source": [
    "df_cleaned['portfolio_return'].describe()"
   ]
  },
  {
   "cell_type": "code",
   "execution_count": 33,
   "metadata": {},
   "outputs": [],
   "source": [
    "import random\n",
    "import os\n",
    "from sklearn.model_selection import train_test_split\n",
    "from sklearn.preprocessing import StandardScaler\n",
    "from sklearn.linear_model import LogisticRegression\n",
    "from sklearn.metrics import classification_report, confusion_matrix, accuracy_score\n",
    "from sklearn.metrics import roc_curve, roc_auc_score"
   ]
  },
  {
   "cell_type": "code",
   "execution_count": 34,
   "metadata": {},
   "outputs": [],
   "source": [
    "#Data Processing\n",
    "#Separating the features from the target variable.\n",
    "\n",
    "X = df_cleaned[features]\n",
    "y = df_cleaned[target]"
   ]
  },
  {
   "cell_type": "code",
   "execution_count": 35,
   "metadata": {},
   "outputs": [],
   "source": [
    "#Normalize the Features\n",
    "scaler = StandardScaler()\n",
    "X_scaled = scaler.fit_transform(X)"
   ]
  },
  {
   "cell_type": "markdown",
   "metadata": {},
   "source": [
    "# Split the data"
   ]
  },
  {
   "cell_type": "code",
   "execution_count": 36,
   "metadata": {},
   "outputs": [],
   "source": [
    "#Split the data into training and testing sets.\n",
    "X_train, X_test, y_train, y_test = train_test_split(X_scaled, y, test_size=0.2, random_state=42)\n"
   ]
  },
  {
   "cell_type": "markdown",
   "metadata": {},
   "source": [
    "# Train the Logistic Regression Model"
   ]
  },
  {
   "cell_type": "code",
   "execution_count": 37,
   "metadata": {},
   "outputs": [
    {
     "data": {
      "text/html": [
       "<style>#sk-container-id-1 {\n",
       "  /* Definition of color scheme common for light and dark mode */\n",
       "  --sklearn-color-text: black;\n",
       "  --sklearn-color-line: gray;\n",
       "  /* Definition of color scheme for unfitted estimators */\n",
       "  --sklearn-color-unfitted-level-0: #fff5e6;\n",
       "  --sklearn-color-unfitted-level-1: #f6e4d2;\n",
       "  --sklearn-color-unfitted-level-2: #ffe0b3;\n",
       "  --sklearn-color-unfitted-level-3: chocolate;\n",
       "  /* Definition of color scheme for fitted estimators */\n",
       "  --sklearn-color-fitted-level-0: #f0f8ff;\n",
       "  --sklearn-color-fitted-level-1: #d4ebff;\n",
       "  --sklearn-color-fitted-level-2: #b3dbfd;\n",
       "  --sklearn-color-fitted-level-3: cornflowerblue;\n",
       "\n",
       "  /* Specific color for light theme */\n",
       "  --sklearn-color-text-on-default-background: var(--sg-text-color, var(--theme-code-foreground, var(--jp-content-font-color1, black)));\n",
       "  --sklearn-color-background: var(--sg-background-color, var(--theme-background, var(--jp-layout-color0, white)));\n",
       "  --sklearn-color-border-box: var(--sg-text-color, var(--theme-code-foreground, var(--jp-content-font-color1, black)));\n",
       "  --sklearn-color-icon: #696969;\n",
       "\n",
       "  @media (prefers-color-scheme: dark) {\n",
       "    /* Redefinition of color scheme for dark theme */\n",
       "    --sklearn-color-text-on-default-background: var(--sg-text-color, var(--theme-code-foreground, var(--jp-content-font-color1, white)));\n",
       "    --sklearn-color-background: var(--sg-background-color, var(--theme-background, var(--jp-layout-color0, #111)));\n",
       "    --sklearn-color-border-box: var(--sg-text-color, var(--theme-code-foreground, var(--jp-content-font-color1, white)));\n",
       "    --sklearn-color-icon: #878787;\n",
       "  }\n",
       "}\n",
       "\n",
       "#sk-container-id-1 {\n",
       "  color: var(--sklearn-color-text);\n",
       "}\n",
       "\n",
       "#sk-container-id-1 pre {\n",
       "  padding: 0;\n",
       "}\n",
       "\n",
       "#sk-container-id-1 input.sk-hidden--visually {\n",
       "  border: 0;\n",
       "  clip: rect(1px 1px 1px 1px);\n",
       "  clip: rect(1px, 1px, 1px, 1px);\n",
       "  height: 1px;\n",
       "  margin: -1px;\n",
       "  overflow: hidden;\n",
       "  padding: 0;\n",
       "  position: absolute;\n",
       "  width: 1px;\n",
       "}\n",
       "\n",
       "#sk-container-id-1 div.sk-dashed-wrapped {\n",
       "  border: 1px dashed var(--sklearn-color-line);\n",
       "  margin: 0 0.4em 0.5em 0.4em;\n",
       "  box-sizing: border-box;\n",
       "  padding-bottom: 0.4em;\n",
       "  background-color: var(--sklearn-color-background);\n",
       "}\n",
       "\n",
       "#sk-container-id-1 div.sk-container {\n",
       "  /* jupyter's `normalize.less` sets `[hidden] { display: none; }`\n",
       "     but bootstrap.min.css set `[hidden] { display: none !important; }`\n",
       "     so we also need the `!important` here to be able to override the\n",
       "     default hidden behavior on the sphinx rendered scikit-learn.org.\n",
       "     See: https://github.com/scikit-learn/scikit-learn/issues/21755 */\n",
       "  display: inline-block !important;\n",
       "  position: relative;\n",
       "}\n",
       "\n",
       "#sk-container-id-1 div.sk-text-repr-fallback {\n",
       "  display: none;\n",
       "}\n",
       "\n",
       "div.sk-parallel-item,\n",
       "div.sk-serial,\n",
       "div.sk-item {\n",
       "  /* draw centered vertical line to link estimators */\n",
       "  background-image: linear-gradient(var(--sklearn-color-text-on-default-background), var(--sklearn-color-text-on-default-background));\n",
       "  background-size: 2px 100%;\n",
       "  background-repeat: no-repeat;\n",
       "  background-position: center center;\n",
       "}\n",
       "\n",
       "/* Parallel-specific style estimator block */\n",
       "\n",
       "#sk-container-id-1 div.sk-parallel-item::after {\n",
       "  content: \"\";\n",
       "  width: 100%;\n",
       "  border-bottom: 2px solid var(--sklearn-color-text-on-default-background);\n",
       "  flex-grow: 1;\n",
       "}\n",
       "\n",
       "#sk-container-id-1 div.sk-parallel {\n",
       "  display: flex;\n",
       "  align-items: stretch;\n",
       "  justify-content: center;\n",
       "  background-color: var(--sklearn-color-background);\n",
       "  position: relative;\n",
       "}\n",
       "\n",
       "#sk-container-id-1 div.sk-parallel-item {\n",
       "  display: flex;\n",
       "  flex-direction: column;\n",
       "}\n",
       "\n",
       "#sk-container-id-1 div.sk-parallel-item:first-child::after {\n",
       "  align-self: flex-end;\n",
       "  width: 50%;\n",
       "}\n",
       "\n",
       "#sk-container-id-1 div.sk-parallel-item:last-child::after {\n",
       "  align-self: flex-start;\n",
       "  width: 50%;\n",
       "}\n",
       "\n",
       "#sk-container-id-1 div.sk-parallel-item:only-child::after {\n",
       "  width: 0;\n",
       "}\n",
       "\n",
       "/* Serial-specific style estimator block */\n",
       "\n",
       "#sk-container-id-1 div.sk-serial {\n",
       "  display: flex;\n",
       "  flex-direction: column;\n",
       "  align-items: center;\n",
       "  background-color: var(--sklearn-color-background);\n",
       "  padding-right: 1em;\n",
       "  padding-left: 1em;\n",
       "}\n",
       "\n",
       "\n",
       "/* Toggleable style: style used for estimator/Pipeline/ColumnTransformer box that is\n",
       "clickable and can be expanded/collapsed.\n",
       "- Pipeline and ColumnTransformer use this feature and define the default style\n",
       "- Estimators will overwrite some part of the style using the `sk-estimator` class\n",
       "*/\n",
       "\n",
       "/* Pipeline and ColumnTransformer style (default) */\n",
       "\n",
       "#sk-container-id-1 div.sk-toggleable {\n",
       "  /* Default theme specific background. It is overwritten whether we have a\n",
       "  specific estimator or a Pipeline/ColumnTransformer */\n",
       "  background-color: var(--sklearn-color-background);\n",
       "}\n",
       "\n",
       "/* Toggleable label */\n",
       "#sk-container-id-1 label.sk-toggleable__label {\n",
       "  cursor: pointer;\n",
       "  display: block;\n",
       "  width: 100%;\n",
       "  margin-bottom: 0;\n",
       "  padding: 0.5em;\n",
       "  box-sizing: border-box;\n",
       "  text-align: center;\n",
       "}\n",
       "\n",
       "#sk-container-id-1 label.sk-toggleable__label-arrow:before {\n",
       "  /* Arrow on the left of the label */\n",
       "  content: \"▸\";\n",
       "  float: left;\n",
       "  margin-right: 0.25em;\n",
       "  color: var(--sklearn-color-icon);\n",
       "}\n",
       "\n",
       "#sk-container-id-1 label.sk-toggleable__label-arrow:hover:before {\n",
       "  color: var(--sklearn-color-text);\n",
       "}\n",
       "\n",
       "/* Toggleable content - dropdown */\n",
       "\n",
       "#sk-container-id-1 div.sk-toggleable__content {\n",
       "  max-height: 0;\n",
       "  max-width: 0;\n",
       "  overflow: hidden;\n",
       "  text-align: left;\n",
       "  /* unfitted */\n",
       "  background-color: var(--sklearn-color-unfitted-level-0);\n",
       "}\n",
       "\n",
       "#sk-container-id-1 div.sk-toggleable__content.fitted {\n",
       "  /* fitted */\n",
       "  background-color: var(--sklearn-color-fitted-level-0);\n",
       "}\n",
       "\n",
       "#sk-container-id-1 div.sk-toggleable__content pre {\n",
       "  margin: 0.2em;\n",
       "  border-radius: 0.25em;\n",
       "  color: var(--sklearn-color-text);\n",
       "  /* unfitted */\n",
       "  background-color: var(--sklearn-color-unfitted-level-0);\n",
       "}\n",
       "\n",
       "#sk-container-id-1 div.sk-toggleable__content.fitted pre {\n",
       "  /* unfitted */\n",
       "  background-color: var(--sklearn-color-fitted-level-0);\n",
       "}\n",
       "\n",
       "#sk-container-id-1 input.sk-toggleable__control:checked~div.sk-toggleable__content {\n",
       "  /* Expand drop-down */\n",
       "  max-height: 200px;\n",
       "  max-width: 100%;\n",
       "  overflow: auto;\n",
       "}\n",
       "\n",
       "#sk-container-id-1 input.sk-toggleable__control:checked~label.sk-toggleable__label-arrow:before {\n",
       "  content: \"▾\";\n",
       "}\n",
       "\n",
       "/* Pipeline/ColumnTransformer-specific style */\n",
       "\n",
       "#sk-container-id-1 div.sk-label input.sk-toggleable__control:checked~label.sk-toggleable__label {\n",
       "  color: var(--sklearn-color-text);\n",
       "  background-color: var(--sklearn-color-unfitted-level-2);\n",
       "}\n",
       "\n",
       "#sk-container-id-1 div.sk-label.fitted input.sk-toggleable__control:checked~label.sk-toggleable__label {\n",
       "  background-color: var(--sklearn-color-fitted-level-2);\n",
       "}\n",
       "\n",
       "/* Estimator-specific style */\n",
       "\n",
       "/* Colorize estimator box */\n",
       "#sk-container-id-1 div.sk-estimator input.sk-toggleable__control:checked~label.sk-toggleable__label {\n",
       "  /* unfitted */\n",
       "  background-color: var(--sklearn-color-unfitted-level-2);\n",
       "}\n",
       "\n",
       "#sk-container-id-1 div.sk-estimator.fitted input.sk-toggleable__control:checked~label.sk-toggleable__label {\n",
       "  /* fitted */\n",
       "  background-color: var(--sklearn-color-fitted-level-2);\n",
       "}\n",
       "\n",
       "#sk-container-id-1 div.sk-label label.sk-toggleable__label,\n",
       "#sk-container-id-1 div.sk-label label {\n",
       "  /* The background is the default theme color */\n",
       "  color: var(--sklearn-color-text-on-default-background);\n",
       "}\n",
       "\n",
       "/* On hover, darken the color of the background */\n",
       "#sk-container-id-1 div.sk-label:hover label.sk-toggleable__label {\n",
       "  color: var(--sklearn-color-text);\n",
       "  background-color: var(--sklearn-color-unfitted-level-2);\n",
       "}\n",
       "\n",
       "/* Label box, darken color on hover, fitted */\n",
       "#sk-container-id-1 div.sk-label.fitted:hover label.sk-toggleable__label.fitted {\n",
       "  color: var(--sklearn-color-text);\n",
       "  background-color: var(--sklearn-color-fitted-level-2);\n",
       "}\n",
       "\n",
       "/* Estimator label */\n",
       "\n",
       "#sk-container-id-1 div.sk-label label {\n",
       "  font-family: monospace;\n",
       "  font-weight: bold;\n",
       "  display: inline-block;\n",
       "  line-height: 1.2em;\n",
       "}\n",
       "\n",
       "#sk-container-id-1 div.sk-label-container {\n",
       "  text-align: center;\n",
       "}\n",
       "\n",
       "/* Estimator-specific */\n",
       "#sk-container-id-1 div.sk-estimator {\n",
       "  font-family: monospace;\n",
       "  border: 1px dotted var(--sklearn-color-border-box);\n",
       "  border-radius: 0.25em;\n",
       "  box-sizing: border-box;\n",
       "  margin-bottom: 0.5em;\n",
       "  /* unfitted */\n",
       "  background-color: var(--sklearn-color-unfitted-level-0);\n",
       "}\n",
       "\n",
       "#sk-container-id-1 div.sk-estimator.fitted {\n",
       "  /* fitted */\n",
       "  background-color: var(--sklearn-color-fitted-level-0);\n",
       "}\n",
       "\n",
       "/* on hover */\n",
       "#sk-container-id-1 div.sk-estimator:hover {\n",
       "  /* unfitted */\n",
       "  background-color: var(--sklearn-color-unfitted-level-2);\n",
       "}\n",
       "\n",
       "#sk-container-id-1 div.sk-estimator.fitted:hover {\n",
       "  /* fitted */\n",
       "  background-color: var(--sklearn-color-fitted-level-2);\n",
       "}\n",
       "\n",
       "/* Specification for estimator info (e.g. \"i\" and \"?\") */\n",
       "\n",
       "/* Common style for \"i\" and \"?\" */\n",
       "\n",
       ".sk-estimator-doc-link,\n",
       "a:link.sk-estimator-doc-link,\n",
       "a:visited.sk-estimator-doc-link {\n",
       "  float: right;\n",
       "  font-size: smaller;\n",
       "  line-height: 1em;\n",
       "  font-family: monospace;\n",
       "  background-color: var(--sklearn-color-background);\n",
       "  border-radius: 1em;\n",
       "  height: 1em;\n",
       "  width: 1em;\n",
       "  text-decoration: none !important;\n",
       "  margin-left: 1ex;\n",
       "  /* unfitted */\n",
       "  border: var(--sklearn-color-unfitted-level-1) 1pt solid;\n",
       "  color: var(--sklearn-color-unfitted-level-1);\n",
       "}\n",
       "\n",
       ".sk-estimator-doc-link.fitted,\n",
       "a:link.sk-estimator-doc-link.fitted,\n",
       "a:visited.sk-estimator-doc-link.fitted {\n",
       "  /* fitted */\n",
       "  border: var(--sklearn-color-fitted-level-1) 1pt solid;\n",
       "  color: var(--sklearn-color-fitted-level-1);\n",
       "}\n",
       "\n",
       "/* On hover */\n",
       "div.sk-estimator:hover .sk-estimator-doc-link:hover,\n",
       ".sk-estimator-doc-link:hover,\n",
       "div.sk-label-container:hover .sk-estimator-doc-link:hover,\n",
       ".sk-estimator-doc-link:hover {\n",
       "  /* unfitted */\n",
       "  background-color: var(--sklearn-color-unfitted-level-3);\n",
       "  color: var(--sklearn-color-background);\n",
       "  text-decoration: none;\n",
       "}\n",
       "\n",
       "div.sk-estimator.fitted:hover .sk-estimator-doc-link.fitted:hover,\n",
       ".sk-estimator-doc-link.fitted:hover,\n",
       "div.sk-label-container:hover .sk-estimator-doc-link.fitted:hover,\n",
       ".sk-estimator-doc-link.fitted:hover {\n",
       "  /* fitted */\n",
       "  background-color: var(--sklearn-color-fitted-level-3);\n",
       "  color: var(--sklearn-color-background);\n",
       "  text-decoration: none;\n",
       "}\n",
       "\n",
       "/* Span, style for the box shown on hovering the info icon */\n",
       ".sk-estimator-doc-link span {\n",
       "  display: none;\n",
       "  z-index: 9999;\n",
       "  position: relative;\n",
       "  font-weight: normal;\n",
       "  right: .2ex;\n",
       "  padding: .5ex;\n",
       "  margin: .5ex;\n",
       "  width: min-content;\n",
       "  min-width: 20ex;\n",
       "  max-width: 50ex;\n",
       "  color: var(--sklearn-color-text);\n",
       "  box-shadow: 2pt 2pt 4pt #999;\n",
       "  /* unfitted */\n",
       "  background: var(--sklearn-color-unfitted-level-0);\n",
       "  border: .5pt solid var(--sklearn-color-unfitted-level-3);\n",
       "}\n",
       "\n",
       ".sk-estimator-doc-link.fitted span {\n",
       "  /* fitted */\n",
       "  background: var(--sklearn-color-fitted-level-0);\n",
       "  border: var(--sklearn-color-fitted-level-3);\n",
       "}\n",
       "\n",
       ".sk-estimator-doc-link:hover span {\n",
       "  display: block;\n",
       "}\n",
       "\n",
       "/* \"?\"-specific style due to the `<a>` HTML tag */\n",
       "\n",
       "#sk-container-id-1 a.estimator_doc_link {\n",
       "  float: right;\n",
       "  font-size: 1rem;\n",
       "  line-height: 1em;\n",
       "  font-family: monospace;\n",
       "  background-color: var(--sklearn-color-background);\n",
       "  border-radius: 1rem;\n",
       "  height: 1rem;\n",
       "  width: 1rem;\n",
       "  text-decoration: none;\n",
       "  /* unfitted */\n",
       "  color: var(--sklearn-color-unfitted-level-1);\n",
       "  border: var(--sklearn-color-unfitted-level-1) 1pt solid;\n",
       "}\n",
       "\n",
       "#sk-container-id-1 a.estimator_doc_link.fitted {\n",
       "  /* fitted */\n",
       "  border: var(--sklearn-color-fitted-level-1) 1pt solid;\n",
       "  color: var(--sklearn-color-fitted-level-1);\n",
       "}\n",
       "\n",
       "/* On hover */\n",
       "#sk-container-id-1 a.estimator_doc_link:hover {\n",
       "  /* unfitted */\n",
       "  background-color: var(--sklearn-color-unfitted-level-3);\n",
       "  color: var(--sklearn-color-background);\n",
       "  text-decoration: none;\n",
       "}\n",
       "\n",
       "#sk-container-id-1 a.estimator_doc_link.fitted:hover {\n",
       "  /* fitted */\n",
       "  background-color: var(--sklearn-color-fitted-level-3);\n",
       "}\n",
       "</style><div id=\"sk-container-id-1\" class=\"sk-top-container\"><div class=\"sk-text-repr-fallback\"><pre>LogisticRegression()</pre><b>In a Jupyter environment, please rerun this cell to show the HTML representation or trust the notebook. <br />On GitHub, the HTML representation is unable to render, please try loading this page with nbviewer.org.</b></div><div class=\"sk-container\" hidden><div class=\"sk-item\"><div class=\"sk-estimator fitted sk-toggleable\"><input class=\"sk-toggleable__control sk-hidden--visually\" id=\"sk-estimator-id-1\" type=\"checkbox\" checked><label for=\"sk-estimator-id-1\" class=\"sk-toggleable__label fitted sk-toggleable__label-arrow fitted\">&nbsp;&nbsp;LogisticRegression<a class=\"sk-estimator-doc-link fitted\" rel=\"noreferrer\" target=\"_blank\" href=\"https://scikit-learn.org/1.5/modules/generated/sklearn.linear_model.LogisticRegression.html\">?<span>Documentation for LogisticRegression</span></a><span class=\"sk-estimator-doc-link fitted\">i<span>Fitted</span></span></label><div class=\"sk-toggleable__content fitted\"><pre>LogisticRegression()</pre></div> </div></div></div></div>"
      ],
      "text/plain": [
       "LogisticRegression()"
      ]
     },
     "execution_count": 37,
     "metadata": {},
     "output_type": "execute_result"
    }
   ],
   "source": [
    "#Train the logistic Regression Model\n",
    "log_reg = LogisticRegression(solver='lbfgs')\n",
    "# solver='lbfgs' is the default solver in newer version of sklearn\n",
    "log_reg.fit(X_train, y_train)"
   ]
  },
  {
   "cell_type": "markdown",
   "metadata": {},
   "source": [
    "# Predict on the test set"
   ]
  },
  {
   "cell_type": "code",
   "execution_count": 38,
   "metadata": {},
   "outputs": [],
   "source": [
    "#predict on the test set\n",
    "y_pred = log_reg.predict(X_test)"
   ]
  },
  {
   "cell_type": "markdown",
   "metadata": {},
   "source": [
    "# Evaluate the Model"
   ]
  },
  {
   "cell_type": "markdown",
   "metadata": {},
   "source": [
    "##### Confusion Matrix"
   ]
  },
  {
   "cell_type": "code",
   "execution_count": 39,
   "metadata": {},
   "outputs": [
    {
     "name": "stdout",
     "output_type": "stream",
     "text": [
      "Confusion Matrix:\n",
      "[[ 838    3    7]\n",
      " [  36 1491    0]\n",
      " [   6    0  624]]\n"
     ]
    }
   ],
   "source": [
    "#Confusion Matrix\n",
    "cm = confusion_matrix(y_test, y_pred)\n",
    "print(\"Confusion Matrix:\")\n",
    "print(cm)"
   ]
  },
  {
   "cell_type": "code",
   "execution_count": 40,
   "metadata": {},
   "outputs": [
    {
     "data": {
      "image/png": "[encoded data removed]",
      "text/plain": [
       "<Figure size 800x600 with 2 Axes>"
      ]
     },
     "metadata": {},
     "output_type": "display_data"
    }
   ],
   "source": [
    "# Create a heatmap\n",
    "plt.figure(figsize=(8, 6))\n",
    "sns.heatmap(cm, annot=True, fmt=\"d\", cmap=\"Blues\", xticklabels=[\"Class 0\", \"Class 1\", \"Class 2\"], yticklabels=[\"Class 0\", \"Class 1\", \"Class 2\"])\n",
    "plt.title(\"Confusion Matrix\")\n",
    "plt.xlabel(\"Predicted Labels\")\n",
    "plt.ylabel(\"True Labels\")\n",
    "plt.show()\n",
    "\n",
    "#Result: Correct predictions (True Positives for each class)."
   ]
  },
  {
   "cell_type": "markdown",
   "metadata": {},
   "source": [
    "### Classification Report"
   ]
  },
  {
   "cell_type": "code",
   "execution_count": 41,
   "metadata": {},
   "outputs": [
    {
     "name": "stdout",
     "output_type": "stream",
     "text": [
      "Classification Report:\n",
      "{'0': {'precision': 0.9522727272727273, 'recall': 0.9882075471698113, 'f1-score': 0.9699074074074074, 'support': 848.0}, '1': {'precision': 0.9979919678714859, 'recall': 0.9764243614931237, 'f1-score': 0.9870903674280039, 'support': 1527.0}, '2': {'precision': 0.9889064976228209, 'recall': 0.9904761904761905, 'f1-score': 0.9896907216494846, 'support': 630.0}, 'accuracy': 0.9826955074875208, 'macro avg': {'precision': 0.9797237309223447, 'recall': 0.9850360330463751, 'f1-score': 0.9822294988282986, 'support': 3005.0}, 'weighted avg': {'precision': 0.9831853914041293, 'recall': 0.9826955074875208, 'f1-score': 0.982786564786429, 'support': 3005.0}}\n"
     ]
    }
   ],
   "source": [
    "report = classification_report(y_test, y_pred,output_dict=True)\n",
    "print(\"Classification Report:\")\n",
    "print(report)"
   ]
  },
  {
   "cell_type": "code",
   "execution_count": 42,
   "metadata": {},
   "outputs": [
    {
     "data": {
      "image/png": "[encoded data removed]",
      "text/plain": [
       "<Figure size 1000x600 with 1 Axes>"
      ]
     },
     "metadata": {},
     "output_type": "display_data"
    }
   ],
   "source": [
    "# Convert the dictionary to a DataFrame for visualization\n",
    "report_df = pd.DataFrame(report).transpose()\n",
    "\n",
    "# Plot the precision, recall, and f1-score\n",
    "report_df = report_df.iloc[:-1, :-1]  # Exclude support and accuracy row/column\n",
    "report_df.plot(kind=\"bar\", figsize=(10, 6), colormap=\"viridis\")\n",
    "plt.title(\"Classification Report\")\n",
    "plt.xlabel(\"Classes\")\n",
    "plt.ylabel(\"Scores\")\n",
    "plt.xticks(rotation=45)\n",
    "plt.show()"
   ]
  },
  {
   "cell_type": "markdown",
   "metadata": {},
   "source": [
    "#### Accuracy Score"
   ]
  },
  {
   "cell_type": "code",
   "execution_count": 43,
   "metadata": {},
   "outputs": [
    {
     "name": "stdout",
     "output_type": "stream",
     "text": [
      "Accuracy: 0.9826955074875208\n"
     ]
    }
   ],
   "source": [
    "# Model Accuracy, how often is the classifier correct?\n",
    "print(f\"Accuracy: {accuracy_score(y_test, y_pred)}\")"
   ]
  },
  {
   "cell_type": "code",
   "execution_count": 44,
   "metadata": {},
   "outputs": [
    {
     "name": "stdout",
     "output_type": "stream",
     "text": [
      "Accuracy: 0.98\n"
     ]
    }
   ],
   "source": [
    "accuracy = accuracy_score(y_test, y_pred)\n",
    "print(f\"Accuracy: {accuracy:.2f}\")"
   ]
  },
  {
   "cell_type": "code",
   "execution_count": 45,
   "metadata": {},
   "outputs": [
    {
     "data": {
      "image/png": "[encoded data removed]",
      "text/plain": [
       "<Figure size 600x400 with 1 Axes>"
      ]
     },
     "metadata": {},
     "output_type": "display_data"
    }
   ],
   "source": [
    "# Display accuracy in a plot\n",
    "plt.figure(figsize=(6, 4))\n",
    "plt.bar([\"Accuracy\"], [accuracy], color=\"skyblue\")\n",
    "plt.ylim(0, 1)  # Scale from 0 to 1\n",
    "plt.title(\"Accuracy Score\")\n",
    "plt.text(0, accuracy / 2, f\"{accuracy:.2%}\", ha=\"center\", va=\"center\", fontsize=12)\n",
    "plt.show()"
   ]
  },
  {
   "cell_type": "markdown",
   "metadata": {},
   "source": [
    "#### AUROC Curve"
   ]
  },
  {
   "cell_type": "code",
   "execution_count": 46,
   "metadata": {},
   "outputs": [
    {
     "name": "stdout",
     "output_type": "stream",
     "text": [
      "Area Under the ROC Curve (AUROC) for Multi-Class: 1.00\n"
     ]
    }
   ],
   "source": [
    "# Calculate AUROC\n",
    "# Get predicted probabilities for all classes\n",
    "y_pred_multi = log_reg.predict_proba(X_test)\n",
    "\n",
    "# Calculate AUROC for multi-class classification\n",
    "auroc_multi = roc_auc_score(y_test, y_pred_multi, multi_class='ovr')\n",
    "print(f\"Area Under the ROC Curve (AUROC) for Multi-Class: {auroc_multi:.2f}\")"
   ]
  },
  {
   "cell_type": "markdown",
   "metadata": {},
   "source": [
    "# Interpret the Model"
   ]
  },
  {
   "cell_type": "markdown",
   "metadata": {},
   "source": [
    "##### Logistic regression provides coefficients that indicate feature importance"
   ]
  },
  {
   "cell_type": "code",
   "execution_count": 47,
   "metadata": {},
   "outputs": [
    {
     "name": "stdout",
     "output_type": "stream",
     "text": [
      "                  Feature  Coefficient\n",
      "0  base_cumulative_return     1.937368\n",
      "1        portfolio_return     1.097245\n",
      "3        number_of_trades     0.423550\n",
      "2      daily_sharpe_ratio     0.287509\n",
      "4    unique_tokens_traded     0.221608\n"
     ]
    }
   ],
   "source": [
    "feature_importance = pd.DataFrame({\n",
    "    'Feature': X.columns,\n",
    "    'Coefficient': log_reg.coef_[0]\n",
    "}).sort_values(by='Coefficient', ascending=False)\n",
    "print(feature_importance)"
   ]
  },
  {
   "cell_type": "markdown",
   "metadata": {},
   "source": [
    "# Randomized Search for Hyperparameter Tuning"
   ]
  },
  {
   "cell_type": "code",
   "execution_count": 50,
   "metadata": {},
   "outputs": [
    {
     "name": "stdout",
     "output_type": "stream",
     "text": [
      "Fitting 5 folds for each of 50 candidates, totalling 250 fits\n"
     ]
    },
    {
     "name": "stderr",
     "output_type": "stream",
     "text": [
      "/Users/olaoluwatunmise/miniconda3/envs/flipml/lib/python3.10/site-packages/sklearn/svm/_base.py:1235: ConvergenceWarning: Liblinear failed to converge, increase the number of iterations.\n",
      "  warnings.warn(\n",
      "/Users/olaoluwatunmise/miniconda3/envs/flipml/lib/python3.10/site-packages/sklearn/svm/_base.py:1235: ConvergenceWarning: Liblinear failed to converge, increase the number of iterations.\n",
      "  warnings.warn(\n",
      "/Users/olaoluwatunmise/miniconda3/envs/flipml/lib/python3.10/site-packages/sklearn/svm/_base.py:1235: ConvergenceWarning: Liblinear failed to converge, increase the number of iterations.\n",
      "  warnings.warn(\n",
      "/Users/olaoluwatunmise/miniconda3/envs/flipml/lib/python3.10/site-packages/sklearn/svm/_base.py:1235: ConvergenceWarning: Liblinear failed to converge, increase the number of iterations.\n",
      "  warnings.warn(\n",
      "/Users/olaoluwatunmise/miniconda3/envs/flipml/lib/python3.10/site-packages/sklearn/svm/_base.py:1235: ConvergenceWarning: Liblinear failed to converge, increase the number of iterations.\n",
      "  warnings.warn(\n",
      "/Users/olaoluwatunmise/miniconda3/envs/flipml/lib/python3.10/site-packages/sklearn/svm/_base.py:1235: ConvergenceWarning: Liblinear failed to converge, increase the number of iterations.\n",
      "  warnings.warn(\n",
      "/Users/olaoluwatunmise/miniconda3/envs/flipml/lib/python3.10/site-packages/sklearn/svm/_base.py:1235: ConvergenceWarning: Liblinear failed to converge, increase the number of iterations.\n",
      "  warnings.warn(\n",
      "/Users/olaoluwatunmise/miniconda3/envs/flipml/lib/python3.10/site-packages/sklearn/svm/_base.py:1235: ConvergenceWarning: Liblinear failed to converge, increase the number of iterations.\n",
      "  warnings.warn(\n",
      "/Users/olaoluwatunmise/miniconda3/envs/flipml/lib/python3.10/site-packages/sklearn/svm/_base.py:1235: ConvergenceWarning: Liblinear failed to converge, increase the number of iterations.\n",
      "  warnings.warn(\n",
      "/Users/olaoluwatunmise/miniconda3/envs/flipml/lib/python3.10/site-packages/sklearn/svm/_base.py:1235: ConvergenceWarning: Liblinear failed to converge, increase the number of iterations.\n",
      "  warnings.warn(\n",
      "/Users/olaoluwatunmise/miniconda3/envs/flipml/lib/python3.10/site-packages/sklearn/svm/_base.py:1235: ConvergenceWarning: Liblinear failed to converge, increase the number of iterations.\n",
      "  warnings.warn(\n",
      "/Users/olaoluwatunmise/miniconda3/envs/flipml/lib/python3.10/site-packages/sklearn/svm/_base.py:1235: ConvergenceWarning: Liblinear failed to converge, increase the number of iterations.\n",
      "  warnings.warn(\n",
      "/Users/olaoluwatunmise/miniconda3/envs/flipml/lib/python3.10/site-packages/sklearn/svm/_base.py:1235: ConvergenceWarning: Liblinear failed to converge, increase the number of iterations.\n",
      "  warnings.warn(\n",
      "/Users/olaoluwatunmise/miniconda3/envs/flipml/lib/python3.10/site-packages/sklearn/svm/_base.py:1235: ConvergenceWarning: Liblinear failed to converge, increase the number of iterations.\n",
      "  warnings.warn(\n",
      "/Users/olaoluwatunmise/miniconda3/envs/flipml/lib/python3.10/site-packages/sklearn/svm/_base.py:1235: ConvergenceWarning: Liblinear failed to converge, increase the number of iterations.\n",
      "  warnings.warn(\n",
      "/Users/olaoluwatunmise/miniconda3/envs/flipml/lib/python3.10/site-packages/sklearn/svm/_base.py:1235: ConvergenceWarning: Liblinear failed to converge, increase the number of iterations.\n",
      "  warnings.warn(\n",
      "/Users/olaoluwatunmise/miniconda3/envs/flipml/lib/python3.10/site-packages/sklearn/svm/_base.py:1235: ConvergenceWarning: Liblinear failed to converge, increase the number of iterations.\n",
      "  warnings.warn(\n",
      "/Users/olaoluwatunmise/miniconda3/envs/flipml/lib/python3.10/site-packages/sklearn/svm/_base.py:1235: ConvergenceWarning: Liblinear failed to converge, increase the number of iterations.\n",
      "  warnings.warn(\n",
      "/Users/olaoluwatunmise/miniconda3/envs/flipml/lib/python3.10/site-packages/sklearn/svm/_base.py:1235: ConvergenceWarning: Liblinear failed to converge, increase the number of iterations.\n",
      "  warnings.warn(\n",
      "/Users/olaoluwatunmise/miniconda3/envs/flipml/lib/python3.10/site-packages/sklearn/svm/_base.py:1235: ConvergenceWarning: Liblinear failed to converge, increase the number of iterations.\n",
      "  warnings.warn(\n",
      "/Users/olaoluwatunmise/miniconda3/envs/flipml/lib/python3.10/site-packages/sklearn/svm/_base.py:1235: ConvergenceWarning: Liblinear failed to converge, increase the number of iterations.\n",
      "  warnings.warn(\n",
      "/Users/olaoluwatunmise/miniconda3/envs/flipml/lib/python3.10/site-packages/sklearn/svm/_base.py:1235: ConvergenceWarning: Liblinear failed to converge, increase the number of iterations.\n",
      "  warnings.warn(\n",
      "/Users/olaoluwatunmise/miniconda3/envs/flipml/lib/python3.10/site-packages/sklearn/svm/_base.py:1235: ConvergenceWarning: Liblinear failed to converge, increase the number of iterations.\n",
      "  warnings.warn(\n",
      "/Users/olaoluwatunmise/miniconda3/envs/flipml/lib/python3.10/site-packages/sklearn/svm/_base.py:1235: ConvergenceWarning: Liblinear failed to converge, increase the number of iterations.\n",
      "  warnings.warn(\n",
      "/Users/olaoluwatunmise/miniconda3/envs/flipml/lib/python3.10/site-packages/sklearn/svm/_base.py:1235: ConvergenceWarning: Liblinear failed to converge, increase the number of iterations.\n",
      "  warnings.warn(\n",
      "/Users/olaoluwatunmise/miniconda3/envs/flipml/lib/python3.10/site-packages/sklearn/svm/_base.py:1235: ConvergenceWarning: Liblinear failed to converge, increase the number of iterations.\n",
      "  warnings.warn(\n",
      "/Users/olaoluwatunmise/miniconda3/envs/flipml/lib/python3.10/site-packages/sklearn/svm/_base.py:1235: ConvergenceWarning: Liblinear failed to converge, increase the number of iterations.\n",
      "  warnings.warn(\n",
      "/Users/olaoluwatunmise/miniconda3/envs/flipml/lib/python3.10/site-packages/sklearn/svm/_base.py:1235: ConvergenceWarning: Liblinear failed to converge, increase the number of iterations.\n",
      "  warnings.warn(\n",
      "/Users/olaoluwatunmise/miniconda3/envs/flipml/lib/python3.10/site-packages/sklearn/svm/_base.py:1235: ConvergenceWarning: Liblinear failed to converge, increase the number of iterations.\n",
      "  warnings.warn(\n",
      "/Users/olaoluwatunmise/miniconda3/envs/flipml/lib/python3.10/site-packages/sklearn/svm/_base.py:1235: ConvergenceWarning: Liblinear failed to converge, increase the number of iterations.\n",
      "  warnings.warn(\n",
      "/Users/olaoluwatunmise/miniconda3/envs/flipml/lib/python3.10/site-packages/sklearn/svm/_base.py:1235: ConvergenceWarning: Liblinear failed to converge, increase the number of iterations.\n",
      "  warnings.warn(\n",
      "/Users/olaoluwatunmise/miniconda3/envs/flipml/lib/python3.10/site-packages/sklearn/svm/_base.py:1235: ConvergenceWarning: Liblinear failed to converge, increase the number of iterations.\n",
      "  warnings.warn(\n",
      "/Users/olaoluwatunmise/miniconda3/envs/flipml/lib/python3.10/site-packages/sklearn/svm/_base.py:1235: ConvergenceWarning: Liblinear failed to converge, increase the number of iterations.\n",
      "  warnings.warn(\n",
      "/Users/olaoluwatunmise/miniconda3/envs/flipml/lib/python3.10/site-packages/sklearn/svm/_base.py:1235: ConvergenceWarning: Liblinear failed to converge, increase the number of iterations.\n",
      "  warnings.warn(\n"
     ]
    },
    {
     "name": "stdout",
     "output_type": "stream",
     "text": [
      "Best Parameters (Random Search): {'solver': 'lbfgs', 'penalty': 'l2', 'max_iter': 200, 'C': np.float64(10000.0)}\n",
      "Best Cross-Validation Accuracy (Random Search): 1.00\n",
      "\n",
      "Confusion Matrix (Tuned Model - Random Search):\n",
      "[[ 837    9    2]\n",
      " [   4 1523    0]\n",
      " [   2    0  628]]\n",
      "\n",
      "Classification Report (Tuned Model - Random Search):\n",
      "              precision    recall  f1-score   support\n",
      "\n",
      "           0       0.99      0.99      0.99       848\n",
      "           1       0.99      1.00      1.00      1527\n",
      "           2       1.00      1.00      1.00       630\n",
      "\n",
      "    accuracy                           0.99      3005\n",
      "   macro avg       0.99      0.99      0.99      3005\n",
      "weighted avg       0.99      0.99      0.99      3005\n",
      "\n",
      "\n",
      "Accuracy (Tuned Model - Random Search): 0.99\n"
     ]
    },
    {
     "name": "stderr",
     "output_type": "stream",
     "text": [
      "/Users/olaoluwatunmise/miniconda3/envs/flipml/lib/python3.10/site-packages/sklearn/svm/_base.py:1235: ConvergenceWarning: Liblinear failed to converge, increase the number of iterations.\n",
      "  warnings.warn(\n",
      "/Users/olaoluwatunmise/miniconda3/envs/flipml/lib/python3.10/site-packages/sklearn/model_selection/_validation.py:540: FitFailedWarning: \n",
      "75 fits failed out of a total of 250.\n",
      "The score on these train-test partitions for these parameters will be set to nan.\n",
      "If these failures are not expected, you can try to debug them by setting error_score='raise'.\n",
      "\n",
      "Below are more details about the failures:\n",
      "--------------------------------------------------------------------------------\n",
      "75 fits failed with the following error:\n",
      "Traceback (most recent call last):\n",
      "  File \"/Users/olaoluwatunmise/miniconda3/envs/flipml/lib/python3.10/site-packages/sklearn/model_selection/_validation.py\", line 888, in _fit_and_score\n",
      "    estimator.fit(X_train, y_train, **fit_params)\n",
      "  File \"/Users/olaoluwatunmise/miniconda3/envs/flipml/lib/python3.10/site-packages/sklearn/base.py\", line 1473, in wrapper\n",
      "    return fit_method(estimator, *args, **kwargs)\n",
      "  File \"/Users/olaoluwatunmise/miniconda3/envs/flipml/lib/python3.10/site-packages/sklearn/linear_model/_logistic.py\", line 1194, in fit\n",
      "    solver = _check_solver(self.solver, self.penalty, self.dual)\n",
      "  File \"/Users/olaoluwatunmise/miniconda3/envs/flipml/lib/python3.10/site-packages/sklearn/linear_model/_logistic.py\", line 67, in _check_solver\n",
      "    raise ValueError(\n",
      "ValueError: Solver lbfgs supports only 'l2' or None penalties, got l1 penalty.\n",
      "\n",
      "  warnings.warn(some_fits_failed_message, FitFailedWarning)\n",
      "/Users/olaoluwatunmise/miniconda3/envs/flipml/lib/python3.10/site-packages/sklearn/model_selection/_search.py:1103: UserWarning: One or more of the test scores are non-finite: [0.84706298 0.71667487        nan        nan 0.97329042 0.99201213\n",
      "        nan 0.88442366        nan 0.99018147        nan 0.99209533\n",
      " 0.92502938 0.99192897        nan 0.99384262        nan 0.631636\n",
      " 0.99142974        nan 0.98585465 0.631636   0.99791979 0.72840653\n",
      " 0.99209536 0.97270796 0.71667487        nan        nan        nan\n",
      " 0.97320723 0.99201217        nan 0.98751896 0.7167581         nan\n",
      " 0.99201217 0.93476481 0.94583123 0.99542353 0.99767017 0.98335836\n",
      "        nan 0.28290898 0.99192894 0.84714677        nan 0.76393769\n",
      " 0.99018147 0.89407618]\n",
      "  warnings.warn(\n"
     ]
    }
   ],
   "source": [
    "from sklearn.model_selection import RandomizedSearchCV\n",
    "import numpy as np\n",
    "\n",
    "# Define the parameter distribution\n",
    "param_distributions = {\n",
    "    'C': np.logspace(-4, 4, 20),  # Exponential range for regularization\n",
    "    'solver': ['liblinear', 'lbfgs'],\n",
    "    'penalty': ['l1', 'l2'],\n",
    "    'max_iter': [100, 200, 300]\n",
    "}\n",
    "\n",
    "# Initialize RandomizedSearchCV\n",
    "random_search = RandomizedSearchCV(\n",
    "    estimator=log_reg,\n",
    "    param_distributions=param_distributions,\n",
    "    n_iter=50,  # Number of parameter settings sampled\n",
    "    cv=5,\n",
    "    scoring='accuracy',\n",
    "    verbose=1,\n",
    "    n_jobs=-1,\n",
    "    random_state=42\n",
    ")\n",
    "\n",
    "# Fit the model to the training data\n",
    "random_search.fit(X_train, y_train)\n",
    "\n",
    "# Display best parameters and accuracy\n",
    "print(\"Best Parameters (Random Search):\", random_search.best_params_)\n",
    "print(f\"Best Cross-Validation Accuracy (Random Search): {random_search.best_score_:.2f}\")\n",
    "\n",
    "# Use the best estimator for predictions\n",
    "best_model_random = random_search.best_estimator_\n",
    "y_pred_random = best_model_random.predict(X_test)\n",
    "\n",
    "# Evaluate the tuned model\n",
    "print(\"\\nConfusion Matrix (Tuned Model - Random Search):\")\n",
    "print(confusion_matrix(y_test, y_pred_random))\n",
    "print(\"\\nClassification Report (Tuned Model - Random Search):\")\n",
    "print(classification_report(y_test, y_pred_random))\n",
    "print(f\"\\nAccuracy (Tuned Model - Random Search): {accuracy_score(y_test, y_pred_random):.2f}\")\n"
   ]
  },
  {
   "cell_type": "code",
   "execution_count": null,
   "metadata": {},
   "outputs": [],
   "source": []
  },
  {
   "cell_type": "code",
   "execution_count": null,
   "metadata": {},
   "outputs": [],
   "source": []
  },
  {
   "cell_type": "code",
   "execution_count": null,
   "metadata": {},
   "outputs": [],
   "source": []
  },
  {
   "cell_type": "code",
   "execution_count": null,
   "metadata": {},
   "outputs": [],
   "source": []
  },
  {
   "cell_type": "code",
   "execution_count": null,
   "metadata": {},
   "outputs": [],
   "source": []
  },
  {
   "cell_type": "code",
   "execution_count": null,
   "metadata": {},
   "outputs": [],
   "source": []
  },
  {
   "cell_type": "code",
   "execution_count": null,
   "metadata": {},
   "outputs": [],
   "source": []
  }
 ],
 "metadata": {
  "kernelspec": {
   "display_name": "web3ml",
   "language": "python",
   "name": "python3"
  },
  "language_info": {
   "codemirror_mode": {
    "name": "ipython",
    "version": 3
   },
   "file_extension": ".py",
   "mimetype": "text/x-python",
   "name": "python",
   "nbconvert_exporter": "python",
   "pygments_lexer": "ipython3",
   "version": "3.10.15"
  }
 },
 "nbformat": 4,
 "nbformat_minor": 2
}
