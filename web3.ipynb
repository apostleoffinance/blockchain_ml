{
 "cells": [
  {
   "cell_type": "code",
   "execution_count": 46,
   "metadata": {},
   "outputs": [],
   "source": [
    "import requests\n",
    "import pandas as pd\n",
    "from dotenv import load_dotenv\n",
    "import time\n",
    "import os\n",
    "import plotly.express as px"
   ]
  },
  {
   "cell_type": "code",
   "execution_count": 47,
   "metadata": {},
   "outputs": [
    {
     "name": "stdout",
     "output_type": "stream",
     "text": [
      "7ef5b99e-c242-4e1d-b001-8ce9b3bbc0ba\n"
     ]
    }
   ],
   "source": [
    "load_dotenv()\n",
    "flipside_api_key = os.getenv(\"FLIPSIDE_API_KEY\") # or can use api key directly\n",
    "print(flipside_api_key)"
   ]
  },
  {
   "cell_type": "code",
   "execution_count": 48,
   "metadata": {},
   "outputs": [],
   "source": [
    "def flipside_api_results(query, api_key, attempts=10, delay=30):\n",
    "    \"\"\"\n",
    "    Creates and retrieves results for a query using Flipside's JSON-RPC API with pagination.\n",
    "\n",
    "    Parameters:\n",
    "    - query: str, the SQL query to execute.\n",
    "    - api_key: str, your Flipside API key.\n",
    "    - attempts: int, number of attempts to poll for query completion.\n",
    "    - delay: int, delay (in seconds) between polling attempts.\n",
    "\n",
    "    Returns:\n",
    "    - pd.DataFrame: DataFrame containing the query results.\n",
    "    \"\"\"\n",
    "    import requests\n",
    "    import time\n",
    "    import pandas as pd\n",
    "\n",
    "    # Step 1: Create the query\n",
    "    url = \"https://api-v2.flipsidecrypto.xyz/json-rpc\"\n",
    "    headers = {\n",
    "        \"Content-Type\": \"application/json\",\n",
    "        \"x-api-key\": api_key\n",
    "    }\n",
    "    payload = {\n",
    "        \"jsonrpc\": \"2.0\",\n",
    "        \"method\": \"createQueryRun\",\n",
    "        \"params\": [\n",
    "            {\n",
    "                \"resultTTLHours\": 1,\n",
    "                \"maxAgeMinutes\": 0,\n",
    "                \"sql\": query,\n",
    "                \"tags\": {\"source\": \"python-script\", \"env\": \"production\"},\n",
    "                \"dataSource\": \"snowflake-default\",\n",
    "                \"dataProvider\": \"flipside\"\n",
    "            }\n",
    "        ],\n",
    "        \"id\": 1\n",
    "    }\n",
    "\n",
    "    response = requests.post(url, headers=headers, json=payload)\n",
    "    response_data = response.json()\n",
    "    print(response_data)\n",
    "\n",
    "    if 'error' in response_data:\n",
    "        raise Exception(f\"Error creating query: {response_data['error']['message']}\")\n",
    "\n",
    "    query_run_id = response_data.get('result', {}).get('queryRun', {}).get('id')\n",
    "    if not query_run_id:\n",
    "        raise KeyError(f\"Query creation failed. Response: {response_data}\")\n",
    "\n",
    "    # Step 2: Poll for query completion\n",
    "    for attempt in range(attempts):\n",
    "        status_payload = {\n",
    "            \"jsonrpc\": \"2.0\",\n",
    "            \"method\": \"getQueryRunResults\",\n",
    "            \"params\": [\n",
    "                {\n",
    "                    \"queryRunId\": query_run_id,\n",
    "                    \"format\": \"json\",\n",
    "                    \"page\": {\"number\": 1, \"size\": 10000}\n",
    "                }\n",
    "            ],\n",
    "            \"id\": 1\n",
    "        }\n",
    "        response = requests.post(url, headers=headers, json=status_payload)\n",
    "        resp_json = response.json()\n",
    "\n",
    "        if 'result' in resp_json and 'rows' in resp_json['result']:\n",
    "            # Step 3: Handle pagination\n",
    "            all_rows = []\n",
    "            page_number = 1\n",
    "\n",
    "            while True:\n",
    "                status_payload[\"params\"][0][\"page\"][\"number\"] = page_number\n",
    "                response = requests.post(url, headers=headers, json=status_payload)\n",
    "                resp_json = response.json()\n",
    "\n",
    "                if 'result' in resp_json and 'rows' in resp_json['result']:\n",
    "                    rows = resp_json['result']['rows']\n",
    "                    if not rows:\n",
    "                        break  # No more rows to fetch\n",
    "                    all_rows.extend(rows)\n",
    "                    page_number += 1\n",
    "                else:\n",
    "                    break\n",
    "\n",
    "            # Convert the rows to a DataFrame\n",
    "            return pd.DataFrame(all_rows)\n",
    "\n",
    "        if 'error' in resp_json and 'not yet completed' in resp_json['error'].get('message', '').lower():\n",
    "            time.sleep(delay)  # Wait before retrying\n",
    "        else:\n",
    "            raise Exception(f\"Unexpected error while fetching query results: {resp_json}\")\n",
    "\n",
    "    raise TimeoutError(f\"Query did not complete after {attempts} attempts.\")\n"
   ]
  },
  {
   "cell_type": "code",
   "execution_count": 49,
   "metadata": {},
   "outputs": [
    {
     "data": {
      "text/plain": [
       "\"Run the query against Flipside's query engine and await the results\""
      ]
     },
     "execution_count": 49,
     "metadata": {},
     "output_type": "execute_result"
    }
   ],
   "source": [
    "query = \"\"\"WITH RECURSIVE date_series AS (\n",
    "  SELECT\n",
    "    '2024-02-01' :: DATE AS day\n",
    "  UNION\n",
    "  ALL\n",
    "  SELECT\n",
    "    day + INTERVAL '1 day'\n",
    "  FROM\n",
    "    date_series\n",
    "  WHERE\n",
    "    day < CURRENT_DATE\n",
    "),\n",
    "traders AS (\n",
    "  SELECT\n",
    "    ORIGIN_FROM_ADDRESS,\n",
    "    SUM(AMOUNT_OUT_USD) AS Volume\n",
    "  FROM\n",
    "    ethereum.defi.ez_dex_swaps\n",
    "  GROUP BY\n",
    "    ORIGIN_FROM_ADDRESS\n",
    "  HAVING\n",
    "    SUM(AMOUNT_OUT_USD) > 10000000\n",
    "    AND MIN(BLOCK_TIMESTAMP) >= '2024-02-01'\n",
    "    AND MIN(BLOCK_TIMESTAMP) < '2024-03-01'\n",
    "  ORDER BY\n",
    "    SUM(AMOUNT_OUT_USD) DESC\n",
    "  LIMIT\n",
    "    500\n",
    "),\n",
    "symbols AS (\n",
    "  SELECT\n",
    "    DISTINCT SYMBOL,\n",
    "    COALESCE(\n",
    "      CONTRACT_ADDRESS,\n",
    "      '0xC02aaA39b223FE8D0A0e5C4F27eAD9083C756Cc2'\n",
    "    ) AS token_contract\n",
    "  FROM\n",
    "    ethereum.core.ez_balance_deltas\n",
    "  WHERE\n",
    "    USER_ADDRESS IN (\n",
    "      SELECT DISTINCT ORIGIN_FROM_ADDRESS FROM traders\n",
    "    )\n",
    "    AND HAS_PRICE = TRUE\n",
    "),\n",
    "daily_balances AS (\n",
    "  SELECT\n",
    "    DATE_TRUNC('day', BLOCK_TIMESTAMP) AS day,\n",
    "    SYMBOL,\n",
    "    CURRENT_BAL AS daily_balance,\n",
    "    COALESCE(\n",
    "      CONTRACT_ADDRESS,\n",
    "      '0xC02aaA39b223FE8D0A0e5C4F27eAD9083C756Cc2'\n",
    "    ) AS token_contract,\n",
    "    BLOCK_TIMESTAMP,\n",
    "    USER_ADDRESS\n",
    "  FROM\n",
    "    ethereum.core.ez_balance_deltas\n",
    "  WHERE\n",
    "    USER_ADDRESS IN (\n",
    "      SELECT DISTINCT ORIGIN_FROM_ADDRESS FROM traders\n",
    "    )\n",
    "    AND HAS_PRICE = TRUE\n",
    "),\n",
    "ranked_balances AS (\n",
    "  SELECT\n",
    "    day,\n",
    "    SYMBOL,\n",
    "    daily_balance,\n",
    "    token_contract,\n",
    "    USER_ADDRESS,\n",
    "    ROW_NUMBER() OVER (\n",
    "      PARTITION BY token_contract, day\n",
    "      ORDER BY BLOCK_TIMESTAMP DESC\n",
    "    ) AS rn\n",
    "  FROM\n",
    "    daily_balances\n",
    "),\n",
    "filtered_balances AS (\n",
    "  SELECT\n",
    "    day,\n",
    "    SYMBOL,\n",
    "    daily_balance,\n",
    "    token_contract,\n",
    "    USER_ADDRESS\n",
    "  FROM\n",
    "    ranked_balances\n",
    "  WHERE\n",
    "    rn = 1\n",
    "),\n",
    "filled_balances AS (\n",
    "  SELECT\n",
    "    ds.day,\n",
    "    s.SYMBOL,\n",
    "    COALESCE(fb.daily_balance, 0) AS filled_balance,\n",
    "    fb.USER_ADDRESS,\n",
    "    CASE\n",
    "      WHEN s.SYMBOL = 'ETH' THEN LOWER('0xC02aaA39b223FE8D0A0e5C4F27eAD9083C756Cc2')\n",
    "      ELSE fb.token_contract\n",
    "    END AS token_contract\n",
    "  FROM\n",
    "    date_series ds\n",
    "    CROSS JOIN symbols s\n",
    "    LEFT JOIN filtered_balances fb ON fb.day <= ds.day\n",
    "    AND fb.SYMBOL = s.SYMBOL QUALIFY ROW_NUMBER() OVER (\n",
    "      PARTITION BY ds.day, s.SYMBOL\n",
    "      ORDER BY fb.day DESC\n",
    "    ) = 1\n",
    "),\n",
    "latest_prices AS (\n",
    "  SELECT\n",
    "    DATE_TRUNC('day', hour) AS day,\n",
    "    TOKEN_ADDRESS,\n",
    "    PERCENTILE_CONT(0.5) WITHIN GROUP (ORDER BY PRICE) AS price\n",
    "  FROM\n",
    "    ethereum.price.ez_prices_hourly\n",
    "  GROUP BY\n",
    "    DATE_TRUNC('day', hour), TOKEN_ADDRESS\n",
    "),\n",
    "balances_with_prices AS (\n",
    "  SELECT\n",
    "    fb.day,\n",
    "    fb.SYMBOL,\n",
    "    fb.filled_balance,\n",
    "    USER_ADDRESS,\n",
    "    lp.PRICE AS daily_price,\n",
    "    fb.filled_balance * lp.PRICE AS value_in_usd\n",
    "  FROM\n",
    "    filled_balances fb\n",
    "    LEFT JOIN latest_prices lp ON lp.TOKEN_ADDRESS = fb.token_contract\n",
    "    AND lp.day = fb.day\n",
    "),\n",
    "aggregated_by_day AS (\n",
    "  SELECT\n",
    "    day,\n",
    "    daily_price,\n",
    "    SYMBOL,\n",
    "    USER_ADDRESS,\n",
    "    SUM(filled_balance) AS total_filled_balance,\n",
    "    SUM(value_in_usd) AS total_value_in_usd\n",
    "  FROM\n",
    "    balances_with_prices\n",
    "  GROUP BY\n",
    "    day, SYMBOL, USER_ADDRESS, daily_price\n",
    "),\n",
    "aggregated_added AS (\n",
    "  SELECT\n",
    "    a.day,\n",
    "    a.SYMBOL,\n",
    "    a.daily_price,\n",
    "    a.total_filled_balance,\n",
    "    a.USER_ADDRESS,\n",
    "    a.total_value_in_usd,\n",
    "    SUM(a.total_value_in_usd) OVER (PARTITION BY a.day, a.USER_ADDRESS) AS total_usd_in_treasury\n",
    "  FROM\n",
    "    aggregated_by_day a\n",
    "  WHERE\n",
    "    a.day <= CURRENT_DATE - 1\n",
    "    AND a.daily_price > 0\n",
    "  ORDER BY\n",
    "    a.day DESC, a.SYMBOL\n",
    "),\n",
    "aggregated_added2 AS (\n",
    "  SELECT\n",
    "    *,\n",
    "    total_value_in_usd / NULLIF(total_usd_in_treasury, 0) AS composition\n",
    "  FROM\n",
    "    aggregated_added\n",
    "  ORDER BY\n",
    "    day DESC, SYMBOL, USER_ADDRESS\n",
    "),\n",
    "daily_returns AS (\n",
    "  SELECT\n",
    "    day,\n",
    "    SYMBOL,\n",
    "    daily_price,\n",
    "    composition,\n",
    "    total_filled_balance,\n",
    "    total_usd_in_treasury,\n",
    "    USER_ADDRESS,\n",
    "    LAG(daily_price) OVER (PARTITION BY SYMBOL ORDER BY day) AS prev_day_price,\n",
    "    (daily_price - LAG(daily_price) OVER (PARTITION BY SYMBOL ORDER BY day)) / LAG(daily_price) OVER (PARTITION BY SYMBOL ORDER BY day) AS daily_return\n",
    "  FROM\n",
    "    aggregated_added2\n",
    "),\n",
    "weighted_daily_returns AS (\n",
    "  SELECT\n",
    "    day,\n",
    "    USER_ADDRESS,\n",
    "    daily_return,\n",
    "    SUM(daily_return * composition) AS weighted_daily_return\n",
    "  FROM\n",
    "    daily_returns\n",
    "  GROUP BY\n",
    "    day, USER_ADDRESS, daily_return\n",
    "),\n",
    "cumulative_returns AS (\n",
    "  SELECT\n",
    "    day,\n",
    "    daily_return,\n",
    "    weighted_daily_return,\n",
    "    USER_ADDRESS,\n",
    "    (1 + weighted_daily_return) AS daily_factor,\n",
    "    EXP(SUM(LN(1 + weighted_daily_return)) OVER (PARTITION BY USER_ADDRESS ORDER BY day ASC)) - 1 AS cumulative_return\n",
    "  FROM\n",
    "    weighted_daily_returns\n",
    "),\n",
    "base_return AS (\n",
    "  SELECT\n",
    "    day,\n",
    "    USER_ADDRESS,\n",
    "    daily_return,\n",
    "    cumulative_return AS base_cumulative_return\n",
    "  FROM\n",
    "    cumulative_returns\n",
    "  WHERE\n",
    "    cumulative_return IS NOT NULL\n",
    "),\n",
    "normalized_returns AS (\n",
    "  SELECT\n",
    "    day,\n",
    "    USER_ADDRESS,\n",
    "    daily_return,\n",
    "    base_cumulative_return,\n",
    "    100 + (100 * (base_cumulative_return - FIRST_VALUE(base_cumulative_return) OVER (PARTITION BY USER_ADDRESS ORDER BY day ASC))) AS portfolio_return\n",
    "  FROM\n",
    "    base_return\n",
    "),\n",
    "return_stats AS (\n",
    "  SELECT\n",
    "    day,\n",
    "    USER_ADDRESS,\n",
    "    base_cumulative_return,\n",
    "    portfolio_return,\n",
    "    AVG(portfolio_return) OVER (PARTITION BY USER_ADDRESS ORDER BY day ASC) AS avg_daily_return,\n",
    "    STDDEV(portfolio_return) OVER (PARTITION BY USER_ADDRESS ORDER BY day ASC) AS stddev_return\n",
    "  FROM\n",
    "    normalized_returns\n",
    "),\n",
    "sharpe_ratio AS (\n",
    "  SELECT\n",
    "    day,\n",
    "    USER_ADDRESS,\n",
    "    base_cumulative_return,\n",
    "    portfolio_return,\n",
    "    NULLIF((portfolio_return - 0.0430 / 365) / NULLIF(STDDEV(portfolio_return) OVER (PARTITION BY USER_ADDRESS ORDER BY day ASC), 0), 0) AS daily_sharpe_ratio\n",
    "  FROM\n",
    "    return_stats\n",
    "),\n",
    "trade_counts AS (\n",
    "  SELECT\n",
    "    DATE_TRUNC('day', BLOCK_TIMESTAMP) AS day,\n",
    "    ORIGIN_FROM_ADDRESS AS USER_ADDRESS,\n",
    "    COUNT(DISTINCT tx_hash) AS number_of_trades\n",
    "  FROM\n",
    "    ethereum.defi.ez_dex_swaps\n",
    "  GROUP BY\n",
    "    day, ORIGIN_FROM_ADDRESS\n",
    "),\n",
    "\n",
    "tokens_traded AS (\n",
    "  SELECT\n",
    "    DATE_TRUNC('day', BLOCK_TIMESTAMP) AS day,\n",
    "    ORIGIN_FROM_ADDRESS AS USER_ADDRESS,\n",
    "    COUNT(DISTINCT SYMBOL_OUT) AS unique_tokens_traded\n",
    "  FROM\n",
    "    ethereum.defi.ez_dex_swaps\n",
    "  GROUP BY\n",
    "    day, ORIGIN_FROM_ADDRESS\n",
    "),\n",
    "\n",
    "final_normalized_returns AS (\n",
    "  SELECT\n",
    "    sr.day,\n",
    "    sr.USER_ADDRESS,\n",
    "    sr.base_cumulative_return,\n",
    "    sr.portfolio_return,\n",
    "    sr.daily_sharpe_ratio,\n",
    "    CASE\n",
    "      WHEN AVG(sr.portfolio_return) > 120 AND sr.daily_sharpe_ratio > 1.5 THEN 'Good Trader'\n",
    "      WHEN AVG(sr.portfolio_return) BETWEEN 100 AND 120 THEN 'Average Trader'\n",
    "      WHEN AVG(sr.portfolio_return) < 100 THEN 'Bad Trader'\n",
    "    END AS trader_class\n",
    "  FROM\n",
    "    sharpe_ratio sr\n",
    "  WHERE\n",
    "    sr.daily_sharpe_ratio IS NOT NULL\n",
    "  GROUP BY\n",
    "    sr.day, sr.USER_ADDRESS, sr.base_cumulative_return, sr.portfolio_return, sr.daily_sharpe_ratio\n",
    ")\n",
    "\n",
    "SELECT\n",
    "  fnr.day,\n",
    "  fnr.USER_ADDRESS,\n",
    "  fnr.base_cumulative_return,\n",
    "  fnr.portfolio_return,\n",
    "  fnr.daily_sharpe_ratio,\n",
    "  fnr.trader_class,\n",
    "  tc.number_of_trades,\n",
    "  tt.unique_tokens_traded\n",
    "FROM\n",
    "  final_normalized_returns fnr\n",
    "  LEFT JOIN trade_counts tc ON tc.day = fnr.day AND tc.USER_ADDRESS = fnr.USER_ADDRESS\n",
    "  LEFT JOIN tokens_traded tt ON tt.day = fnr.day AND tt.USER_ADDRESS = fnr.USER_ADDRESS;\n",
    "\"\"\"\n",
    "\"\"\"Run the query against Flipside's query engine and await the results\"\"\""
   ]
  },
  {
   "cell_type": "code",
   "execution_count": 50,
   "metadata": {},
   "outputs": [
    {
     "name": "stdout",
     "output_type": "stream",
     "text": [
      "{'error': {'errorType': 'BILLING_ERROR', 'name': 'PaymentRequired', 'msg': 'Please add a valid payment method at https://flipsidecrypto.xyz/api to continue using the Flipside SDK/API. If you have already added a credit card you may be seeing this message due to a failed payment (please check the status of your account at https://flipsidecrypto.xyz/api).'}, 'data': None, 'status': 'error'}\n"
     ]
    },
    {
     "ename": "KeyError",
     "evalue": "'message'",
     "output_type": "error",
     "traceback": [
      "\u001b[0;31m---------------------------------------------------------------------------\u001b[0m",
      "\u001b[0;31mKeyError\u001b[0m                                  Traceback (most recent call last)",
      "Cell \u001b[0;32mIn[50], line 1\u001b[0m\n\u001b[0;32m----> 1\u001b[0m df \u001b[38;5;241m=\u001b[39m \u001b[43mflipside_api_results\u001b[49m\u001b[43m(\u001b[49m\u001b[43mquery\u001b[49m\u001b[43m,\u001b[49m\u001b[43mflipside_api_key\u001b[49m\u001b[43m)\u001b[49m\n",
      "Cell \u001b[0;32mIn[48], line 45\u001b[0m, in \u001b[0;36mflipside_api_results\u001b[0;34m(query, api_key, attempts, delay)\u001b[0m\n\u001b[1;32m     42\u001b[0m \u001b[38;5;28mprint\u001b[39m(response_data)\n\u001b[1;32m     44\u001b[0m \u001b[38;5;28;01mif\u001b[39;00m \u001b[38;5;124m'\u001b[39m\u001b[38;5;124merror\u001b[39m\u001b[38;5;124m'\u001b[39m \u001b[38;5;129;01min\u001b[39;00m response_data:\n\u001b[0;32m---> 45\u001b[0m     \u001b[38;5;28;01mraise\u001b[39;00m \u001b[38;5;167;01mException\u001b[39;00m(\u001b[38;5;124mf\u001b[39m\u001b[38;5;124m\"\u001b[39m\u001b[38;5;124mError creating query: \u001b[39m\u001b[38;5;132;01m{\u001b[39;00m\u001b[43mresponse_data\u001b[49m\u001b[43m[\u001b[49m\u001b[38;5;124;43m'\u001b[39;49m\u001b[38;5;124;43merror\u001b[39;49m\u001b[38;5;124;43m'\u001b[39;49m\u001b[43m]\u001b[49m\u001b[43m[\u001b[49m\u001b[38;5;124;43m'\u001b[39;49m\u001b[38;5;124;43mmessage\u001b[39;49m\u001b[38;5;124;43m'\u001b[39;49m\u001b[43m]\u001b[49m\u001b[38;5;132;01m}\u001b[39;00m\u001b[38;5;124m\"\u001b[39m)\n\u001b[1;32m     47\u001b[0m query_run_id \u001b[38;5;241m=\u001b[39m response_data\u001b[38;5;241m.\u001b[39mget(\u001b[38;5;124m'\u001b[39m\u001b[38;5;124mresult\u001b[39m\u001b[38;5;124m'\u001b[39m, {})\u001b[38;5;241m.\u001b[39mget(\u001b[38;5;124m'\u001b[39m\u001b[38;5;124mqueryRun\u001b[39m\u001b[38;5;124m'\u001b[39m, {})\u001b[38;5;241m.\u001b[39mget(\u001b[38;5;124m'\u001b[39m\u001b[38;5;124mid\u001b[39m\u001b[38;5;124m'\u001b[39m)\n\u001b[1;32m     48\u001b[0m \u001b[38;5;28;01mif\u001b[39;00m \u001b[38;5;129;01mnot\u001b[39;00m query_run_id:\n",
      "\u001b[0;31mKeyError\u001b[0m: 'message'"
     ]
    }
   ],
   "source": [
    "df = flipside_api_results(query,flipside_api_key)"
   ]
  },
  {
   "cell_type": "code",
   "execution_count": 6,
   "metadata": {},
   "outputs": [
    {
     "data": {
      "text/html": [
       "<div>\n",
       "<style scoped>\n",
       "    .dataframe tbody tr th:only-of-type {\n",
       "        vertical-align: middle;\n",
       "    }\n",
       "\n",
       "    .dataframe tbody tr th {\n",
       "        vertical-align: top;\n",
       "    }\n",
       "\n",
       "    .dataframe thead th {\n",
       "        text-align: right;\n",
       "    }\n",
       "</style>\n",
       "<table border=\"1\" class=\"dataframe\">\n",
       "  <thead>\n",
       "    <tr style=\"text-align: right;\">\n",
       "      <th></th>\n",
       "      <th>day</th>\n",
       "      <th>user_address</th>\n",
       "      <th>base_cumulative_return</th>\n",
       "      <th>portfolio_return</th>\n",
       "      <th>daily_sharpe_ratio</th>\n",
       "      <th>trader_class</th>\n",
       "      <th>number_of_trades</th>\n",
       "      <th>unique_tokens_traded</th>\n",
       "    </tr>\n",
       "  </thead>\n",
       "  <tbody>\n",
       "    <tr>\n",
       "      <th>0</th>\n",
       "      <td>2024-07-03T00:00:00.000Z</td>\n",
       "      <td>0x09dc02dfb7de2b150fe9a2d2ab92cf5767d423f9</td>\n",
       "      <td>-0.952872</td>\n",
       "      <td>19.799528</td>\n",
       "      <td>1.300633</td>\n",
       "      <td>Bad Trader</td>\n",
       "      <td>36.0</td>\n",
       "      <td>6.0</td>\n",
       "    </tr>\n",
       "    <tr>\n",
       "      <th>1</th>\n",
       "      <td>2024-06-21T00:00:00.000Z</td>\n",
       "      <td>0x580e4ce9d324426e8e5e2a33298a1d2fd73273a7</td>\n",
       "      <td>27.609875</td>\n",
       "      <td>2862.586334</td>\n",
       "      <td>2.276141</td>\n",
       "      <td>Good Trader</td>\n",
       "      <td>NaN</td>\n",
       "      <td>NaN</td>\n",
       "    </tr>\n",
       "    <tr>\n",
       "      <th>2</th>\n",
       "      <td>2024-09-02T00:00:00.000Z</td>\n",
       "      <td>0x2eb6ffcfc1591349a1983aad3e80d8fb3cec1df2</td>\n",
       "      <td>9.443217</td>\n",
       "      <td>1049.012213</td>\n",
       "      <td>3.530742</td>\n",
       "      <td>Good Trader</td>\n",
       "      <td>9.0</td>\n",
       "      <td>4.0</td>\n",
       "    </tr>\n",
       "    <tr>\n",
       "      <th>3</th>\n",
       "      <td>2024-04-08T00:00:00.000Z</td>\n",
       "      <td>0x448166a91e7bc50d0ac720c2fbed29e0963f5af8</td>\n",
       "      <td>0.007613</td>\n",
       "      <td>100.516119</td>\n",
       "      <td>29.420332</td>\n",
       "      <td>Average Trader</td>\n",
       "      <td>380.0</td>\n",
       "      <td>20.0</td>\n",
       "    </tr>\n",
       "    <tr>\n",
       "      <th>4</th>\n",
       "      <td>2024-09-13T00:00:00.000Z</td>\n",
       "      <td>0x09dc02dfb7de2b150fe9a2d2ab92cf5767d423f9</td>\n",
       "      <td>-0.999127</td>\n",
       "      <td>15.174004</td>\n",
       "      <td>1.007717</td>\n",
       "      <td>Bad Trader</td>\n",
       "      <td>7.0</td>\n",
       "      <td>2.0</td>\n",
       "    </tr>\n",
       "    <tr>\n",
       "      <th>...</th>\n",
       "      <td>...</td>\n",
       "      <td>...</td>\n",
       "      <td>...</td>\n",
       "      <td>...</td>\n",
       "      <td>...</td>\n",
       "      <td>...</td>\n",
       "      <td>...</td>\n",
       "      <td>...</td>\n",
       "    </tr>\n",
       "    <tr>\n",
       "      <th>18542</th>\n",
       "      <td>2024-06-06T00:00:00.000Z</td>\n",
       "      <td>0x68478b80d61e9aab4f7d63b29671b90c10799a27</td>\n",
       "      <td>4.318614</td>\n",
       "      <td>537.627847</td>\n",
       "      <td>4.742655</td>\n",
       "      <td>Good Trader</td>\n",
       "      <td>NaN</td>\n",
       "      <td>NaN</td>\n",
       "    </tr>\n",
       "    <tr>\n",
       "      <th>18543</th>\n",
       "      <td>2024-10-31T00:00:00.000Z</td>\n",
       "      <td>0xf7ca1f0ff0995c84fef530f7c74c69fb80331e81</td>\n",
       "      <td>-0.011425</td>\n",
       "      <td>97.729987</td>\n",
       "      <td>19.369961</td>\n",
       "      <td>Bad Trader</td>\n",
       "      <td>NaN</td>\n",
       "      <td>NaN</td>\n",
       "    </tr>\n",
       "    <tr>\n",
       "      <th>18544</th>\n",
       "      <td>2024-07-10T00:00:00.000Z</td>\n",
       "      <td>0xb8ca7f877391032d9da4c995d64cdab3ecd03efd</td>\n",
       "      <td>-0.276408</td>\n",
       "      <td>71.550843</td>\n",
       "      <td>2.997353</td>\n",
       "      <td>Bad Trader</td>\n",
       "      <td>NaN</td>\n",
       "      <td>NaN</td>\n",
       "    </tr>\n",
       "    <tr>\n",
       "      <th>18545</th>\n",
       "      <td>2024-06-04T00:00:00.000Z</td>\n",
       "      <td>0x743b6a564dc23912cc6d67e78db6e07e66bd3515</td>\n",
       "      <td>1.943843</td>\n",
       "      <td>275.950994</td>\n",
       "      <td>4.559720</td>\n",
       "      <td>Good Trader</td>\n",
       "      <td>NaN</td>\n",
       "      <td>NaN</td>\n",
       "    </tr>\n",
       "    <tr>\n",
       "      <th>18546</th>\n",
       "      <td>2024-03-15T00:00:00.000Z</td>\n",
       "      <td>0x580e4ce9d324426e8e5e2a33298a1d2fd73273a7</td>\n",
       "      <td>6.779671</td>\n",
       "      <td>779.565965</td>\n",
       "      <td>2.997520</td>\n",
       "      <td>Good Trader</td>\n",
       "      <td>6.0</td>\n",
       "      <td>4.0</td>\n",
       "    </tr>\n",
       "  </tbody>\n",
       "</table>\n",
       "<p>18547 rows × 8 columns</p>\n",
       "</div>"
      ],
      "text/plain": [
       "                            day                                user_address  \\\n",
       "0      2024-07-03T00:00:00.000Z  0x09dc02dfb7de2b150fe9a2d2ab92cf5767d423f9   \n",
       "1      2024-06-21T00:00:00.000Z  0x580e4ce9d324426e8e5e2a33298a1d2fd73273a7   \n",
       "2      2024-09-02T00:00:00.000Z  0x2eb6ffcfc1591349a1983aad3e80d8fb3cec1df2   \n",
       "3      2024-04-08T00:00:00.000Z  0x448166a91e7bc50d0ac720c2fbed29e0963f5af8   \n",
       "4      2024-09-13T00:00:00.000Z  0x09dc02dfb7de2b150fe9a2d2ab92cf5767d423f9   \n",
       "...                         ...                                         ...   \n",
       "18542  2024-06-06T00:00:00.000Z  0x68478b80d61e9aab4f7d63b29671b90c10799a27   \n",
       "18543  2024-10-31T00:00:00.000Z  0xf7ca1f0ff0995c84fef530f7c74c69fb80331e81   \n",
       "18544  2024-07-10T00:00:00.000Z  0xb8ca7f877391032d9da4c995d64cdab3ecd03efd   \n",
       "18545  2024-06-04T00:00:00.000Z  0x743b6a564dc23912cc6d67e78db6e07e66bd3515   \n",
       "18546  2024-03-15T00:00:00.000Z  0x580e4ce9d324426e8e5e2a33298a1d2fd73273a7   \n",
       "\n",
       "       base_cumulative_return  portfolio_return  daily_sharpe_ratio  \\\n",
       "0                   -0.952872         19.799528            1.300633   \n",
       "1                   27.609875       2862.586334            2.276141   \n",
       "2                    9.443217       1049.012213            3.530742   \n",
       "3                    0.007613        100.516119           29.420332   \n",
       "4                   -0.999127         15.174004            1.007717   \n",
       "...                       ...               ...                 ...   \n",
       "18542                4.318614        537.627847            4.742655   \n",
       "18543               -0.011425         97.729987           19.369961   \n",
       "18544               -0.276408         71.550843            2.997353   \n",
       "18545                1.943843        275.950994            4.559720   \n",
       "18546                6.779671        779.565965            2.997520   \n",
       "\n",
       "         trader_class  number_of_trades  unique_tokens_traded  \n",
       "0          Bad Trader              36.0                   6.0  \n",
       "1         Good Trader               NaN                   NaN  \n",
       "2         Good Trader               9.0                   4.0  \n",
       "3      Average Trader             380.0                  20.0  \n",
       "4          Bad Trader               7.0                   2.0  \n",
       "...               ...               ...                   ...  \n",
       "18542     Good Trader               NaN                   NaN  \n",
       "18543      Bad Trader               NaN                   NaN  \n",
       "18544      Bad Trader               NaN                   NaN  \n",
       "18545     Good Trader               NaN                   NaN  \n",
       "18546     Good Trader               6.0                   4.0  \n",
       "\n",
       "[18547 rows x 8 columns]"
      ]
     },
     "execution_count": 6,
     "metadata": {},
     "output_type": "execute_result"
    }
   ],
   "source": [
    "# df.set_index('dt',inplace=True)\n",
    "# df.index = pd.to_datetime(df.index)\n",
    "df.drop(columns='__row_index',inplace=True)\n",
    "df"
   ]
  },
  {
   "cell_type": "code",
   "execution_count": 7,
   "metadata": {},
   "outputs": [
    {
     "name": "stdout",
     "output_type": "stream",
     "text": [
      "          day                                user_address  \\\n",
      "0  2024-07-03  0x09dc02dfb7de2b150fe9a2d2ab92cf5767d423f9   \n",
      "1  2024-06-21  0x580e4ce9d324426e8e5e2a33298a1d2fd73273a7   \n",
      "2  2024-09-02  0x2eb6ffcfc1591349a1983aad3e80d8fb3cec1df2   \n",
      "3  2024-04-08  0x448166a91e7bc50d0ac720c2fbed29e0963f5af8   \n",
      "4  2024-09-13  0x09dc02dfb7de2b150fe9a2d2ab92cf5767d423f9   \n",
      "\n",
      "   base_cumulative_return  portfolio_return  daily_sharpe_ratio  \\\n",
      "0               -0.952872         19.799528            1.300633   \n",
      "1               27.609875       2862.586334            2.276141   \n",
      "2                9.443217       1049.012213            3.530742   \n",
      "3                0.007613        100.516119           29.420332   \n",
      "4               -0.999127         15.174004            1.007717   \n",
      "\n",
      "     trader_class  number_of_trades  unique_tokens_traded  \n",
      "0      Bad Trader              36.0                   6.0  \n",
      "1     Good Trader               NaN                   NaN  \n",
      "2     Good Trader               9.0                   4.0  \n",
      "3  Average Trader             380.0                  20.0  \n",
      "4      Bad Trader               7.0                   2.0  \n"
     ]
    }
   ],
   "source": [
    "# Convert 'day' column to datetime format and remove time component \n",
    "df['day'] = pd.to_datetime(df['day'], errors='coerce').dt.date\n",
    "#Remove later\n",
    "print(df.head())"
   ]
  },
  {
   "cell_type": "code",
   "execution_count": 8,
   "metadata": {},
   "outputs": [
    {
     "name": "stdout",
     "output_type": "stream",
     "text": [
      "              day                                user_address  \\\n",
      "1      2024-06-21  0x580e4ce9d324426e8e5e2a33298a1d2fd73273a7   \n",
      "2      2024-09-02  0x2eb6ffcfc1591349a1983aad3e80d8fb3cec1df2   \n",
      "5      2024-11-05  0x1518c211f611114decd1842894e08b803afcd27b   \n",
      "7      2024-04-22  0xd0640fcb1ef5ac385b57701c5ef7030331c8d80b   \n",
      "12     2024-07-10  0x1518c211f611114decd1842894e08b803afcd27b   \n",
      "...           ...                                         ...   \n",
      "18536  2024-11-06  0x448166a91e7bc50d0ac720c2fbed29e0963f5af8   \n",
      "18538  2024-11-13  0xfb94d3404c1d3d9d6f08f79e58041d5ea95accfa   \n",
      "18542  2024-06-06  0x68478b80d61e9aab4f7d63b29671b90c10799a27   \n",
      "18545  2024-06-04  0x743b6a564dc23912cc6d67e78db6e07e66bd3515   \n",
      "18546  2024-03-15  0x580e4ce9d324426e8e5e2a33298a1d2fd73273a7   \n",
      "\n",
      "       base_cumulative_return  portfolio_return  daily_sharpe_ratio  \\\n",
      "1                   27.609875       2862.586334            2.276141   \n",
      "2                    9.443217       1049.012213            3.530742   \n",
      "5                   32.292480       3306.267984            3.985894   \n",
      "7                    8.014126        894.536913            3.808686   \n",
      "12                   7.048137        781.833627            1.165384   \n",
      "...                       ...               ...                 ...   \n",
      "18536                6.892621        789.016908            2.381632   \n",
      "18538                8.054333        905.787415            3.202015   \n",
      "18542                4.318614        537.627847            4.742655   \n",
      "18545                1.943843        275.950994            4.559720   \n",
      "18546                6.779671        779.565965            2.997520   \n",
      "\n",
      "      trader_class  number_of_trades  unique_tokens_traded  \n",
      "1      Good Trader               NaN                   NaN  \n",
      "2      Good Trader               9.0                   4.0  \n",
      "5      Good Trader               NaN                   NaN  \n",
      "7      Good Trader               9.0                   5.0  \n",
      "12            None               NaN                   NaN  \n",
      "...            ...               ...                   ...  \n",
      "18536  Good Trader            1661.0                  62.0  \n",
      "18538  Good Trader               NaN                   NaN  \n",
      "18542  Good Trader               NaN                   NaN  \n",
      "18545  Good Trader               NaN                   NaN  \n",
      "18546  Good Trader               6.0                   4.0  \n",
      "\n",
      "[3507 rows x 8 columns]\n"
     ]
    }
   ],
   "source": [
    "# Define a function to detect outliers based on IQR\n",
    "def find_outliers_iqr(df, column):\n",
    "    Q1 = df[column].quantile(0.25)\n",
    "    Q3 = df[column].quantile(0.75)\n",
    "    IQR = Q3 - Q1\n",
    "    lower_bound = Q1 - 1.5 * IQR\n",
    "    upper_bound = Q3 + 1.5 * IQR\n",
    "    return df[(df[column] < lower_bound) | (df[column] > upper_bound)]\n",
    "\n",
    "#Find outliers for 'portfolio_return'\n",
    "outliers = find_outliers_iqr(df, 'portfolio_return')\n",
    "print(outliers)"
   ]
  },
  {
   "cell_type": "code",
   "execution_count": 9,
   "metadata": {},
   "outputs": [
    {
     "name": "stdout",
     "output_type": "stream",
     "text": [
      "              day                                user_address  \\\n",
      "0      2024-07-03  0x09dc02dfb7de2b150fe9a2d2ab92cf5767d423f9   \n",
      "3      2024-04-08  0x448166a91e7bc50d0ac720c2fbed29e0963f5af8   \n",
      "4      2024-09-13  0x09dc02dfb7de2b150fe9a2d2ab92cf5767d423f9   \n",
      "6      2024-10-10  0x59426902b232182a6e833903761ef617e1375f83   \n",
      "8      2024-10-15  0xfe8325de4344db4ef367211456e8b3d2fcf9ee8f   \n",
      "...           ...                                         ...   \n",
      "18539  2024-11-04  0x74882149e6a43b8e69cac6aef92d753e96054b78   \n",
      "18540  2024-03-02  0x3af4a49c8e2fcaf33fd3389543b80d320fcc9091   \n",
      "18541  2024-06-23  0x59b0bba5163299a9dd08c155330e1e58567a21c0   \n",
      "18543  2024-10-31  0xf7ca1f0ff0995c84fef530f7c74c69fb80331e81   \n",
      "18544  2024-07-10  0xb8ca7f877391032d9da4c995d64cdab3ecd03efd   \n",
      "\n",
      "       base_cumulative_return  portfolio_return  daily_sharpe_ratio  \\\n",
      "0                   -0.952872         19.799528            1.300633   \n",
      "3                    0.007613        100.516119           29.420332   \n",
      "4                   -0.999127         15.174004            1.007717   \n",
      "6                   -0.187491         82.503509           10.512198   \n",
      "8                    0.115597        124.608734           13.566515   \n",
      "...                       ...               ...                 ...   \n",
      "18539                0.031985        103.111730           27.547217   \n",
      "18540                0.150260        114.827208           24.343850   \n",
      "18541               -0.456750         54.463454            2.834512   \n",
      "18543               -0.011425         97.729987           19.369961   \n",
      "18544               -0.276408         71.550843            2.997353   \n",
      "\n",
      "         trader_class  number_of_trades  unique_tokens_traded  \n",
      "0          Bad Trader              36.0                   6.0  \n",
      "3      Average Trader             380.0                  20.0  \n",
      "4          Bad Trader               7.0                   2.0  \n",
      "6          Bad Trader               NaN                   NaN  \n",
      "8         Good Trader               NaN                   NaN  \n",
      "...               ...               ...                   ...  \n",
      "18539  Average Trader              23.0                   2.0  \n",
      "18540  Average Trader               NaN                   NaN  \n",
      "18541      Bad Trader               NaN                   NaN  \n",
      "18543      Bad Trader               NaN                   NaN  \n",
      "18544      Bad Trader               NaN                   NaN  \n",
      "\n",
      "[15040 rows x 8 columns]\n"
     ]
    }
   ],
   "source": [
    "# Remove outliers from 'portfolio_return' column based on IQR method\n",
    "def remove_outliers_iqr(df, column):\n",
    "    Q1 = df[column].quantile(0.25)\n",
    "    Q3 = df[column].quantile(0.75)\n",
    "    IQR = Q3 - Q1\n",
    "    lower_bound = Q1 - 1.5 * IQR\n",
    "    upper_bound = Q3 + 1.5 * IQR\n",
    "    return df[(df[column] >= lower_bound) & (df[column] <= upper_bound)]\n",
    "\n",
    "# Apply the function to remove outliers from the 'portfolio_return' column\n",
    "df_clean = remove_outliers_iqr(df, 'portfolio_return')\n",
    "\n",
    "# Verify the result\n",
    "print(df_clean)"
   ]
  },
  {
   "cell_type": "code",
   "execution_count": 10,
   "metadata": {},
   "outputs": [
    {
     "name": "stdout",
     "output_type": "stream",
     "text": [
      "day                           0\n",
      "user_address                  0\n",
      "base_cumulative_return        0\n",
      "portfolio_return              0\n",
      "daily_sharpe_ratio            0\n",
      "trader_class                  8\n",
      "number_of_trades          11115\n",
      "unique_tokens_traded      11115\n",
      "dtype: int64\n"
     ]
    }
   ],
   "source": [
    "# Check for NaN values in the entire DataFrame\n",
    "print(df_clean.isna().sum())"
   ]
  },
  {
   "cell_type": "code",
   "execution_count": 11,
   "metadata": {},
   "outputs": [
    {
     "name": "stdout",
     "output_type": "stream",
     "text": [
      "day                           0\n",
      "user_address                  0\n",
      "base_cumulative_return        0\n",
      "portfolio_return              0\n",
      "daily_sharpe_ratio            0\n",
      "trader_class                  0\n",
      "number_of_trades          11108\n",
      "unique_tokens_traded      11108\n",
      "dtype: int64\n"
     ]
    }
   ],
   "source": [
    "#drop rows in trader_class column with NaN values\n",
    "df_cleann = df_clean.dropna(subset=['trader_class'])\n",
    "print(df_cleann.isna().sum())"
   ]
  },
  {
   "cell_type": "code",
   "execution_count": 12,
   "metadata": {},
   "outputs": [
    {
     "name": "stdout",
     "output_type": "stream",
     "text": [
      "day                       0\n",
      "user_address              0\n",
      "base_cumulative_return    0\n",
      "portfolio_return          0\n",
      "daily_sharpe_ratio        0\n",
      "trader_class              0\n",
      "number_of_trades          0\n",
      "unique_tokens_traded      0\n",
      "dtype: int64\n"
     ]
    }
   ],
   "source": [
    "#Fill NaN with 0\n",
    "df_cleaned = df_cleann.fillna(0)\n",
    "print(df_cleaned.isna().sum())"
   ]
  },
  {
   "cell_type": "code",
   "execution_count": 13,
   "metadata": {},
   "outputs": [
    {
     "data": {
      "text/plain": [
       "day                        object\n",
       "user_address               object\n",
       "base_cumulative_return    float64\n",
       "portfolio_return          float64\n",
       "daily_sharpe_ratio        float64\n",
       "trader_class               object\n",
       "number_of_trades          float64\n",
       "unique_tokens_traded      float64\n",
       "dtype: object"
      ]
     },
     "execution_count": 13,
     "metadata": {},
     "output_type": "execute_result"
    }
   ],
   "source": [
    "df_cleaned.dtypes"
   ]
  },
  {
   "cell_type": "code",
   "execution_count": 14,
   "metadata": {},
   "outputs": [],
   "source": [
    "#convert day to datetime\n",
    "df_cleaned['day'] = pd.to_datetime(df_cleaned['day'])"
   ]
  },
  {
   "cell_type": "code",
   "execution_count": 15,
   "metadata": {},
   "outputs": [
    {
     "data": {
      "text/plain": [
       "day                       datetime64[ns]\n",
       "user_address                      object\n",
       "base_cumulative_return           float64\n",
       "portfolio_return                 float64\n",
       "daily_sharpe_ratio               float64\n",
       "trader_class                      object\n",
       "number_of_trades                 float64\n",
       "unique_tokens_traded             float64\n",
       "dtype: object"
      ]
     },
     "execution_count": 15,
     "metadata": {},
     "output_type": "execute_result"
    }
   ],
   "source": [
    "df_cleaned.dtypes"
   ]
  },
  {
   "cell_type": "code",
   "execution_count": 16,
   "metadata": {},
   "outputs": [
    {
     "data": {
      "text/plain": [
       "0        Bad Trader\n",
       "3    Average Trader\n",
       "4        Bad Trader\n",
       "6        Bad Trader\n",
       "8       Good Trader\n",
       "Name: trader_class, dtype: object"
      ]
     },
     "execution_count": 16,
     "metadata": {},
     "output_type": "execute_result"
    }
   ],
   "source": [
    "df_cleaned.trader_class.head()"
   ]
  },
  {
   "cell_type": "code",
   "execution_count": 17,
   "metadata": {},
   "outputs": [
    {
     "data": {
      "text/plain": [
       "Index(['Average Trader', 'Bad Trader', 'Good Trader'], dtype='object')"
      ]
     },
     "execution_count": 17,
     "metadata": {},
     "output_type": "execute_result"
    }
   ],
   "source": [
    "# Convert 'trader_class' to a categorical column\n",
    "df_cleaned[\"trader_class\"] = df_cleaned[\"trader_class\"].astype('category')\n",
    "df_cleaned[\"trader_class\"].cat.categories"
   ]
  },
  {
   "cell_type": "code",
   "execution_count": 18,
   "metadata": {},
   "outputs": [
    {
     "data": {
      "text/plain": [
       "day                       datetime64[ns]\n",
       "user_address                      object\n",
       "base_cumulative_return           float64\n",
       "portfolio_return                 float64\n",
       "daily_sharpe_ratio               float64\n",
       "trader_class                    category\n",
       "number_of_trades                 float64\n",
       "unique_tokens_traded             float64\n",
       "dtype: object"
      ]
     },
     "execution_count": 18,
     "metadata": {},
     "output_type": "execute_result"
    }
   ],
   "source": [
    "df_cleaned.dtypes"
   ]
  },
  {
   "cell_type": "code",
   "execution_count": 19,
   "metadata": {},
   "outputs": [
    {
     "data": {
      "text/plain": [
       "0        1\n",
       "3        0\n",
       "4        1\n",
       "6        1\n",
       "8        2\n",
       "        ..\n",
       "18539    0\n",
       "18540    0\n",
       "18541    1\n",
       "18543    1\n",
       "18544    1\n",
       "Name: trader_class_numeric, Length: 15032, dtype: int8"
      ]
     },
     "execution_count": 19,
     "metadata": {},
     "output_type": "execute_result"
    }
   ],
   "source": [
    "# Assign unique integers to categories\n",
    "df_cleaned['trader_class_numeric'] = df_cleaned['trader_class'].astype('category').cat.codes\n",
    "df_cleaned['trader_class_numeric']"
   ]
  },
  {
   "cell_type": "code",
   "execution_count": 20,
   "metadata": {},
   "outputs": [
    {
     "data": {
      "text/html": [
       "<div>\n",
       "<style scoped>\n",
       "    .dataframe tbody tr th:only-of-type {\n",
       "        vertical-align: middle;\n",
       "    }\n",
       "\n",
       "    .dataframe tbody tr th {\n",
       "        vertical-align: top;\n",
       "    }\n",
       "\n",
       "    .dataframe thead th {\n",
       "        text-align: right;\n",
       "    }\n",
       "</style>\n",
       "<table border=\"1\" class=\"dataframe\">\n",
       "  <thead>\n",
       "    <tr style=\"text-align: right;\">\n",
       "      <th></th>\n",
       "      <th>day</th>\n",
       "      <th>user_address</th>\n",
       "      <th>base_cumulative_return</th>\n",
       "      <th>portfolio_return</th>\n",
       "      <th>daily_sharpe_ratio</th>\n",
       "      <th>trader_class</th>\n",
       "      <th>number_of_trades</th>\n",
       "      <th>unique_tokens_traded</th>\n",
       "      <th>trader_class_numeric</th>\n",
       "    </tr>\n",
       "  </thead>\n",
       "  <tbody>\n",
       "    <tr>\n",
       "      <th>0</th>\n",
       "      <td>2024-07-03</td>\n",
       "      <td>0x09dc02dfb7de2b150fe9a2d2ab92cf5767d423f9</td>\n",
       "      <td>-0.952872</td>\n",
       "      <td>19.799528</td>\n",
       "      <td>1.300633</td>\n",
       "      <td>Bad Trader</td>\n",
       "      <td>36.0</td>\n",
       "      <td>6.0</td>\n",
       "      <td>1</td>\n",
       "    </tr>\n",
       "    <tr>\n",
       "      <th>3</th>\n",
       "      <td>2024-04-08</td>\n",
       "      <td>0x448166a91e7bc50d0ac720c2fbed29e0963f5af8</td>\n",
       "      <td>0.007613</td>\n",
       "      <td>100.516119</td>\n",
       "      <td>29.420332</td>\n",
       "      <td>Average Trader</td>\n",
       "      <td>380.0</td>\n",
       "      <td>20.0</td>\n",
       "      <td>0</td>\n",
       "    </tr>\n",
       "    <tr>\n",
       "      <th>4</th>\n",
       "      <td>2024-09-13</td>\n",
       "      <td>0x09dc02dfb7de2b150fe9a2d2ab92cf5767d423f9</td>\n",
       "      <td>-0.999127</td>\n",
       "      <td>15.174004</td>\n",
       "      <td>1.007717</td>\n",
       "      <td>Bad Trader</td>\n",
       "      <td>7.0</td>\n",
       "      <td>2.0</td>\n",
       "      <td>1</td>\n",
       "    </tr>\n",
       "    <tr>\n",
       "      <th>6</th>\n",
       "      <td>2024-10-10</td>\n",
       "      <td>0x59426902b232182a6e833903761ef617e1375f83</td>\n",
       "      <td>-0.187491</td>\n",
       "      <td>82.503509</td>\n",
       "      <td>10.512198</td>\n",
       "      <td>Bad Trader</td>\n",
       "      <td>0.0</td>\n",
       "      <td>0.0</td>\n",
       "      <td>1</td>\n",
       "    </tr>\n",
       "    <tr>\n",
       "      <th>8</th>\n",
       "      <td>2024-10-15</td>\n",
       "      <td>0xfe8325de4344db4ef367211456e8b3d2fcf9ee8f</td>\n",
       "      <td>0.115597</td>\n",
       "      <td>124.608734</td>\n",
       "      <td>13.566515</td>\n",
       "      <td>Good Trader</td>\n",
       "      <td>0.0</td>\n",
       "      <td>0.0</td>\n",
       "      <td>2</td>\n",
       "    </tr>\n",
       "  </tbody>\n",
       "</table>\n",
       "</div>"
      ],
      "text/plain": [
       "         day                                user_address  \\\n",
       "0 2024-07-03  0x09dc02dfb7de2b150fe9a2d2ab92cf5767d423f9   \n",
       "3 2024-04-08  0x448166a91e7bc50d0ac720c2fbed29e0963f5af8   \n",
       "4 2024-09-13  0x09dc02dfb7de2b150fe9a2d2ab92cf5767d423f9   \n",
       "6 2024-10-10  0x59426902b232182a6e833903761ef617e1375f83   \n",
       "8 2024-10-15  0xfe8325de4344db4ef367211456e8b3d2fcf9ee8f   \n",
       "\n",
       "   base_cumulative_return  portfolio_return  daily_sharpe_ratio  \\\n",
       "0               -0.952872         19.799528            1.300633   \n",
       "3                0.007613        100.516119           29.420332   \n",
       "4               -0.999127         15.174004            1.007717   \n",
       "6               -0.187491         82.503509           10.512198   \n",
       "8                0.115597        124.608734           13.566515   \n",
       "\n",
       "     trader_class  number_of_trades  unique_tokens_traded  \\\n",
       "0      Bad Trader              36.0                   6.0   \n",
       "3  Average Trader             380.0                  20.0   \n",
       "4      Bad Trader               7.0                   2.0   \n",
       "6      Bad Trader               0.0                   0.0   \n",
       "8     Good Trader               0.0                   0.0   \n",
       "\n",
       "   trader_class_numeric  \n",
       "0                     1  \n",
       "3                     0  \n",
       "4                     1  \n",
       "6                     1  \n",
       "8                     2  "
      ]
     },
     "execution_count": 20,
     "metadata": {},
     "output_type": "execute_result"
    }
   ],
   "source": [
    "df_cleaned.head()"
   ]
  },
  {
   "cell_type": "code",
   "execution_count": 21,
   "metadata": {},
   "outputs": [
    {
     "data": {
      "text/plain": [
       "Index(['day', 'user_address', 'base_cumulative_return', 'portfolio_return',\n",
       "       'daily_sharpe_ratio', 'trader_class', 'number_of_trades',\n",
       "       'unique_tokens_traded', 'trader_class_numeric'],\n",
       "      dtype='object')"
      ]
     },
     "execution_count": 21,
     "metadata": {},
     "output_type": "execute_result"
    }
   ],
   "source": [
    "df_cleaned.columns"
   ]
  },
  {
   "cell_type": "markdown",
   "metadata": {},
   "source": [
    "# Correlation Coefficient Analysis"
   ]
  },
  {
   "cell_type": "code",
   "execution_count": 22,
   "metadata": {},
   "outputs": [
    {
     "name": "stdout",
     "output_type": "stream",
     "text": [
      "trader_class_numeric      1.000000\n",
      "portfolio_return          0.275670\n",
      "base_cumulative_return    0.243194\n",
      "unique_tokens_traded     -0.025773\n",
      "number_of_trades         -0.025938\n",
      "daily_sharpe_ratio       -0.055709\n",
      "Name: trader_class_numeric, dtype: float64\n"
     ]
    }
   ],
   "source": [
    "# Correlation Coefficient Analysis\n",
    "\n",
    "df_cor = df_cleaned.corr(numeric_only=True)\n",
    "print(df_cor['trader_class_numeric'].sort_values(ascending=False))\n"
   ]
  },
  {
   "cell_type": "code",
   "execution_count": 23,
   "metadata": {},
   "outputs": [
    {
     "data": {
      "image/png": "[encoded data removed]",
      "text/plain": [
       "<Figure size 1000x600 with 2 Axes>"
      ]
     },
     "metadata": {},
     "output_type": "display_data"
    }
   ],
   "source": [
    "import seaborn as sns \n",
    "import matplotlib.pyplot as plt\n",
    "\n",
    "# Heatmap\n",
    "plt.figure(figsize=(10, 6))\n",
    "sns.heatmap(df_cor, annot=True, cmap='coolwarm', fmt=\".2f\")\n",
    "plt.title('Correlation Heatmap')\n",
    "plt.show()"
   ]
  },
  {
   "cell_type": "markdown",
   "metadata": {},
   "source": [
    "# Classifier Model"
   ]
  },
  {
   "cell_type": "code",
   "execution_count": 24,
   "metadata": {},
   "outputs": [
    {
     "data": {
      "text/plain": [
       "day                       datetime64[ns]\n",
       "user_address                      object\n",
       "base_cumulative_return           float64\n",
       "portfolio_return                 float64\n",
       "daily_sharpe_ratio               float64\n",
       "trader_class                    category\n",
       "number_of_trades                 float64\n",
       "unique_tokens_traded             float64\n",
       "trader_class_numeric                int8\n",
       "dtype: object"
      ]
     },
     "execution_count": 24,
     "metadata": {},
     "output_type": "execute_result"
    }
   ],
   "source": [
    "df_cleaned.dtypes"
   ]
  },
  {
   "cell_type": "code",
   "execution_count": 25,
   "metadata": {},
   "outputs": [],
   "source": [
    "numeric = df_cleaned.select_dtypes(include=['number'])\n",
    "#numeric"
   ]
  },
  {
   "cell_type": "code",
   "execution_count": 26,
   "metadata": {},
   "outputs": [],
   "source": [
    "features = ['base_cumulative_return', 'portfolio_return', \n",
    "            'daily_sharpe_ratio', 'number_of_trades', 'unique_tokens_traded']"
   ]
  },
  {
   "cell_type": "code",
   "execution_count": 27,
   "metadata": {},
   "outputs": [],
   "source": [
    "target = 'trader_class_numeric'"
   ]
  },
  {
   "cell_type": "code",
   "execution_count": 28,
   "metadata": {},
   "outputs": [
    {
     "data": {
      "text/plain": [
       "count    15032.000000\n",
       "mean        95.316375\n",
       "std         39.623322\n",
       "min         -2.588934\n",
       "25%         75.146334\n",
       "50%         99.950774\n",
       "75%        114.631528\n",
       "max        234.899716\n",
       "Name: portfolio_return, dtype: float64"
      ]
     },
     "execution_count": 28,
     "metadata": {},
     "output_type": "execute_result"
    }
   ],
   "source": [
    "df_cleaned['portfolio_return'].describe()"
   ]
  },
  {
   "cell_type": "code",
   "execution_count": 29,
   "metadata": {},
   "outputs": [],
   "source": [
    "import random\n",
    "import os\n",
    "from sklearn.model_selection import train_test_split\n",
    "from sklearn.preprocessing import StandardScaler\n",
    "from sklearn.linear_model import LogisticRegression\n",
    "from sklearn.metrics import classification_report, confusion_matrix, accuracy_score\n",
    "from sklearn.metrics import roc_curve, roc_auc_score"
   ]
  },
  {
   "cell_type": "code",
   "execution_count": 30,
   "metadata": {},
   "outputs": [],
   "source": [
    "#Data Processing\n",
    "#Separating the features from the target variable.\n",
    "\n",
    "X = df_cleaned[features]\n",
    "y = df_cleaned[target]"
   ]
  },
  {
   "cell_type": "code",
   "execution_count": 31,
   "metadata": {},
   "outputs": [],
   "source": [
    "#Normalize the Features\n",
    "scaler = StandardScaler()\n",
    "X_scaled = scaler.fit_transform(X)"
   ]
  },
  {
   "cell_type": "markdown",
   "metadata": {},
   "source": [
    "# Split the data"
   ]
  },
  {
   "cell_type": "code",
   "execution_count": 32,
   "metadata": {},
   "outputs": [],
   "source": [
    "#Split the data into training and testing sets.\n",
    "X_train, X_test, y_train, y_test = train_test_split(X_scaled, y, test_size=0.2, random_state=42)\n"
   ]
  },
  {
   "cell_type": "markdown",
   "metadata": {},
   "source": [
    "# Train the Logistic Regression Model"
   ]
  },
  {
   "cell_type": "code",
   "execution_count": 33,
   "metadata": {},
   "outputs": [
    {
     "data": {
      "text/html": [
       "<style>#sk-container-id-1 {\n",
       "  /* Definition of color scheme common for light and dark mode */\n",
       "  --sklearn-color-text: black;\n",
       "  --sklearn-color-line: gray;\n",
       "  /* Definition of color scheme for unfitted estimators */\n",
       "  --sklearn-color-unfitted-level-0: #fff5e6;\n",
       "  --sklearn-color-unfitted-level-1: #f6e4d2;\n",
       "  --sklearn-color-unfitted-level-2: #ffe0b3;\n",
       "  --sklearn-color-unfitted-level-3: chocolate;\n",
       "  /* Definition of color scheme for fitted estimators */\n",
       "  --sklearn-color-fitted-level-0: #f0f8ff;\n",
       "  --sklearn-color-fitted-level-1: #d4ebff;\n",
       "  --sklearn-color-fitted-level-2: #b3dbfd;\n",
       "  --sklearn-color-fitted-level-3: cornflowerblue;\n",
       "\n",
       "  /* Specific color for light theme */\n",
       "  --sklearn-color-text-on-default-background: var(--sg-text-color, var(--theme-code-foreground, var(--jp-content-font-color1, black)));\n",
       "  --sklearn-color-background: var(--sg-background-color, var(--theme-background, var(--jp-layout-color0, white)));\n",
       "  --sklearn-color-border-box: var(--sg-text-color, var(--theme-code-foreground, var(--jp-content-font-color1, black)));\n",
       "  --sklearn-color-icon: #696969;\n",
       "\n",
       "  @media (prefers-color-scheme: dark) {\n",
       "    /* Redefinition of color scheme for dark theme */\n",
       "    --sklearn-color-text-on-default-background: var(--sg-text-color, var(--theme-code-foreground, var(--jp-content-font-color1, white)));\n",
       "    --sklearn-color-background: var(--sg-background-color, var(--theme-background, var(--jp-layout-color0, #111)));\n",
       "    --sklearn-color-border-box: var(--sg-text-color, var(--theme-code-foreground, var(--jp-content-font-color1, white)));\n",
       "    --sklearn-color-icon: #878787;\n",
       "  }\n",
       "}\n",
       "\n",
       "#sk-container-id-1 {\n",
       "  color: var(--sklearn-color-text);\n",
       "}\n",
       "\n",
       "#sk-container-id-1 pre {\n",
       "  padding: 0;\n",
       "}\n",
       "\n",
       "#sk-container-id-1 input.sk-hidden--visually {\n",
       "  border: 0;\n",
       "  clip: rect(1px 1px 1px 1px);\n",
       "  clip: rect(1px, 1px, 1px, 1px);\n",
       "  height: 1px;\n",
       "  margin: -1px;\n",
       "  overflow: hidden;\n",
       "  padding: 0;\n",
       "  position: absolute;\n",
       "  width: 1px;\n",
       "}\n",
       "\n",
       "#sk-container-id-1 div.sk-dashed-wrapped {\n",
       "  border: 1px dashed var(--sklearn-color-line);\n",
       "  margin: 0 0.4em 0.5em 0.4em;\n",
       "  box-sizing: border-box;\n",
       "  padding-bottom: 0.4em;\n",
       "  background-color: var(--sklearn-color-background);\n",
       "}\n",
       "\n",
       "#sk-container-id-1 div.sk-container {\n",
       "  /* jupyter's `normalize.less` sets `[hidden] { display: none; }`\n",
       "     but bootstrap.min.css set `[hidden] { display: none !important; }`\n",
       "     so we also need the `!important` here to be able to override the\n",
       "     default hidden behavior on the sphinx rendered scikit-learn.org.\n",
       "     See: https://github.com/scikit-learn/scikit-learn/issues/21755 */\n",
       "  display: inline-block !important;\n",
       "  position: relative;\n",
       "}\n",
       "\n",
       "#sk-container-id-1 div.sk-text-repr-fallback {\n",
       "  display: none;\n",
       "}\n",
       "\n",
       "div.sk-parallel-item,\n",
       "div.sk-serial,\n",
       "div.sk-item {\n",
       "  /* draw centered vertical line to link estimators */\n",
       "  background-image: linear-gradient(var(--sklearn-color-text-on-default-background), var(--sklearn-color-text-on-default-background));\n",
       "  background-size: 2px 100%;\n",
       "  background-repeat: no-repeat;\n",
       "  background-position: center center;\n",
       "}\n",
       "\n",
       "/* Parallel-specific style estimator block */\n",
       "\n",
       "#sk-container-id-1 div.sk-parallel-item::after {\n",
       "  content: \"\";\n",
       "  width: 100%;\n",
       "  border-bottom: 2px solid var(--sklearn-color-text-on-default-background);\n",
       "  flex-grow: 1;\n",
       "}\n",
       "\n",
       "#sk-container-id-1 div.sk-parallel {\n",
       "  display: flex;\n",
       "  align-items: stretch;\n",
       "  justify-content: center;\n",
       "  background-color: var(--sklearn-color-background);\n",
       "  position: relative;\n",
       "}\n",
       "\n",
       "#sk-container-id-1 div.sk-parallel-item {\n",
       "  display: flex;\n",
       "  flex-direction: column;\n",
       "}\n",
       "\n",
       "#sk-container-id-1 div.sk-parallel-item:first-child::after {\n",
       "  align-self: flex-end;\n",
       "  width: 50%;\n",
       "}\n",
       "\n",
       "#sk-container-id-1 div.sk-parallel-item:last-child::after {\n",
       "  align-self: flex-start;\n",
       "  width: 50%;\n",
       "}\n",
       "\n",
       "#sk-container-id-1 div.sk-parallel-item:only-child::after {\n",
       "  width: 0;\n",
       "}\n",
       "\n",
       "/* Serial-specific style estimator block */\n",
       "\n",
       "#sk-container-id-1 div.sk-serial {\n",
       "  display: flex;\n",
       "  flex-direction: column;\n",
       "  align-items: center;\n",
       "  background-color: var(--sklearn-color-background);\n",
       "  padding-right: 1em;\n",
       "  padding-left: 1em;\n",
       "}\n",
       "\n",
       "\n",
       "/* Toggleable style: style used for estimator/Pipeline/ColumnTransformer box that is\n",
       "clickable and can be expanded/collapsed.\n",
       "- Pipeline and ColumnTransformer use this feature and define the default style\n",
       "- Estimators will overwrite some part of the style using the `sk-estimator` class\n",
       "*/\n",
       "\n",
       "/* Pipeline and ColumnTransformer style (default) */\n",
       "\n",
       "#sk-container-id-1 div.sk-toggleable {\n",
       "  /* Default theme specific background. It is overwritten whether we have a\n",
       "  specific estimator or a Pipeline/ColumnTransformer */\n",
       "  background-color: var(--sklearn-color-background);\n",
       "}\n",
       "\n",
       "/* Toggleable label */\n",
       "#sk-container-id-1 label.sk-toggleable__label {\n",
       "  cursor: pointer;\n",
       "  display: block;\n",
       "  width: 100%;\n",
       "  margin-bottom: 0;\n",
       "  padding: 0.5em;\n",
       "  box-sizing: border-box;\n",
       "  text-align: center;\n",
       "}\n",
       "\n",
       "#sk-container-id-1 label.sk-toggleable__label-arrow:before {\n",
       "  /* Arrow on the left of the label */\n",
       "  content: \"▸\";\n",
       "  float: left;\n",
       "  margin-right: 0.25em;\n",
       "  color: var(--sklearn-color-icon);\n",
       "}\n",
       "\n",
       "#sk-container-id-1 label.sk-toggleable__label-arrow:hover:before {\n",
       "  color: var(--sklearn-color-text);\n",
       "}\n",
       "\n",
       "/* Toggleable content - dropdown */\n",
       "\n",
       "#sk-container-id-1 div.sk-toggleable__content {\n",
       "  max-height: 0;\n",
       "  max-width: 0;\n",
       "  overflow: hidden;\n",
       "  text-align: left;\n",
       "  /* unfitted */\n",
       "  background-color: var(--sklearn-color-unfitted-level-0);\n",
       "}\n",
       "\n",
       "#sk-container-id-1 div.sk-toggleable__content.fitted {\n",
       "  /* fitted */\n",
       "  background-color: var(--sklearn-color-fitted-level-0);\n",
       "}\n",
       "\n",
       "#sk-container-id-1 div.sk-toggleable__content pre {\n",
       "  margin: 0.2em;\n",
       "  border-radius: 0.25em;\n",
       "  color: var(--sklearn-color-text);\n",
       "  /* unfitted */\n",
       "  background-color: var(--sklearn-color-unfitted-level-0);\n",
       "}\n",
       "\n",
       "#sk-container-id-1 div.sk-toggleable__content.fitted pre {\n",
       "  /* unfitted */\n",
       "  background-color: var(--sklearn-color-fitted-level-0);\n",
       "}\n",
       "\n",
       "#sk-container-id-1 input.sk-toggleable__control:checked~div.sk-toggleable__content {\n",
       "  /* Expand drop-down */\n",
       "  max-height: 200px;\n",
       "  max-width: 100%;\n",
       "  overflow: auto;\n",
       "}\n",
       "\n",
       "#sk-container-id-1 input.sk-toggleable__control:checked~label.sk-toggleable__label-arrow:before {\n",
       "  content: \"▾\";\n",
       "}\n",
       "\n",
       "/* Pipeline/ColumnTransformer-specific style */\n",
       "\n",
       "#sk-container-id-1 div.sk-label input.sk-toggleable__control:checked~label.sk-toggleable__label {\n",
       "  color: var(--sklearn-color-text);\n",
       "  background-color: var(--sklearn-color-unfitted-level-2);\n",
       "}\n",
       "\n",
       "#sk-container-id-1 div.sk-label.fitted input.sk-toggleable__control:checked~label.sk-toggleable__label {\n",
       "  background-color: var(--sklearn-color-fitted-level-2);\n",
       "}\n",
       "\n",
       "/* Estimator-specific style */\n",
       "\n",
       "/* Colorize estimator box */\n",
       "#sk-container-id-1 div.sk-estimator input.sk-toggleable__control:checked~label.sk-toggleable__label {\n",
       "  /* unfitted */\n",
       "  background-color: var(--sklearn-color-unfitted-level-2);\n",
       "}\n",
       "\n",
       "#sk-container-id-1 div.sk-estimator.fitted input.sk-toggleable__control:checked~label.sk-toggleable__label {\n",
       "  /* fitted */\n",
       "  background-color: var(--sklearn-color-fitted-level-2);\n",
       "}\n",
       "\n",
       "#sk-container-id-1 div.sk-label label.sk-toggleable__label,\n",
       "#sk-container-id-1 div.sk-label label {\n",
       "  /* The background is the default theme color */\n",
       "  color: var(--sklearn-color-text-on-default-background);\n",
       "}\n",
       "\n",
       "/* On hover, darken the color of the background */\n",
       "#sk-container-id-1 div.sk-label:hover label.sk-toggleable__label {\n",
       "  color: var(--sklearn-color-text);\n",
       "  background-color: var(--sklearn-color-unfitted-level-2);\n",
       "}\n",
       "\n",
       "/* Label box, darken color on hover, fitted */\n",
       "#sk-container-id-1 div.sk-label.fitted:hover label.sk-toggleable__label.fitted {\n",
       "  color: var(--sklearn-color-text);\n",
       "  background-color: var(--sklearn-color-fitted-level-2);\n",
       "}\n",
       "\n",
       "/* Estimator label */\n",
       "\n",
       "#sk-container-id-1 div.sk-label label {\n",
       "  font-family: monospace;\n",
       "  font-weight: bold;\n",
       "  display: inline-block;\n",
       "  line-height: 1.2em;\n",
       "}\n",
       "\n",
       "#sk-container-id-1 div.sk-label-container {\n",
       "  text-align: center;\n",
       "}\n",
       "\n",
       "/* Estimator-specific */\n",
       "#sk-container-id-1 div.sk-estimator {\n",
       "  font-family: monospace;\n",
       "  border: 1px dotted var(--sklearn-color-border-box);\n",
       "  border-radius: 0.25em;\n",
       "  box-sizing: border-box;\n",
       "  margin-bottom: 0.5em;\n",
       "  /* unfitted */\n",
       "  background-color: var(--sklearn-color-unfitted-level-0);\n",
       "}\n",
       "\n",
       "#sk-container-id-1 div.sk-estimator.fitted {\n",
       "  /* fitted */\n",
       "  background-color: var(--sklearn-color-fitted-level-0);\n",
       "}\n",
       "\n",
       "/* on hover */\n",
       "#sk-container-id-1 div.sk-estimator:hover {\n",
       "  /* unfitted */\n",
       "  background-color: var(--sklearn-color-unfitted-level-2);\n",
       "}\n",
       "\n",
       "#sk-container-id-1 div.sk-estimator.fitted:hover {\n",
       "  /* fitted */\n",
       "  background-color: var(--sklearn-color-fitted-level-2);\n",
       "}\n",
       "\n",
       "/* Specification for estimator info (e.g. \"i\" and \"?\") */\n",
       "\n",
       "/* Common style for \"i\" and \"?\" */\n",
       "\n",
       ".sk-estimator-doc-link,\n",
       "a:link.sk-estimator-doc-link,\n",
       "a:visited.sk-estimator-doc-link {\n",
       "  float: right;\n",
       "  font-size: smaller;\n",
       "  line-height: 1em;\n",
       "  font-family: monospace;\n",
       "  background-color: var(--sklearn-color-background);\n",
       "  border-radius: 1em;\n",
       "  height: 1em;\n",
       "  width: 1em;\n",
       "  text-decoration: none !important;\n",
       "  margin-left: 1ex;\n",
       "  /* unfitted */\n",
       "  border: var(--sklearn-color-unfitted-level-1) 1pt solid;\n",
       "  color: var(--sklearn-color-unfitted-level-1);\n",
       "}\n",
       "\n",
       ".sk-estimator-doc-link.fitted,\n",
       "a:link.sk-estimator-doc-link.fitted,\n",
       "a:visited.sk-estimator-doc-link.fitted {\n",
       "  /* fitted */\n",
       "  border: var(--sklearn-color-fitted-level-1) 1pt solid;\n",
       "  color: var(--sklearn-color-fitted-level-1);\n",
       "}\n",
       "\n",
       "/* On hover */\n",
       "div.sk-estimator:hover .sk-estimator-doc-link:hover,\n",
       ".sk-estimator-doc-link:hover,\n",
       "div.sk-label-container:hover .sk-estimator-doc-link:hover,\n",
       ".sk-estimator-doc-link:hover {\n",
       "  /* unfitted */\n",
       "  background-color: var(--sklearn-color-unfitted-level-3);\n",
       "  color: var(--sklearn-color-background);\n",
       "  text-decoration: none;\n",
       "}\n",
       "\n",
       "div.sk-estimator.fitted:hover .sk-estimator-doc-link.fitted:hover,\n",
       ".sk-estimator-doc-link.fitted:hover,\n",
       "div.sk-label-container:hover .sk-estimator-doc-link.fitted:hover,\n",
       ".sk-estimator-doc-link.fitted:hover {\n",
       "  /* fitted */\n",
       "  background-color: var(--sklearn-color-fitted-level-3);\n",
       "  color: var(--sklearn-color-background);\n",
       "  text-decoration: none;\n",
       "}\n",
       "\n",
       "/* Span, style for the box shown on hovering the info icon */\n",
       ".sk-estimator-doc-link span {\n",
       "  display: none;\n",
       "  z-index: 9999;\n",
       "  position: relative;\n",
       "  font-weight: normal;\n",
       "  right: .2ex;\n",
       "  padding: .5ex;\n",
       "  margin: .5ex;\n",
       "  width: min-content;\n",
       "  min-width: 20ex;\n",
       "  max-width: 50ex;\n",
       "  color: var(--sklearn-color-text);\n",
       "  box-shadow: 2pt 2pt 4pt #999;\n",
       "  /* unfitted */\n",
       "  background: var(--sklearn-color-unfitted-level-0);\n",
       "  border: .5pt solid var(--sklearn-color-unfitted-level-3);\n",
       "}\n",
       "\n",
       ".sk-estimator-doc-link.fitted span {\n",
       "  /* fitted */\n",
       "  background: var(--sklearn-color-fitted-level-0);\n",
       "  border: var(--sklearn-color-fitted-level-3);\n",
       "}\n",
       "\n",
       ".sk-estimator-doc-link:hover span {\n",
       "  display: block;\n",
       "}\n",
       "\n",
       "/* \"?\"-specific style due to the `<a>` HTML tag */\n",
       "\n",
       "#sk-container-id-1 a.estimator_doc_link {\n",
       "  float: right;\n",
       "  font-size: 1rem;\n",
       "  line-height: 1em;\n",
       "  font-family: monospace;\n",
       "  background-color: var(--sklearn-color-background);\n",
       "  border-radius: 1rem;\n",
       "  height: 1rem;\n",
       "  width: 1rem;\n",
       "  text-decoration: none;\n",
       "  /* unfitted */\n",
       "  color: var(--sklearn-color-unfitted-level-1);\n",
       "  border: var(--sklearn-color-unfitted-level-1) 1pt solid;\n",
       "}\n",
       "\n",
       "#sk-container-id-1 a.estimator_doc_link.fitted {\n",
       "  /* fitted */\n",
       "  border: var(--sklearn-color-fitted-level-1) 1pt solid;\n",
       "  color: var(--sklearn-color-fitted-level-1);\n",
       "}\n",
       "\n",
       "/* On hover */\n",
       "#sk-container-id-1 a.estimator_doc_link:hover {\n",
       "  /* unfitted */\n",
       "  background-color: var(--sklearn-color-unfitted-level-3);\n",
       "  color: var(--sklearn-color-background);\n",
       "  text-decoration: none;\n",
       "}\n",
       "\n",
       "#sk-container-id-1 a.estimator_doc_link.fitted:hover {\n",
       "  /* fitted */\n",
       "  background-color: var(--sklearn-color-fitted-level-3);\n",
       "}\n",
       "</style><div id=\"sk-container-id-1\" class=\"sk-top-container\"><div class=\"sk-text-repr-fallback\"><pre>LogisticRegression()</pre><b>In a Jupyter environment, please rerun this cell to show the HTML representation or trust the notebook. <br />On GitHub, the HTML representation is unable to render, please try loading this page with nbviewer.org.</b></div><div class=\"sk-container\" hidden><div class=\"sk-item\"><div class=\"sk-estimator fitted sk-toggleable\"><input class=\"sk-toggleable__control sk-hidden--visually\" id=\"sk-estimator-id-1\" type=\"checkbox\" checked><label for=\"sk-estimator-id-1\" class=\"sk-toggleable__label fitted sk-toggleable__label-arrow fitted\">&nbsp;&nbsp;LogisticRegression<a class=\"sk-estimator-doc-link fitted\" rel=\"noreferrer\" target=\"_blank\" href=\"https://scikit-learn.org/1.5/modules/generated/sklearn.linear_model.LogisticRegression.html\">?<span>Documentation for LogisticRegression</span></a><span class=\"sk-estimator-doc-link fitted\">i<span>Fitted</span></span></label><div class=\"sk-toggleable__content fitted\"><pre>LogisticRegression()</pre></div> </div></div></div></div>"
      ],
      "text/plain": [
       "LogisticRegression()"
      ]
     },
     "execution_count": 33,
     "metadata": {},
     "output_type": "execute_result"
    }
   ],
   "source": [
    "#Train the logistic Regression Model\n",
    "log_reg = LogisticRegression(solver='lbfgs')\n",
    "# solver='lbfgs' is the default solver in newer version of sklearn\n",
    "log_reg.fit(X_train, y_train)"
   ]
  },
  {
   "cell_type": "markdown",
   "metadata": {},
   "source": [
    "# Predict on the test set"
   ]
  },
  {
   "cell_type": "code",
   "execution_count": null,
   "metadata": {},
   "outputs": [
    {
     "data": {
      "text/plain": [
       "array([1, 0, 0, ..., 2, 0, 1], dtype=int8)"
      ]
     },
     "execution_count": 45,
     "metadata": {},
     "output_type": "execute_result"
    }
   ],
   "source": [
    "#predict on the test set\n",
    "y_pred = log_reg.predict(X_test)"
   ]
  },
  {
   "cell_type": "markdown",
   "metadata": {},
   "source": [
    "# Evaluate the Model"
   ]
  },
  {
   "cell_type": "markdown",
   "metadata": {},
   "source": [
    "##### Confusion Matrix"
   ]
  },
  {
   "cell_type": "code",
   "execution_count": 35,
   "metadata": {},
   "outputs": [
    {
     "name": "stdout",
     "output_type": "stream",
     "text": [
      "Confusion Matrix:\n",
      "[[ 834    5    3]\n",
      " [  34 1522    0]\n",
      " [   1    0  608]]\n"
     ]
    }
   ],
   "source": [
    "#Confusion Matrix\n",
    "cm = confusion_matrix(y_test, y_pred)\n",
    "print(\"Confusion Matrix:\")\n",
    "print(cm)"
   ]
  },
  {
   "cell_type": "code",
   "execution_count": 36,
   "metadata": {},
   "outputs": [
    {
     "data": {
      "image/png": "[encoded data removed]",
      "text/plain": [
       "<Figure size 800x600 with 2 Axes>"
      ]
     },
     "metadata": {},
     "output_type": "display_data"
    }
   ],
   "source": [
    "# Create a heatmap\n",
    "plt.figure(figsize=(8, 6))\n",
    "sns.heatmap(cm, annot=True, fmt=\"d\", cmap=\"Blues\", xticklabels=[\"Class 0\", \"Class 1\", \"Class 2\"], yticklabels=[\"Class 0\", \"Class 1\", \"Class 2\"])\n",
    "plt.title(\"Confusion Matrix\")\n",
    "plt.xlabel(\"Predicted Labels\")\n",
    "plt.ylabel(\"True Labels\")\n",
    "plt.show()\n",
    "\n",
    "#Result: Correct predictions (True Positives for each class)."
   ]
  },
  {
   "cell_type": "markdown",
   "metadata": {},
   "source": [
    "### Classification Report"
   ]
  },
  {
   "cell_type": "code",
   "execution_count": 37,
   "metadata": {},
   "outputs": [
    {
     "name": "stdout",
     "output_type": "stream",
     "text": [
      "Classification Report:\n",
      "{'0': {'precision': 0.9597238204833142, 'recall': 0.9904988123515439, 'f1-score': 0.9748684979544127, 'support': 842.0}, '1': {'precision': 0.9967256057629339, 'recall': 0.9781491002570694, 'f1-score': 0.9873499837820305, 'support': 1556.0}, '2': {'precision': 0.9950900163666121, 'recall': 0.9983579638752053, 'f1-score': 0.9967213114754099, 'support': 609.0}, 'accuracy': 0.9857000332557366, 'macro avg': {'precision': 0.9838464808709535, 'recall': 0.9890019588279396, 'f1-score': 0.9863132644039511, 'support': 3007.0}, 'weighted avg': {'precision': 0.9860333619492325, 'recall': 0.9857000332557366, 'f1-score': 0.9857529526873892, 'support': 3007.0}}\n"
     ]
    }
   ],
   "source": [
    "report = classification_report(y_test, y_pred,output_dict=True)\n",
    "print(\"Classification Report:\")\n",
    "print(report)"
   ]
  },
  {
   "cell_type": "code",
   "execution_count": 38,
   "metadata": {},
   "outputs": [
    {
     "data": {
      "image/png": "[encoded data removed]",
      "text/plain": [
       "<Figure size 1000x600 with 1 Axes>"
      ]
     },
     "metadata": {},
     "output_type": "display_data"
    }
   ],
   "source": [
    "# Convert the dictionary to a DataFrame for visualization\n",
    "report_df = pd.DataFrame(report).transpose()\n",
    "\n",
    "# Plot the precision, recall, and f1-score\n",
    "report_df = report_df.iloc[:-1, :-1]  # Exclude support and accuracy row/column\n",
    "report_df.plot(kind=\"bar\", figsize=(10, 6), colormap=\"viridis\")\n",
    "plt.title(\"Classification Report\")\n",
    "plt.xlabel(\"Classes\")\n",
    "plt.ylabel(\"Scores\")\n",
    "plt.xticks(rotation=45)\n",
    "plt.show()"
   ]
  },
  {
   "cell_type": "markdown",
   "metadata": {},
   "source": [
    "#### Accuracy Score"
   ]
  },
  {
   "cell_type": "code",
   "execution_count": 39,
   "metadata": {},
   "outputs": [
    {
     "name": "stdout",
     "output_type": "stream",
     "text": [
      "Accuracy: 0.9857000332557366\n"
     ]
    }
   ],
   "source": [
    "# Model Accuracy, how often is the classifier correct?\n",
    "print(f\"Accuracy: {accuracy_score(y_test, y_pred)}\")"
   ]
  },
  {
   "cell_type": "code",
   "execution_count": 40,
   "metadata": {},
   "outputs": [
    {
     "name": "stdout",
     "output_type": "stream",
     "text": [
      "Accuracy: 0.99\n"
     ]
    }
   ],
   "source": [
    "accuracy = accuracy_score(y_test, y_pred)\n",
    "print(f\"Accuracy: {accuracy:.2f}\")"
   ]
  },
  {
   "cell_type": "code",
   "execution_count": 41,
   "metadata": {},
   "outputs": [
    {
     "data": {
      "image/png": "[encoded data removed]",
      "text/plain": [
       "<Figure size 600x400 with 1 Axes>"
      ]
     },
     "metadata": {},
     "output_type": "display_data"
    }
   ],
   "source": [
    "# Display accuracy in a plot\n",
    "plt.figure(figsize=(6, 4))\n",
    "plt.bar([\"Accuracy\"], [accuracy], color=\"skyblue\")\n",
    "plt.ylim(0, 1)  # Scale from 0 to 1\n",
    "plt.title(\"Accuracy Score\")\n",
    "plt.text(0, accuracy / 2, f\"{accuracy:.2%}\", ha=\"center\", va=\"center\", fontsize=12)\n",
    "plt.show()"
   ]
  },
  {
   "cell_type": "markdown",
   "metadata": {},
   "source": [
    "#### AUROC Curve"
   ]
  },
  {
   "cell_type": "code",
   "execution_count": 42,
   "metadata": {},
   "outputs": [
    {
     "name": "stdout",
     "output_type": "stream",
     "text": [
      "Area Under the ROC Curve (AUROC) for Multi-Class: 1.00\n"
     ]
    }
   ],
   "source": [
    "# Calculate AUROC\n",
    "# Get predicted probabilities for all classes\n",
    "y_pred_multi = log_reg.predict_proba(X_test)\n",
    "\n",
    "# Calculate AUROC for multi-class classification\n",
    "auroc_multi = roc_auc_score(y_test, y_pred_multi, multi_class='ovr')\n",
    "print(f\"Area Under the ROC Curve (AUROC) for Multi-Class: {auroc_multi:.2f}\")"
   ]
  },
  {
   "cell_type": "markdown",
   "metadata": {},
   "source": [
    "# Interpret the Model"
   ]
  },
  {
   "cell_type": "markdown",
   "metadata": {},
   "source": [
    "##### Logistic regression provides coefficients that indicate feature importance"
   ]
  },
  {
   "cell_type": "code",
   "execution_count": 43,
   "metadata": {},
   "outputs": [
    {
     "name": "stdout",
     "output_type": "stream",
     "text": [
      "                  Feature  Coefficient\n",
      "0  base_cumulative_return     1.843696\n",
      "1        portfolio_return     1.277838\n",
      "2      daily_sharpe_ratio     0.319095\n",
      "4    unique_tokens_traded     0.119757\n",
      "3        number_of_trades     0.095427\n"
     ]
    }
   ],
   "source": [
    "feature_importance = pd.DataFrame({\n",
    "    'Feature': X.columns,\n",
    "    'Coefficient': log_reg.coef_[0]\n",
    "}).sort_values(by='Coefficient', ascending=False)\n",
    "print(feature_importance)"
   ]
  },
  {
   "cell_type": "markdown",
   "metadata": {},
   "source": [
    "# Randomized Search for Hyperparameter Tuning"
   ]
  },
  {
   "cell_type": "code",
   "execution_count": 44,
   "metadata": {},
   "outputs": [
    {
     "name": "stdout",
     "output_type": "stream",
     "text": [
      "Fitting 5 folds for each of 50 candidates, totalling 250 fits\n"
     ]
    },
    {
     "name": "stderr",
     "output_type": "stream",
     "text": [
      "/Users/olaoluwatunmise/miniconda3/envs/flipml/lib/python3.10/site-packages/sklearn/svm/_base.py:1235: ConvergenceWarning: Liblinear failed to converge, increase the number of iterations.\n",
      "  warnings.warn(\n",
      "/Users/olaoluwatunmise/miniconda3/envs/flipml/lib/python3.10/site-packages/sklearn/svm/_base.py:1235: ConvergenceWarning: Liblinear failed to converge, increase the number of iterations.\n",
      "  warnings.warn(\n",
      "/Users/olaoluwatunmise/miniconda3/envs/flipml/lib/python3.10/site-packages/sklearn/svm/_base.py:1235: ConvergenceWarning: Liblinear failed to converge, increase the number of iterations.\n",
      "  warnings.warn(\n",
      "/Users/olaoluwatunmise/miniconda3/envs/flipml/lib/python3.10/site-packages/sklearn/svm/_base.py:1235: ConvergenceWarning: Liblinear failed to converge, increase the number of iterations.\n",
      "  warnings.warn(\n",
      "/Users/olaoluwatunmise/miniconda3/envs/flipml/lib/python3.10/site-packages/sklearn/svm/_base.py:1235: ConvergenceWarning: Liblinear failed to converge, increase the number of iterations.\n",
      "  warnings.warn(\n",
      "/Users/olaoluwatunmise/miniconda3/envs/flipml/lib/python3.10/site-packages/sklearn/svm/_base.py:1235: ConvergenceWarning: Liblinear failed to converge, increase the number of iterations.\n",
      "  warnings.warn(\n",
      "/Users/olaoluwatunmise/miniconda3/envs/flipml/lib/python3.10/site-packages/sklearn/svm/_base.py:1235: ConvergenceWarning: Liblinear failed to converge, increase the number of iterations.\n",
      "  warnings.warn(\n",
      "/Users/olaoluwatunmise/miniconda3/envs/flipml/lib/python3.10/site-packages/sklearn/svm/_base.py:1235: ConvergenceWarning: Liblinear failed to converge, increase the number of iterations.\n",
      "  warnings.warn(\n",
      "/Users/olaoluwatunmise/miniconda3/envs/flipml/lib/python3.10/site-packages/sklearn/svm/_base.py:1235: ConvergenceWarning: Liblinear failed to converge, increase the number of iterations.\n",
      "  warnings.warn(\n",
      "/Users/olaoluwatunmise/miniconda3/envs/flipml/lib/python3.10/site-packages/sklearn/svm/_base.py:1235: ConvergenceWarning: Liblinear failed to converge, increase the number of iterations.\n",
      "  warnings.warn(\n",
      "/Users/olaoluwatunmise/miniconda3/envs/flipml/lib/python3.10/site-packages/sklearn/svm/_base.py:1235: ConvergenceWarning: Liblinear failed to converge, increase the number of iterations.\n",
      "  warnings.warn(\n",
      "/Users/olaoluwatunmise/miniconda3/envs/flipml/lib/python3.10/site-packages/sklearn/svm/_base.py:1235: ConvergenceWarning: Liblinear failed to converge, increase the number of iterations.\n",
      "  warnings.warn(\n",
      "/Users/olaoluwatunmise/miniconda3/envs/flipml/lib/python3.10/site-packages/sklearn/svm/_base.py:1235: ConvergenceWarning: Liblinear failed to converge, increase the number of iterations.\n",
      "  warnings.warn(\n",
      "/Users/olaoluwatunmise/miniconda3/envs/flipml/lib/python3.10/site-packages/sklearn/svm/_base.py:1235: ConvergenceWarning: Liblinear failed to converge, increase the number of iterations.\n",
      "  warnings.warn(\n",
      "/Users/olaoluwatunmise/miniconda3/envs/flipml/lib/python3.10/site-packages/sklearn/svm/_base.py:1235: ConvergenceWarning: Liblinear failed to converge, increase the number of iterations.\n",
      "  warnings.warn(\n",
      "/Users/olaoluwatunmise/miniconda3/envs/flipml/lib/python3.10/site-packages/sklearn/svm/_base.py:1235: ConvergenceWarning: Liblinear failed to converge, increase the number of iterations.\n",
      "  warnings.warn(\n",
      "/Users/olaoluwatunmise/miniconda3/envs/flipml/lib/python3.10/site-packages/sklearn/svm/_base.py:1235: ConvergenceWarning: Liblinear failed to converge, increase the number of iterations.\n",
      "  warnings.warn(\n",
      "/Users/olaoluwatunmise/miniconda3/envs/flipml/lib/python3.10/site-packages/sklearn/svm/_base.py:1235: ConvergenceWarning: Liblinear failed to converge, increase the number of iterations.\n",
      "  warnings.warn(\n",
      "/Users/olaoluwatunmise/miniconda3/envs/flipml/lib/python3.10/site-packages/sklearn/svm/_base.py:1235: ConvergenceWarning: Liblinear failed to converge, increase the number of iterations.\n",
      "  warnings.warn(\n",
      "/Users/olaoluwatunmise/miniconda3/envs/flipml/lib/python3.10/site-packages/sklearn/svm/_base.py:1235: ConvergenceWarning: Liblinear failed to converge, increase the number of iterations.\n",
      "  warnings.warn(\n",
      "/Users/olaoluwatunmise/miniconda3/envs/flipml/lib/python3.10/site-packages/sklearn/svm/_base.py:1235: ConvergenceWarning: Liblinear failed to converge, increase the number of iterations.\n",
      "  warnings.warn(\n",
      "/Users/olaoluwatunmise/miniconda3/envs/flipml/lib/python3.10/site-packages/sklearn/svm/_base.py:1235: ConvergenceWarning: Liblinear failed to converge, increase the number of iterations.\n",
      "  warnings.warn(\n",
      "/Users/olaoluwatunmise/miniconda3/envs/flipml/lib/python3.10/site-packages/sklearn/svm/_base.py:1235: ConvergenceWarning: Liblinear failed to converge, increase the number of iterations.\n",
      "  warnings.warn(\n",
      "/Users/olaoluwatunmise/miniconda3/envs/flipml/lib/python3.10/site-packages/sklearn/svm/_base.py:1235: ConvergenceWarning: Liblinear failed to converge, increase the number of iterations.\n",
      "  warnings.warn(\n",
      "/Users/olaoluwatunmise/miniconda3/envs/flipml/lib/python3.10/site-packages/sklearn/svm/_base.py:1235: ConvergenceWarning: Liblinear failed to converge, increase the number of iterations.\n",
      "  warnings.warn(\n",
      "/Users/olaoluwatunmise/miniconda3/envs/flipml/lib/python3.10/site-packages/sklearn/svm/_base.py:1235: ConvergenceWarning: Liblinear failed to converge, increase the number of iterations.\n",
      "  warnings.warn(\n",
      "/Users/olaoluwatunmise/miniconda3/envs/flipml/lib/python3.10/site-packages/sklearn/svm/_base.py:1235: ConvergenceWarning: Liblinear failed to converge, increase the number of iterations.\n",
      "  warnings.warn(\n",
      "/Users/olaoluwatunmise/miniconda3/envs/flipml/lib/python3.10/site-packages/sklearn/svm/_base.py:1235: ConvergenceWarning: Liblinear failed to converge, increase the number of iterations.\n",
      "  warnings.warn(\n",
      "/Users/olaoluwatunmise/miniconda3/envs/flipml/lib/python3.10/site-packages/sklearn/svm/_base.py:1235: ConvergenceWarning: Liblinear failed to converge, increase the number of iterations.\n",
      "  warnings.warn(\n",
      "/Users/olaoluwatunmise/miniconda3/envs/flipml/lib/python3.10/site-packages/sklearn/svm/_base.py:1235: ConvergenceWarning: Liblinear failed to converge, increase the number of iterations.\n",
      "  warnings.warn(\n",
      "/Users/olaoluwatunmise/miniconda3/envs/flipml/lib/python3.10/site-packages/sklearn/svm/_base.py:1235: ConvergenceWarning: Liblinear failed to converge, increase the number of iterations.\n",
      "  warnings.warn(\n",
      "/Users/olaoluwatunmise/miniconda3/envs/flipml/lib/python3.10/site-packages/sklearn/svm/_base.py:1235: ConvergenceWarning: Liblinear failed to converge, increase the number of iterations.\n",
      "  warnings.warn(\n",
      "/Users/olaoluwatunmise/miniconda3/envs/flipml/lib/python3.10/site-packages/sklearn/svm/_base.py:1235: ConvergenceWarning: Liblinear failed to converge, increase the number of iterations.\n",
      "  warnings.warn(\n",
      "/Users/olaoluwatunmise/miniconda3/envs/flipml/lib/python3.10/site-packages/sklearn/svm/_base.py:1235: ConvergenceWarning: Liblinear failed to converge, increase the number of iterations.\n",
      "  warnings.warn(\n"
     ]
    },
    {
     "name": "stdout",
     "output_type": "stream",
     "text": [
      "Best Parameters (Random Search): {'solver': 'lbfgs', 'penalty': 'l2', 'max_iter': 300, 'C': np.float64(3792.690190732246)}\n",
      "Best Cross-Validation Accuracy (Random Search): 1.00\n",
      "\n",
      "Confusion Matrix (Tuned Model - Random Search):\n",
      "[[ 837    5    0]\n",
      " [   2 1554    0]\n",
      " [   1    0  608]]\n",
      "\n",
      "Classification Report (Tuned Model - Random Search):\n",
      "              precision    recall  f1-score   support\n",
      "\n",
      "           0       1.00      0.99      1.00       842\n",
      "           1       1.00      1.00      1.00      1556\n",
      "           2       1.00      1.00      1.00       609\n",
      "\n",
      "    accuracy                           1.00      3007\n",
      "   macro avg       1.00      1.00      1.00      3007\n",
      "weighted avg       1.00      1.00      1.00      3007\n",
      "\n",
      "\n",
      "Accuracy (Tuned Model - Random Search): 1.00\n"
     ]
    },
    {
     "name": "stderr",
     "output_type": "stream",
     "text": [
      "/Users/olaoluwatunmise/miniconda3/envs/flipml/lib/python3.10/site-packages/sklearn/svm/_base.py:1235: ConvergenceWarning: Liblinear failed to converge, increase the number of iterations.\n",
      "  warnings.warn(\n",
      "/Users/olaoluwatunmise/miniconda3/envs/flipml/lib/python3.10/site-packages/sklearn/model_selection/_validation.py:540: FitFailedWarning: \n",
      "75 fits failed out of a total of 250.\n",
      "The score on these train-test partitions for these parameters will be set to nan.\n",
      "If these failures are not expected, you can try to debug them by setting error_score='raise'.\n",
      "\n",
      "Below are more details about the failures:\n",
      "--------------------------------------------------------------------------------\n",
      "75 fits failed with the following error:\n",
      "Traceback (most recent call last):\n",
      "  File \"/Users/olaoluwatunmise/miniconda3/envs/flipml/lib/python3.10/site-packages/sklearn/model_selection/_validation.py\", line 888, in _fit_and_score\n",
      "    estimator.fit(X_train, y_train, **fit_params)\n",
      "  File \"/Users/olaoluwatunmise/miniconda3/envs/flipml/lib/python3.10/site-packages/sklearn/base.py\", line 1473, in wrapper\n",
      "    return fit_method(estimator, *args, **kwargs)\n",
      "  File \"/Users/olaoluwatunmise/miniconda3/envs/flipml/lib/python3.10/site-packages/sklearn/linear_model/_logistic.py\", line 1194, in fit\n",
      "    solver = _check_solver(self.solver, self.penalty, self.dual)\n",
      "  File \"/Users/olaoluwatunmise/miniconda3/envs/flipml/lib/python3.10/site-packages/sklearn/linear_model/_logistic.py\", line 67, in _check_solver\n",
      "    raise ValueError(\n",
      "ValueError: Solver lbfgs supports only 'l2' or None penalties, got l1 penalty.\n",
      "\n",
      "  warnings.warn(some_fits_failed_message, FitFailedWarning)\n",
      "/Users/olaoluwatunmise/miniconda3/envs/flipml/lib/python3.10/site-packages/sklearn/model_selection/_search.py:1103: UserWarning: One or more of the test scores are non-finite: [0.85663202 0.71509356        nan        nan 0.97322245 0.99226611\n",
      "        nan 0.88607069        nan 0.98960499        nan 0.99243243\n",
      " 0.92482328 0.99243243        nan 0.99359667        nan 0.63717256\n",
      " 0.99168399        nan 0.98519751 0.63717256 0.99692308 0.7245738\n",
      " 0.99226611 0.97397089 0.71509356        nan        nan        nan\n",
      " 0.97330561 0.99234927        nan 0.98794179 0.71559252        nan\n",
      " 0.99234927 0.93613306 0.93555094 0.9950104  0.9970894  0.98386694\n",
      "        nan 0.28407484 0.99226611 0.85081081        nan 0.7645738\n",
      " 0.98960499 0.8989605 ]\n",
      "  warnings.warn(\n"
     ]
    }
   ],
   "source": [
    "from sklearn.model_selection import RandomizedSearchCV\n",
    "import numpy as np\n",
    "\n",
    "# Define the parameter distribution\n",
    "param_distributions = {\n",
    "    'C': np.logspace(-4, 4, 20),  # Exponential range for regularization\n",
    "    'solver': ['liblinear', 'lbfgs'],\n",
    "    'penalty': ['l1', 'l2'],\n",
    "    'max_iter': [100, 200, 300]\n",
    "}\n",
    "\n",
    "# Initialize RandomizedSearchCV\n",
    "random_search = RandomizedSearchCV(\n",
    "    estimator=log_reg,\n",
    "    param_distributions=param_distributions,\n",
    "    n_iter=50,  # Number of parameter settings sampled\n",
    "    cv=5,\n",
    "    scoring='accuracy',\n",
    "    verbose=1,\n",
    "    n_jobs=-1,\n",
    "    random_state=42\n",
    ")\n",
    "\n",
    "# Fit the model to the training data\n",
    "random_search.fit(X_train, y_train)\n",
    "\n",
    "# Display best parameters and accuracy\n",
    "print(\"Best Parameters (Random Search):\", random_search.best_params_)\n",
    "print(f\"Best Cross-Validation Accuracy (Random Search): {random_search.best_score_:.2f}\")\n",
    "\n",
    "# Use the best estimator for predictions\n",
    "best_model_random = random_search.best_estimator_\n",
    "y_pred_random = best_model_random.predict(X_test)\n",
    "\n",
    "# Evaluate the tuned model\n",
    "print(\"\\nConfusion Matrix (Tuned Model - Random Search):\")\n",
    "print(confusion_matrix(y_test, y_pred_random))\n",
    "print(\"\\nClassification Report (Tuned Model - Random Search):\")\n",
    "print(classification_report(y_test, y_pred_random))\n",
    "print(f\"\\nAccuracy (Tuned Model - Random Search): {accuracy_score(y_test, y_pred_random):.2f}\")\n"
   ]
  },
  {
   "cell_type": "code",
   "execution_count": null,
   "metadata": {},
   "outputs": [],
   "source": []
  },
  {
   "cell_type": "code",
   "execution_count": null,
   "metadata": {},
   "outputs": [],
   "source": []
  },
  {
   "cell_type": "code",
   "execution_count": null,
   "metadata": {},
   "outputs": [],
   "source": []
  },
  {
   "cell_type": "code",
   "execution_count": null,
   "metadata": {},
   "outputs": [],
   "source": []
  },
  {
   "cell_type": "code",
   "execution_count": null,
   "metadata": {},
   "outputs": [],
   "source": []
  },
  {
   "cell_type": "code",
   "execution_count": null,
   "metadata": {},
   "outputs": [],
   "source": []
  },
  {
   "cell_type": "code",
   "execution_count": null,
   "metadata": {},
   "outputs": [],
   "source": []
  }
 ],
 "metadata": {
  "kernelspec": {
   "display_name": "flipml",
   "language": "python",
   "name": "python3"
  },
  "language_info": {
   "codemirror_mode": {
    "name": "ipython",
    "version": 3
   },
   "file_extension": ".py",
   "mimetype": "text/x-python",
   "name": "python",
   "nbconvert_exporter": "python",
   "pygments_lexer": "ipython3",
   "version": "3.10.9"
  }
 },
 "nbformat": 4,
 "nbformat_minor": 2
}
